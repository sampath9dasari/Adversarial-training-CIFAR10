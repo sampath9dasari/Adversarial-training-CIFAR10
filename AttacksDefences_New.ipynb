{
 "cells": [
  {
   "cell_type": "code",
   "execution_count": 2,
   "metadata": {},
   "outputs": [
    {
     "name": "stdout",
     "output_type": "stream",
     "text": [
      "Collecting git+https://github.com/nottombrown/imagenet_stubs\n",
      "  Cloning https://github.com/nottombrown/imagenet_stubs to /private/var/folders/fj/_ghtrmrs4sq75w4yjfz9ncv00000gn/T/pip-req-build-_jrj_os4\n",
      "  Running command git clone -q https://github.com/nottombrown/imagenet_stubs /private/var/folders/fj/_ghtrmrs4sq75w4yjfz9ncv00000gn/T/pip-req-build-_jrj_os4\n",
      "Requirement already satisfied (use --upgrade to upgrade): imagenet-stubs==0.0.7 from git+https://github.com/nottombrown/imagenet_stubs in /usr/local/anaconda3/envs/adver_tf1/lib/python3.6/site-packages\n",
      "Building wheels for collected packages: imagenet-stubs\n",
      "  Building wheel for imagenet-stubs (setup.py) ... \u001b[?25ldone\n",
      "\u001b[?25h  Created wheel for imagenet-stubs: filename=imagenet_stubs-0.0.7-py3-none-any.whl size=794838 sha256=4de12e03a1203ff5caa1346c0266b4640b554ef230ea89a0aa916298f4b7d1f4\n",
      "  Stored in directory: /private/var/folders/fj/_ghtrmrs4sq75w4yjfz9ncv00000gn/T/pip-ephem-wheel-cache-o5t5iqsp/wheels/64/e6/a3/53e4a13354406428112f1ae250f746f879b8e9ab55397fa2d1\n",
      "Successfully built imagenet-stubs\n"
     ]
    },
    {
     "ename": "ModuleNotFoundError",
     "evalue": "No module named 'lib'",
     "output_type": "error",
     "traceback": [
      "\u001b[0;31m---------------------------------------------------------------------------\u001b[0m",
      "\u001b[0;31mModuleNotFoundError\u001b[0m                       Traceback (most recent call last)",
      "\u001b[0;32m<ipython-input-2-2ff4695eae9f>\u001b[0m in \u001b[0;36m<module>\u001b[0;34m\u001b[0m\n\u001b[1;32m     20\u001b[0m \u001b[0;32mimport\u001b[0m \u001b[0mtensorflow\u001b[0m\u001b[0;34m.\u001b[0m\u001b[0mkeras\u001b[0m\u001b[0;34m.\u001b[0m\u001b[0mbackend\u001b[0m \u001b[0;32mas\u001b[0m \u001b[0mK\u001b[0m\u001b[0;34m\u001b[0m\u001b[0;34m\u001b[0m\u001b[0m\n\u001b[1;32m     21\u001b[0m \u001b[0;34m\u001b[0m\u001b[0m\n\u001b[0;32m---> 22\u001b[0;31m \u001b[0;32mfrom\u001b[0m \u001b[0mlib\u001b[0m\u001b[0;34m.\u001b[0m\u001b[0mdata_utils\u001b[0m \u001b[0;32mimport\u001b[0m \u001b[0;34m*\u001b[0m\u001b[0;34m\u001b[0m\u001b[0;34m\u001b[0m\u001b[0m\n\u001b[0m\u001b[1;32m     23\u001b[0m \u001b[0;34m\u001b[0m\u001b[0m\n\u001b[1;32m     24\u001b[0m \u001b[0;32mfrom\u001b[0m \u001b[0mart\u001b[0m\u001b[0;34m.\u001b[0m\u001b[0mclassifiers\u001b[0m \u001b[0;32mimport\u001b[0m \u001b[0mKerasClassifier\u001b[0m\u001b[0;34m\u001b[0m\u001b[0;34m\u001b[0m\u001b[0m\n",
      "\u001b[0;31mModuleNotFoundError\u001b[0m: No module named 'lib'"
     ]
    }
   ],
   "source": [
    "import sys\n",
    "!{sys.executable} -m pip install git+https://github.com/nottombrown/imagenet_stubs\n",
    "sys.path.append(\"../..\")\n",
    "\n",
    "import warnings\n",
    "warnings.filterwarnings('ignore',category=FutureWarning)\n",
    "warnings.filterwarnings('ignore', category=DeprecationWarning)\n",
    "\n",
    "import tensorflow as tf\n",
    "\n",
    "import os\n",
    "os.environ['TF_CPP_MIN_LOG_LEVEL'] = '2'\n",
    "\n",
    "import numpy as np\n",
    "import matplotlib.pyplot as plt\n",
    "import matplotlib.image as img\n",
    "%matplotlib inline\n",
    "\n",
    "import tensorflow_hub as thub\n",
    "import tensorflow.keras.backend as K\n",
    "\n",
    "from lib.data_utils import *\n",
    "\n",
    "from art.classifiers import KerasClassifier\n",
    "from art.attacks import FastGradientMethod\n",
    "import art"
   ]
  },
  {
   "cell_type": "code",
   "execution_count": 2,
   "metadata": {},
   "outputs": [],
   "source": [
    "def sample_by_class(data, labels, num_samples=100):\n",
    "    sample_data = []\n",
    "    sample_labels = []\n",
    "    unq_labels = list(range(labels.shape[1]))\n",
    "    for label in unq_labels:\n",
    "        idx = labels[:,label]==1\n",
    "        sample_set = data[idx][0:num_samples].copy()\n",
    "        label_set = labels[idx][0:num_samples].copy()\n",
    "        sample_data.append(sample_set)\n",
    "        sample_labels.append(label_set)\n",
    "    \n",
    "    sample_data = np.concatenate(sample_data)\n",
    "    sample_labels = np.concatenate(sample_labels)\n",
    "    print(sample_data.shape, sample_labels.shape)\n",
    "    return sample_data, sample_labels\n",
    "\n",
    "def subset_data(data, labels, fraction=5):\n",
    "    data_size = data.shape[0]\n",
    "    out_size = int(data_size*fraction/100)\n",
    "    idx = np.random.choice(data_size, out_size, replace=False)\n",
    "    out_data = data[idx].copy()\n",
    "    out_labels = labels[idx].copy()\n",
    "    \n",
    "    print(out_data.shape, out_labels.shape)\n",
    "    return out_data, out_labels"
   ]
  },
  {
   "cell_type": "code",
   "execution_count": 3,
   "metadata": {},
   "outputs": [
    {
     "name": "stdout",
     "output_type": "stream",
     "text": [
      "x_train shape: (50000, 32, 32, 3)\n",
      "50000 train samples\n",
      "10000 test samples\n"
     ]
    }
   ],
   "source": [
    "# Load the raw CIFAR-10 data\n",
    "cifar10_dir = 'lib/datasets/cifar-10-batches-py'\n",
    "x_train, y_train, x_test, y_test = load_cifar10(cifar10_dir)\n",
    "\n",
    "print('x_train shape:', x_train.shape)\n",
    "print(x_train.shape[0], 'train samples')\n",
    "print(x_test.shape[0], 'test samples')\n",
    "\n",
    "# Convert class vectors to binary class matrices.\n",
    "y_train = tf.keras.utils.to_categorical(y_train, 10)\n",
    "y_test = tf.keras.utils.to_categorical(y_test, 10)"
   ]
  },
  {
   "cell_type": "code",
   "execution_count": 4,
   "metadata": {},
   "outputs": [],
   "source": [
    "testd = x_train[0:1000].copy()\n",
    "testl = y_train[0:1000].copy()"
   ]
  },
  {
   "cell_type": "code",
   "execution_count": 5,
   "metadata": {},
   "outputs": [],
   "source": [
    "def build_ganeval_model():\n",
    "    K.clear_session()\n",
    "    model_url = \"https://tfhub.dev/deepmind/ganeval-cifar10-convnet/1\"\n",
    "    ganeval_module = thub.Module(model_url)\n",
    "    \n",
    "    model = tf.keras.Sequential()\n",
    "    model.add(tf.keras.layers.InputLayer(input_shape=(32,32,3)))\n",
    "    model.add(thub.KerasLayer(ganeval_module))\n",
    "    model.add(tf.keras.layers.Activation('softmax'))\n",
    "    \n",
    "    model.compile(optimizer=tf.keras.optimizers.SGD(lr=0.1, momentum=0.9, decay=1e-4),\n",
    "                  loss=tf.keras.losses.CategoricalCrossentropy(),\n",
    "                  metrics=['accuracy'])\n",
    "    \n",
    "    return model"
   ]
  },
  {
   "cell_type": "code",
   "execution_count": 6,
   "metadata": {},
   "outputs": [],
   "source": [
    "K.clear_session()\n",
    "model_url = \"https://tfhub.dev/deepmind/ganeval-cifar10-convnet/1\"\n",
    "\n",
    "ganeval_module = thub.Module(model_url)\n",
    "# gan_eval_layer = thub.KerasLayer(model_url)"
   ]
  },
  {
   "cell_type": "code",
   "execution_count": 7,
   "metadata": {},
   "outputs": [
    {
     "name": "stdout",
     "output_type": "stream",
     "text": [
      "1.15.0\n"
     ]
    }
   ],
   "source": [
    "print(tf.__version__)"
   ]
  },
  {
   "cell_type": "code",
   "execution_count": 8,
   "metadata": {},
   "outputs": [
    {
     "name": "stdout",
     "output_type": "stream",
     "text": [
      "INFO:tensorflow:Saver not created because there are no variables in the graph to restore\n"
     ]
    },
    {
     "name": "stderr",
     "output_type": "stream",
     "text": [
      "INFO:tensorflow:Saver not created because there are no variables in the graph to restore\n"
     ]
    }
   ],
   "source": [
    "ge_cifar_clf = tf.keras.Sequential()\n",
    "ge_cifar_clf.add(tf.keras.layers.InputLayer(input_shape=(32,32,3)))\n",
    "# gan_eval_model.add(gan_eval_layer)\n",
    "ge_cifar_clf.add(thub.KerasLayer(ganeval_module))\n",
    "ge_cifar_clf.add(tf.keras.layers.Activation('softmax'))"
   ]
  },
  {
   "cell_type": "code",
   "execution_count": 9,
   "metadata": {},
   "outputs": [
    {
     "name": "stdout",
     "output_type": "stream",
     "text": [
      "WARNING:tensorflow:From /Library/anaconda3/lib/python3.7/site-packages/tensorflow_core/python/ops/resource_variable_ops.py:1630: calling BaseResourceVariable.__init__ (from tensorflow.python.ops.resource_variable_ops) with constraint is deprecated and will be removed in a future version.\n",
      "Instructions for updating:\n",
      "If using Keras pass *_constraint arguments to layers.\n"
     ]
    },
    {
     "name": "stderr",
     "output_type": "stream",
     "text": [
      "WARNING:tensorflow:From /Library/anaconda3/lib/python3.7/site-packages/tensorflow_core/python/ops/resource_variable_ops.py:1630: calling BaseResourceVariable.__init__ (from tensorflow.python.ops.resource_variable_ops) with constraint is deprecated and will be removed in a future version.\n",
      "Instructions for updating:\n",
      "If using Keras pass *_constraint arguments to layers.\n"
     ]
    },
    {
     "name": "stdout",
     "output_type": "stream",
     "text": [
      "Model: \"sequential\"\n",
      "_________________________________________________________________\n",
      "Layer (type)                 Output Shape              Param #   \n",
      "=================================================================\n",
      "keras_layer (KerasLayer)     (None, 10)                7796426   \n",
      "_________________________________________________________________\n",
      "activation (Activation)      (None, 10)                0         \n",
      "=================================================================\n",
      "Total params: 7,796,426\n",
      "Trainable params: 0\n",
      "Non-trainable params: 7,796,426\n",
      "_________________________________________________________________\n"
     ]
    }
   ],
   "source": [
    "ge_cifar_clf.compile(optimizer=tf.keras.optimizers.SGD(lr=0.1, momentum=0.9, decay=1e-4),\n",
    "                       loss=tf.keras.losses.CategoricalCrossentropy(),\n",
    "                       metrics=['accuracy'])\n",
    "ge_cifar_clf.summary()"
   ]
  },
  {
   "cell_type": "code",
   "execution_count": 10,
   "metadata": {},
   "outputs": [
    {
     "name": "stdout",
     "output_type": "stream",
     "text": [
      "INFO:tensorflow:Saver not created because there are no variables in the graph to restore\n"
     ]
    },
    {
     "name": "stderr",
     "output_type": "stream",
     "text": [
      "INFO:tensorflow:Saver not created because there are no variables in the graph to restore\n"
     ]
    },
    {
     "name": "stdout",
     "output_type": "stream",
     "text": [
      "Model: \"sequential\"\n",
      "_________________________________________________________________\n",
      "Layer (type)                 Output Shape              Param #   \n",
      "=================================================================\n",
      "keras_layer (KerasLayer)     (None, 10)                7796426   \n",
      "_________________________________________________________________\n",
      "activation (Activation)      (None, 10)                0         \n",
      "=================================================================\n",
      "Total params: 7,796,426\n",
      "Trainable params: 0\n",
      "Non-trainable params: 7,796,426\n",
      "_________________________________________________________________\n"
     ]
    }
   ],
   "source": [
    "ge_cifar_clf = build_ganeval_model()\n",
    "ge_cifar_clf.summary()"
   ]
  },
  {
   "cell_type": "code",
   "execution_count": 31,
   "metadata": {},
   "outputs": [
    {
     "name": "stdout",
     "output_type": "stream",
     "text": [
      "INFO:tensorflow:Saver not created because there are no variables in the graph to restore\n"
     ]
    },
    {
     "name": "stderr",
     "output_type": "stream",
     "text": [
      "INFO:tensorflow:Saver not created because there are no variables in the graph to restore\n"
     ]
    }
   ],
   "source": [
    "# Another ge_cifar model with more layers\n",
    "\n",
    "K.clear_session()\n",
    "#model_url = \"https://tfhub.dev/deepmind/ganeval-cifar10-convnet/1\"\n",
    "\n",
    "ganeval_module_new = thub.Module(model_url)\n",
    "# gan_eval_layer = thub.KerasLayer(model_url)\n",
    "\n",
    "\n",
    "ge_cifar_new_clf = tf.keras.Sequential()\n",
    "ge_cifar_new_clf.add(tf.keras.layers.InputLayer(input_shape=(32,32,3)))\n",
    "ge_cifar_new_clf.add(thub.KerasLayer(ganeval_module_new))\n",
    "ge_cifar_new_clf.add(tf.keras.layers.Activation('softmax'))\n",
    "ge_cifar_new_clf.add(tf.keras.layers.Activation('relu'))"
   ]
  },
  {
   "cell_type": "code",
   "execution_count": 32,
   "metadata": {},
   "outputs": [
    {
     "name": "stdout",
     "output_type": "stream",
     "text": [
      "Model: \"sequential\"\n",
      "_________________________________________________________________\n",
      "Layer (type)                 Output Shape              Param #   \n",
      "=================================================================\n",
      "keras_layer (KerasLayer)     (None, 10)                7796426   \n",
      "_________________________________________________________________\n",
      "activation (Activation)      (None, 10)                0         \n",
      "_________________________________________________________________\n",
      "activation_1 (Activation)    (None, 10)                0         \n",
      "=================================================================\n",
      "Total params: 7,796,426\n",
      "Trainable params: 0\n",
      "Non-trainable params: 7,796,426\n",
      "_________________________________________________________________\n"
     ]
    }
   ],
   "source": [
    "ge_cifar_new_clf.summary()"
   ]
  },
  {
   "cell_type": "code",
   "execution_count": 35,
   "metadata": {},
   "outputs": [],
   "source": [
    "ge_cifar_new_clf.compile(optimizer=tf.keras.optimizers.SGD(lr=0.1, momentum=0.9, decay=1e-4),\n",
    "                  loss=tf.keras.losses.CategoricalCrossentropy(),\n",
    "                  metrics=['accuracy'])"
   ]
  },
  {
   "cell_type": "code",
   "execution_count": 36,
   "metadata": {},
   "outputs": [
    {
     "name": "stdout",
     "output_type": "stream",
     "text": [
      "1000/1000 [==============================] - 3s 3ms/sample - loss: 0.0017 - acc: 1.0000\n"
     ]
    },
    {
     "data": {
      "text/plain": [
       "[0.00166802722774446, 1.0]"
      ]
     },
     "execution_count": 36,
     "metadata": {},
     "output_type": "execute_result"
    }
   ],
   "source": [
    "ge_cifar_new_clf.evaluate(testd, testl)"
   ]
  },
  {
   "cell_type": "markdown",
   "metadata": {},
   "source": [
    "# Testing the retrieved hub model by evaluating on train data\n",
    "Should give us 100% or something close to that"
   ]
  },
  {
   "cell_type": "code",
   "execution_count": 11,
   "metadata": {},
   "outputs": [
    {
     "name": "stdout",
     "output_type": "stream",
     "text": [
      "1000/1000 [==============================] - 3s 3ms/sample - loss: 0.0017 - acc: 1.0000\n"
     ]
    },
    {
     "data": {
      "text/plain": [
       "[0.001668029203079641, 1.0]"
      ]
     },
     "execution_count": 11,
     "metadata": {},
     "output_type": "execute_result"
    }
   ],
   "source": [
    "ge_cifar_clf.evaluate(testd, testl)"
   ]
  },
  {
   "cell_type": "markdown",
   "metadata": {},
   "source": [
    "# Testing a sample attack"
   ]
  },
  {
   "cell_type": "code",
   "execution_count": 12,
   "metadata": {},
   "outputs": [],
   "source": [
    "from art.attacks import FastGradientMethod\n",
    "\n",
    "classifier = KerasClassifier(model=ge_cifar_clf, clip_values=(0, 1), use_logits=False)\n",
    "attack_fgsm = FastGradientMethod(classifier=classifier, eps=0.4)"
   ]
  },
  {
   "cell_type": "code",
   "execution_count": 13,
   "metadata": {},
   "outputs": [],
   "source": [
    "x_test_adv = attack_fgsm.generate(testd.copy())"
   ]
  },
  {
   "cell_type": "code",
   "execution_count": 14,
   "metadata": {},
   "outputs": [
    {
     "name": "stdout",
     "output_type": "stream",
     "text": [
      "1000/1000 [==============================] - 3s 3ms/sample - loss: 6.9334 - acc: 0.1020\n"
     ]
    },
    {
     "data": {
      "text/plain": [
       "[6.933382461547851, 0.102]"
      ]
     },
     "execution_count": 14,
     "metadata": {},
     "output_type": "execute_result"
    }
   ],
   "source": [
    "ge_cifar_clf.evaluate(x_test_adv, testl)"
   ]
  },
  {
   "cell_type": "markdown",
   "metadata": {},
   "source": [
    "# Define the substitute classifier for our model"
   ]
  },
  {
   "cell_type": "code",
   "execution_count": 15,
   "metadata": {},
   "outputs": [],
   "source": [
    "from tensorflow.keras.layers import Conv2D, MaxPooling2D, Dropout, Flatten, Dense"
   ]
  },
  {
   "cell_type": "code",
   "execution_count": 16,
   "metadata": {},
   "outputs": [],
   "source": [
    "def build_substitute_model():\n",
    "    model = tf.keras.Sequential( )\n",
    "    model.add( Conv2D( 32, kernel_size=(3, 3), padding='same', activation='relu', input_shape=(32,32,3) ) )\n",
    "    model.add( Conv2D( 64, (3, 3), padding='same', activation='relu' ) )\n",
    "    model.add( MaxPooling2D( pool_size=(2, 2) ) )\n",
    "    model.add( Flatten( ) )\n",
    "    model.add( Dense( 128, activation='relu' ) )\n",
    "    model.add( Dense(10, activation='softmax' ) )\n",
    "    \n",
    "    model.compile(loss=tf.keras.losses.CategoricalCrossentropy(),\n",
    "                  optimizer='adam',\n",
    "                  metrics=[ 'accuracy' ] )\n",
    "    \n",
    "    return model"
   ]
  },
  {
   "cell_type": "code",
   "execution_count": 20,
   "metadata": {},
   "outputs": [
    {
     "name": "stdout",
     "output_type": "stream",
     "text": [
      "Model: \"sequential_1\"\n",
      "_________________________________________________________________\n",
      "Layer (type)                 Output Shape              Param #   \n",
      "=================================================================\n",
      "conv2d (Conv2D)              (None, 32, 32, 32)        896       \n",
      "_________________________________________________________________\n",
      "conv2d_1 (Conv2D)            (None, 32, 32, 64)        18496     \n",
      "_________________________________________________________________\n",
      "max_pooling2d (MaxPooling2D) (None, 16, 16, 64)        0         \n",
      "_________________________________________________________________\n",
      "flatten (Flatten)            (None, 16384)             0         \n",
      "_________________________________________________________________\n",
      "dense (Dense)                (None, 128)               2097280   \n",
      "_________________________________________________________________\n",
      "dense_1 (Dense)              (None, 10)                1290      \n",
      "=================================================================\n",
      "Total params: 2,117,962\n",
      "Trainable params: 2,117,962\n",
      "Non-trainable params: 0\n",
      "_________________________________________________________________\n"
     ]
    }
   ],
   "source": [
    "sub_clf = build_substitute_model()\n",
    "\n",
    "sub_clf.summary( )"
   ]
  },
  {
   "cell_type": "code",
   "execution_count": 21,
   "metadata": {},
   "outputs": [
    {
     "name": "stdout",
     "output_type": "stream",
     "text": [
      "(1000, 32, 32, 3) (1000, 10)\n",
      "(1000, 32, 32, 3) (1000, 10)\n"
     ]
    }
   ],
   "source": [
    "x_train_adv, y_train_adv = sample_by_class(x_train, y_train, num_samples=100)\n",
    "x_test_adv, y_test_adv = sample_by_class(x_test, y_test, num_samples=100)"
   ]
  },
  {
   "cell_type": "code",
   "execution_count": 22,
   "metadata": {},
   "outputs": [
    {
     "name": "stdout",
     "output_type": "stream",
     "text": [
      "(7500, 32, 32, 3) (7500, 10)\n"
     ]
    }
   ],
   "source": [
    "partial_x_train, partial_y_train = subset_data(x_train, y_train, fraction=15)"
   ]
  },
  {
   "cell_type": "code",
   "execution_count": 23,
   "metadata": {},
   "outputs": [],
   "source": [
    "cloud_clf = KerasClassifier(model=ge_cifar_clf, clip_values=(0, 1), use_logits=False)\n",
    "extracted_art_clf = KerasClassifier(model=sub_clf, clip_values=(0, 1), use_logits=False)"
   ]
  },
  {
   "cell_type": "code",
   "execution_count": 25,
   "metadata": {},
   "outputs": [],
   "source": [
    "from art.attacks.extraction import CopycatCNN, FunctionallyEquivalentExtraction, KnockoffNets\n",
    "\n",
    "attack_CCC = CopycatCNN(classifier=cloud_clf, \n",
    "                        batch_size_fit=8, \n",
    "                        batch_size_query=8,\n",
    "                        nb_epochs=20,\n",
    "                        nb_stolen=1000)"
   ]
  },
  {
   "cell_type": "code",
   "execution_count": 26,
   "metadata": {},
   "outputs": [
    {
     "name": "stderr",
     "output_type": "stream",
     "text": [
      "WARNING:art.attacks.extraction.copycat_cnn:This attack does not use the provided label y.\n"
     ]
    },
    {
     "name": "stdout",
     "output_type": "stream",
     "text": [
      "Epoch 1/20\n",
      "125/125 [==============================] - 3s 20ms/step - loss: 2.1702 - acc: 0.2100\n",
      "Epoch 2/20\n",
      "125/125 [==============================] - 2s 15ms/step - loss: 1.7718 - acc: 0.3440\n",
      "Epoch 3/20\n",
      "125/125 [==============================] - 2s 16ms/step - loss: 1.4329 - acc: 0.5080\n",
      "Epoch 4/20\n",
      "125/125 [==============================] - 2s 17ms/step - loss: 1.0283 - acc: 0.6740\n",
      "Epoch 5/20\n",
      "125/125 [==============================] - 2s 16ms/step - loss: 0.7143 - acc: 0.7770\n",
      "Epoch 6/20\n",
      "125/125 [==============================] - 2s 16ms/step - loss: 0.4322 - acc: 0.8720\n",
      "Epoch 7/20\n",
      "125/125 [==============================] - 2s 17ms/step - loss: 0.3511 - acc: 0.9030\n",
      "Epoch 8/20\n",
      "125/125 [==============================] - 2s 17ms/step - loss: 0.2162 - acc: 0.9350\n",
      "Epoch 9/20\n",
      "125/125 [==============================] - 2s 16ms/step - loss: 0.1237 - acc: 0.9650\n",
      "Epoch 10/20\n",
      "125/125 [==============================] - 2s 16ms/step - loss: 0.0920 - acc: 0.9770\n",
      "Epoch 11/20\n",
      "125/125 [==============================] - 2s 17ms/step - loss: 0.0684 - acc: 0.9810\n",
      "Epoch 12/20\n",
      "125/125 [==============================] - 2s 16ms/step - loss: 0.0216 - acc: 0.9960\n",
      "Epoch 13/20\n",
      "125/125 [==============================] - 2s 16ms/step - loss: 0.0466 - acc: 0.9900\n",
      "Epoch 14/20\n",
      "125/125 [==============================] - 2s 17ms/step - loss: 0.0182 - acc: 0.9970\n",
      "Epoch 15/20\n",
      "125/125 [==============================] - 2s 16ms/step - loss: 0.0133 - acc: 0.9960\n",
      "Epoch 16/20\n",
      "125/125 [==============================] - 2s 16ms/step - loss: 0.0134 - acc: 0.9990\n",
      "Epoch 17/20\n",
      "125/125 [==============================] - 2s 17ms/step - loss: 0.0023 - acc: 1.0000\n",
      "Epoch 18/20\n",
      "125/125 [==============================] - 2s 16ms/step - loss: 0.0011 - acc: 1.0000\n",
      "Epoch 19/20\n",
      "125/125 [==============================] - 2s 17ms/step - loss: 0.0127 - acc: 0.9980\n",
      "Epoch 20/20\n",
      "125/125 [==============================] - 2s 17ms/step - loss: 0.1129 - acc: 0.9680\n"
     ]
    },
    {
     "data": {
      "text/plain": [
       "art.classifiers.keras.KerasClassifier(model=<tensorflow.python.keras.engine.sequential.Sequential object at 0x14317a828>, use_logits=False, channel_index=3, clip_values=(0, 1), preprocessing_defences=None, postprocessing_defences=None, preprocessing=(0, 1), input_layer=0, output_layer=0)"
      ]
     },
     "execution_count": 26,
     "metadata": {},
     "output_type": "execute_result"
    }
   ],
   "source": [
    "attack_CCC.extract(partial_x_train, partial_y_train, thieved_classifier=extracted_art_clf)"
   ]
  },
  {
   "cell_type": "code",
   "execution_count": 28,
   "metadata": {},
   "outputs": [
    {
     "name": "stdout",
     "output_type": "stream",
     "text": [
      "1000/1000 [==============================] - 2s 2ms/sample - loss: 0.0017 - acc: 1.0000\n",
      "1000/1000 [==============================] - 0s 350us/sample - loss: 3.6477 - acc: 0.3800\n"
     ]
    },
    {
     "data": {
      "text/plain": [
       "[3.6476968822479248, 0.38]"
      ]
     },
     "execution_count": 28,
     "metadata": {},
     "output_type": "execute_result"
    }
   ],
   "source": [
    "cloud_clf._model.evaluate(x_train_adv, y_train_adv)\n",
    "extracted_art_clf._model.evaluate(x_train_adv, y_train_adv)"
   ]
  },
  {
   "cell_type": "code",
   "execution_count": 29,
   "metadata": {},
   "outputs": [
    {
     "name": "stdout",
     "output_type": "stream",
     "text": [
      "1000/1000 [==============================] - 2s 2ms/sample - loss: 0.2134 - acc: 0.9440\n",
      "1000/1000 [==============================] - 0s 254us/sample - loss: 3.4995 - acc: 0.3790\n"
     ]
    },
    {
     "data": {
      "text/plain": [
       "[3.4995197010040284, 0.379]"
      ]
     },
     "execution_count": 29,
     "metadata": {},
     "output_type": "execute_result"
    }
   ],
   "source": [
    "cloud_clf._model.evaluate(x_test_adv, y_test_adv)\n",
    "extracted_art_clf._model.evaluate(x_test_adv, y_test_adv)"
   ]
  },
  {
   "cell_type": "code",
   "execution_count": null,
   "metadata": {},
   "outputs": [],
   "source": []
  },
  {
   "cell_type": "code",
   "execution_count": null,
   "metadata": {},
   "outputs": [],
   "source": []
  },
  {
   "cell_type": "code",
   "execution_count": null,
   "metadata": {},
   "outputs": [],
   "source": []
  },
  {
   "cell_type": "markdown",
   "metadata": {},
   "source": [
    "# Attacks"
   ]
  },
  {
   "cell_type": "markdown",
   "metadata": {},
   "source": [
    "# Pixel Attack"
   ]
  },
  {
   "cell_type": "code",
   "execution_count": 38,
   "metadata": {},
   "outputs": [
    {
     "name": "stdout",
     "output_type": "stream",
     "text": [
      "WARNING:tensorflow:From /Library/anaconda3/lib/python3.7/site-packages/tensorflow_core/python/ops/math_grad.py:1424: where (from tensorflow.python.ops.array_ops) is deprecated and will be removed in a future version.\n",
      "Instructions for updating:\n",
      "Use tf.where in 2.0, which has the same broadcast rule as np.where\n"
     ]
    },
    {
     "name": "stderr",
     "output_type": "stream",
     "text": [
      "WARNING:tensorflow:From /Library/anaconda3/lib/python3.7/site-packages/tensorflow_core/python/ops/math_grad.py:1424: where (from tensorflow.python.ops.array_ops) is deprecated and will be removed in a future version.\n",
      "Instructions for updating:\n",
      "Use tf.where in 2.0, which has the same broadcast rule as np.where\n"
     ]
    }
   ],
   "source": [
    "from art.attacks.evasion import PixelAttack\n",
    "pixelA_clf = KerasClassifier(model=ge_cifar_new_clf, clip_values=(0, 1), use_logits=False)"
   ]
  },
  {
   "cell_type": "code",
   "execution_count": 39,
   "metadata": {},
   "outputs": [],
   "source": [
    "pixel_attack = PixelAttack(classifier = pixelA_clf, \n",
    "                         th=None, es=1, targeted=False, verbose=False)"
   ]
  },
  {
   "cell_type": "code",
   "execution_count": 40,
   "metadata": {},
   "outputs": [
    {
     "name": "stderr",
     "output_type": "stream",
     "text": [
      "/Library/anaconda3/lib/python3.7/site-packages/art/attacks/evasion/pixel_threshold.py:1136: RuntimeWarning: divide by zero encountered in double_scalars\n",
      "  and self.callback(self._scale_parameters(self.population[0]), convergence=self.tol / convergence)\n"
     ]
    }
   ],
   "source": [
    "x_test_adv_pixel = pixel_attack.generate(np.array(x_train_adv[:10].copy()))"
   ]
  },
  {
   "cell_type": "code",
   "execution_count": 41,
   "metadata": {},
   "outputs": [
    {
     "name": "stdout",
     "output_type": "stream",
     "text": [
      "\r",
      "10/10 [==============================] - 0s 4ms/sample - loss: 16.1181 - acc: 0.0000e+00\n"
     ]
    },
    {
     "data": {
      "text/plain": [
       "[16.11809539794922, 0.0]"
      ]
     },
     "execution_count": 41,
     "metadata": {},
     "output_type": "execute_result"
    }
   ],
   "source": [
    "ge_cifar_new_clf.evaluate(x_test_adv_pixel, np.array(y_train_adv[:10]))"
   ]
  },
  {
   "cell_type": "markdown",
   "metadata": {},
   "source": [
    "# Threshold Attack"
   ]
  },
  {
   "cell_type": "code",
   "execution_count": 42,
   "metadata": {},
   "outputs": [],
   "source": [
    "from art.attacks.evasion import ThresholdAttack\n",
    "thresholdA_clf = KerasClassifier(model=ge_cifar_new_clf, clip_values=(0, 1), use_logits=False)"
   ]
  },
  {
   "cell_type": "code",
   "execution_count": 132,
   "metadata": {},
   "outputs": [],
   "source": [
    "threshold_attack = ThresholdAttack(classifier = thresholdA_clf, es=1, targeted=False, verbose=False)\n",
    "# classifier, th=None, es=0, targeted=False, verbose=False"
   ]
  },
  {
   "cell_type": "code",
   "execution_count": 133,
   "metadata": {},
   "outputs": [
    {
     "ename": "KeyboardInterrupt",
     "evalue": "",
     "output_type": "error",
     "traceback": [
      "\u001b[0;31m---------------------------------------------------------------------------\u001b[0m",
      "\u001b[0;31mKeyboardInterrupt\u001b[0m                         Traceback (most recent call last)",
      "\u001b[0;32m<ipython-input-133-e982042964d8>\u001b[0m in \u001b[0;36m<module>\u001b[0;34m\u001b[0m\n\u001b[0;32m----> 1\u001b[0;31m \u001b[0mx_test_adv_threshold\u001b[0m \u001b[0;34m=\u001b[0m \u001b[0mthreshold_attack\u001b[0m\u001b[0;34m.\u001b[0m\u001b[0mgenerate\u001b[0m\u001b[0;34m(\u001b[0m\u001b[0mx_train_adv\u001b[0m\u001b[0;34m[\u001b[0m\u001b[0;34m:\u001b[0m\u001b[0;36m10\u001b[0m\u001b[0;34m]\u001b[0m\u001b[0;34m.\u001b[0m\u001b[0mcopy\u001b[0m\u001b[0;34m(\u001b[0m\u001b[0;34m)\u001b[0m\u001b[0;34m)\u001b[0m\u001b[0;34m\u001b[0m\u001b[0;34m\u001b[0m\u001b[0m\n\u001b[0m",
      "\u001b[0;32m/Library/anaconda3/lib/python3.7/site-packages/art/attacks/attack.py\u001b[0m in \u001b[0;36mreplacement_function\u001b[0;34m(self, *args, **kwargs)\u001b[0m\n\u001b[1;32m     68\u001b[0m                 \u001b[0;32mif\u001b[0m \u001b[0mlen\u001b[0m\u001b[0;34m(\u001b[0m\u001b[0margs\u001b[0m\u001b[0;34m)\u001b[0m \u001b[0;34m>\u001b[0m \u001b[0;36m0\u001b[0m\u001b[0;34m:\u001b[0m\u001b[0;34m\u001b[0m\u001b[0;34m\u001b[0m\u001b[0m\n\u001b[1;32m     69\u001b[0m                     \u001b[0margs\u001b[0m \u001b[0;34m=\u001b[0m \u001b[0mtuple\u001b[0m\u001b[0;34m(\u001b[0m\u001b[0mlst\u001b[0m\u001b[0;34m)\u001b[0m\u001b[0;34m\u001b[0m\u001b[0;34m\u001b[0m\u001b[0m\n\u001b[0;32m---> 70\u001b[0;31m                 \u001b[0;32mreturn\u001b[0m \u001b[0mfdict\u001b[0m\u001b[0;34m[\u001b[0m\u001b[0mfunc_name\u001b[0m\u001b[0;34m]\u001b[0m\u001b[0;34m(\u001b[0m\u001b[0mself\u001b[0m\u001b[0;34m,\u001b[0m \u001b[0;34m*\u001b[0m\u001b[0margs\u001b[0m\u001b[0;34m,\u001b[0m \u001b[0;34m**\u001b[0m\u001b[0mkwargs\u001b[0m\u001b[0;34m)\u001b[0m\u001b[0;34m\u001b[0m\u001b[0;34m\u001b[0m\u001b[0m\n\u001b[0m\u001b[1;32m     71\u001b[0m \u001b[0;34m\u001b[0m\u001b[0m\n\u001b[1;32m     72\u001b[0m             \u001b[0mreplacement_function\u001b[0m\u001b[0;34m.\u001b[0m\u001b[0m__doc__\u001b[0m \u001b[0;34m=\u001b[0m \u001b[0mfdict\u001b[0m\u001b[0;34m[\u001b[0m\u001b[0mfunc_name\u001b[0m\u001b[0;34m]\u001b[0m\u001b[0;34m.\u001b[0m\u001b[0m__doc__\u001b[0m\u001b[0;34m\u001b[0m\u001b[0;34m\u001b[0m\u001b[0m\n",
      "\u001b[0;32m/Library/anaconda3/lib/python3.7/site-packages/art/attacks/evasion/pixel_threshold.py\u001b[0m in \u001b[0;36mgenerate\u001b[0;34m(self, x, y, maxiter, **kwargs)\u001b[0m\n\u001b[1;32m    149\u001b[0m                     \u001b[0mimage_result\u001b[0m \u001b[0;34m=\u001b[0m \u001b[0;34m[\u001b[0m\u001b[0;34m]\u001b[0m\u001b[0;34m\u001b[0m\u001b[0;34m\u001b[0m\u001b[0m\n\u001b[1;32m    150\u001b[0m                     \u001b[0mthreshold\u001b[0m \u001b[0;34m=\u001b[0m \u001b[0;34m(\u001b[0m\u001b[0mstart\u001b[0m \u001b[0;34m+\u001b[0m \u001b[0mend\u001b[0m\u001b[0;34m)\u001b[0m \u001b[0;34m//\u001b[0m \u001b[0;36m2\u001b[0m\u001b[0;34m\u001b[0m\u001b[0;34m\u001b[0m\u001b[0m\n\u001b[0;32m--> 151\u001b[0;31m                     \u001b[0msuccess\u001b[0m\u001b[0;34m,\u001b[0m \u001b[0mtrial_image_result\u001b[0m \u001b[0;34m=\u001b[0m \u001b[0mself\u001b[0m\u001b[0;34m.\u001b[0m\u001b[0m_attack\u001b[0m\u001b[0;34m(\u001b[0m\u001b[0mimage\u001b[0m\u001b[0;34m,\u001b[0m \u001b[0mtarget_class\u001b[0m\u001b[0;34m,\u001b[0m \u001b[0mthreshold\u001b[0m\u001b[0;34m,\u001b[0m \u001b[0mmaxiter\u001b[0m\u001b[0;34m)\u001b[0m\u001b[0;34m\u001b[0m\u001b[0;34m\u001b[0m\u001b[0m\n\u001b[0m\u001b[1;32m    152\u001b[0m                     \u001b[0;32mif\u001b[0m \u001b[0mimage_result\u001b[0m \u001b[0;32mor\u001b[0m \u001b[0msuccess\u001b[0m\u001b[0;34m:\u001b[0m\u001b[0;34m\u001b[0m\u001b[0;34m\u001b[0m\u001b[0m\n\u001b[1;32m    153\u001b[0m                         \u001b[0mimage_result\u001b[0m \u001b[0;34m=\u001b[0m \u001b[0mtrial_image_result\u001b[0m\u001b[0;34m\u001b[0m\u001b[0;34m\u001b[0m\u001b[0m\n",
      "\u001b[0;32m/Library/anaconda3/lib/python3.7/site-packages/art/attacks/evasion/pixel_threshold.py\u001b[0m in \u001b[0;36m_attack\u001b[0;34m(self, image, target_class, limit, maxiter)\u001b[0m\n\u001b[1;32m    251\u001b[0m                 \u001b[0matol\u001b[0m\u001b[0;34m=\u001b[0m\u001b[0;34m-\u001b[0m\u001b[0;36m1\u001b[0m\u001b[0;34m,\u001b[0m\u001b[0;34m\u001b[0m\u001b[0;34m\u001b[0m\u001b[0m\n\u001b[1;32m    252\u001b[0m                 \u001b[0mcallback\u001b[0m\u001b[0;34m=\u001b[0m\u001b[0mcallback_fn\u001b[0m\u001b[0;34m,\u001b[0m\u001b[0;34m\u001b[0m\u001b[0;34m\u001b[0m\u001b[0m\n\u001b[0;32m--> 253\u001b[0;31m                 \u001b[0mpolish\u001b[0m\u001b[0;34m=\u001b[0m\u001b[0;32mFalse\u001b[0m\u001b[0;34m,\u001b[0m\u001b[0;34m\u001b[0m\u001b[0;34m\u001b[0m\u001b[0m\n\u001b[0m\u001b[1;32m    254\u001b[0m             )\n\u001b[1;32m    255\u001b[0m             \u001b[0madv_x\u001b[0m \u001b[0;34m=\u001b[0m \u001b[0mstrategy\u001b[0m\u001b[0;34m.\u001b[0m\u001b[0mx\u001b[0m\u001b[0;34m\u001b[0m\u001b[0;34m\u001b[0m\u001b[0m\n",
      "\u001b[0;32m/Library/anaconda3/lib/python3.7/site-packages/art/attacks/evasion/pixel_threshold.py\u001b[0m in \u001b[0;36mdifferential_evolution\u001b[0;34m(func, bounds, args, strategy, maxiter, popsize, tol, mutation, recombination, seed, callback, disp, polish, init, atol)\u001b[0m\n\u001b[1;32m    755\u001b[0m         \u001b[0matol\u001b[0m\u001b[0;34m=\u001b[0m\u001b[0matol\u001b[0m\u001b[0;34m,\u001b[0m\u001b[0;34m\u001b[0m\u001b[0;34m\u001b[0m\u001b[0m\n\u001b[1;32m    756\u001b[0m     )\n\u001b[0;32m--> 757\u001b[0;31m     \u001b[0;32mreturn\u001b[0m \u001b[0msolver\u001b[0m\u001b[0;34m.\u001b[0m\u001b[0msolve\u001b[0m\u001b[0;34m(\u001b[0m\u001b[0;34m)\u001b[0m\u001b[0;34m\u001b[0m\u001b[0;34m\u001b[0m\u001b[0m\n\u001b[0m\u001b[1;32m    758\u001b[0m \u001b[0;34m\u001b[0m\u001b[0m\n\u001b[1;32m    759\u001b[0m \u001b[0;34m\u001b[0m\u001b[0m\n",
      "\u001b[0;32m/Library/anaconda3/lib/python3.7/site-packages/art/attacks/evasion/pixel_threshold.py\u001b[0m in \u001b[0;36msolve\u001b[0;34m(self)\u001b[0m\n\u001b[1;32m   1120\u001b[0m             \u001b[0;31m# evolve the population by a generation\u001b[0m\u001b[0;34m\u001b[0m\u001b[0;34m\u001b[0m\u001b[0;34m\u001b[0m\u001b[0m\n\u001b[1;32m   1121\u001b[0m             \u001b[0;32mtry\u001b[0m\u001b[0;34m:\u001b[0m\u001b[0;34m\u001b[0m\u001b[0;34m\u001b[0m\u001b[0m\n\u001b[0;32m-> 1122\u001b[0;31m                 \u001b[0mnext\u001b[0m\u001b[0;34m(\u001b[0m\u001b[0mself\u001b[0m\u001b[0;34m)\u001b[0m\u001b[0;34m\u001b[0m\u001b[0;34m\u001b[0m\u001b[0m\n\u001b[0m\u001b[1;32m   1123\u001b[0m             \u001b[0;32mexcept\u001b[0m \u001b[0mStopIteration\u001b[0m\u001b[0;34m:\u001b[0m\u001b[0;34m\u001b[0m\u001b[0;34m\u001b[0m\u001b[0m\n\u001b[1;32m   1124\u001b[0m                 \u001b[0mwarning_flag\u001b[0m \u001b[0;34m=\u001b[0m \u001b[0;32mTrue\u001b[0m\u001b[0;34m\u001b[0m\u001b[0;34m\u001b[0m\u001b[0m\n",
      "\u001b[0;32m/Library/anaconda3/lib/python3.7/site-packages/art/attacks/evasion/pixel_threshold.py\u001b[0m in \u001b[0;36m__next__\u001b[0;34m(self)\u001b[0m\n\u001b[1;32m   1242\u001b[0m             \u001b[0mself\u001b[0m\u001b[0;34m.\u001b[0m\u001b[0m_ensure_constraint\u001b[0m\u001b[0;34m(\u001b[0m\u001b[0mtrial\u001b[0m\u001b[0;34m)\u001b[0m\u001b[0;34m\u001b[0m\u001b[0;34m\u001b[0m\u001b[0m\n\u001b[1;32m   1243\u001b[0m         \u001b[0mparameters\u001b[0m \u001b[0;34m=\u001b[0m \u001b[0mnp\u001b[0m\u001b[0;34m.\u001b[0m\u001b[0marray\u001b[0m\u001b[0;34m(\u001b[0m\u001b[0;34m[\u001b[0m\u001b[0mself\u001b[0m\u001b[0;34m.\u001b[0m\u001b[0m_scale_parameters\u001b[0m\u001b[0;34m(\u001b[0m\u001b[0mtrial\u001b[0m\u001b[0;34m)\u001b[0m \u001b[0;32mfor\u001b[0m \u001b[0mtrial\u001b[0m \u001b[0;32min\u001b[0m \u001b[0mtrials\u001b[0m\u001b[0;34m]\u001b[0m\u001b[0;34m)\u001b[0m\u001b[0;34m\u001b[0m\u001b[0;34m\u001b[0m\u001b[0m\n\u001b[0;32m-> 1244\u001b[0;31m         \u001b[0menergies\u001b[0m \u001b[0;34m=\u001b[0m \u001b[0mself\u001b[0m\u001b[0;34m.\u001b[0m\u001b[0mfunc\u001b[0m\u001b[0;34m(\u001b[0m\u001b[0mparameters\u001b[0m\u001b[0;34m,\u001b[0m \u001b[0;34m*\u001b[0m\u001b[0mself\u001b[0m\u001b[0;34m.\u001b[0m\u001b[0margs\u001b[0m\u001b[0;34m)\u001b[0m\u001b[0;34m\u001b[0m\u001b[0;34m\u001b[0m\u001b[0m\n\u001b[0m\u001b[1;32m   1245\u001b[0m         \u001b[0mself\u001b[0m\u001b[0;34m.\u001b[0m\u001b[0m_nfev\u001b[0m \u001b[0;34m+=\u001b[0m \u001b[0mitersize\u001b[0m\u001b[0;34m\u001b[0m\u001b[0;34m\u001b[0m\u001b[0m\n\u001b[1;32m   1246\u001b[0m \u001b[0;34m\u001b[0m\u001b[0m\n",
      "\u001b[0;32m/Library/anaconda3/lib/python3.7/site-packages/art/attacks/evasion/pixel_threshold.py\u001b[0m in \u001b[0;36mpredict_fn\u001b[0;34m(x)\u001b[0m\n\u001b[1;32m    195\u001b[0m \u001b[0;34m\u001b[0m\u001b[0m\n\u001b[1;32m    196\u001b[0m         \u001b[0;32mdef\u001b[0m \u001b[0mpredict_fn\u001b[0m\u001b[0;34m(\u001b[0m\u001b[0mx\u001b[0m\u001b[0;34m)\u001b[0m\u001b[0;34m:\u001b[0m\u001b[0;34m\u001b[0m\u001b[0;34m\u001b[0m\u001b[0m\n\u001b[0;32m--> 197\u001b[0;31m             \u001b[0mpredictions\u001b[0m \u001b[0;34m=\u001b[0m \u001b[0mself\u001b[0m\u001b[0;34m.\u001b[0m\u001b[0mclassifier\u001b[0m\u001b[0;34m.\u001b[0m\u001b[0mpredict\u001b[0m\u001b[0;34m(\u001b[0m\u001b[0mself\u001b[0m\u001b[0;34m.\u001b[0m\u001b[0m_perturb_image\u001b[0m\u001b[0;34m(\u001b[0m\u001b[0mx\u001b[0m\u001b[0;34m,\u001b[0m \u001b[0mimage\u001b[0m\u001b[0;34m)\u001b[0m\u001b[0;34m)\u001b[0m\u001b[0;34m[\u001b[0m\u001b[0;34m:\u001b[0m\u001b[0;34m,\u001b[0m \u001b[0mtarget_class\u001b[0m\u001b[0;34m]\u001b[0m\u001b[0;34m\u001b[0m\u001b[0;34m\u001b[0m\u001b[0m\n\u001b[0m\u001b[1;32m    198\u001b[0m             \u001b[0;32mreturn\u001b[0m \u001b[0mpredictions\u001b[0m \u001b[0;32mif\u001b[0m \u001b[0;32mnot\u001b[0m \u001b[0mself\u001b[0m\u001b[0;34m.\u001b[0m\u001b[0mtargeted\u001b[0m \u001b[0;32melse\u001b[0m \u001b[0;36m1\u001b[0m \u001b[0;34m-\u001b[0m \u001b[0mpredictions\u001b[0m\u001b[0;34m\u001b[0m\u001b[0;34m\u001b[0m\u001b[0m\n\u001b[1;32m    199\u001b[0m \u001b[0;34m\u001b[0m\u001b[0m\n",
      "\u001b[0;32m/Library/anaconda3/lib/python3.7/site-packages/art/attacks/evasion/pixel_threshold.py\u001b[0m in \u001b[0;36m_perturb_image\u001b[0;34m(self, x, img)\u001b[0m\n\u001b[1;32m    381\u001b[0m                 \u001b[0mproduct\u001b[0m\u001b[0;34m(\u001b[0m\u001b[0mrange\u001b[0m\u001b[0;34m(\u001b[0m\u001b[0mimage\u001b[0m\u001b[0;34m.\u001b[0m\u001b[0mshape\u001b[0m\u001b[0;34m[\u001b[0m\u001b[0;34m-\u001b[0m\u001b[0;36m3\u001b[0m\u001b[0;34m]\u001b[0m\u001b[0;34m)\u001b[0m\u001b[0;34m,\u001b[0m \u001b[0mrange\u001b[0m\u001b[0;34m(\u001b[0m\u001b[0mimage\u001b[0m\u001b[0;34m.\u001b[0m\u001b[0mshape\u001b[0m\u001b[0;34m[\u001b[0m\u001b[0;34m-\u001b[0m\u001b[0;36m2\u001b[0m\u001b[0;34m]\u001b[0m\u001b[0;34m)\u001b[0m\u001b[0;34m,\u001b[0m \u001b[0mrange\u001b[0m\u001b[0;34m(\u001b[0m\u001b[0mimage\u001b[0m\u001b[0;34m.\u001b[0m\u001b[0mshape\u001b[0m\u001b[0;34m[\u001b[0m\u001b[0;34m-\u001b[0m\u001b[0;36m1\u001b[0m\u001b[0;34m]\u001b[0m\u001b[0;34m)\u001b[0m\u001b[0;34m)\u001b[0m\u001b[0;34m\u001b[0m\u001b[0;34m\u001b[0m\u001b[0m\n\u001b[1;32m    382\u001b[0m             ):\n\u001b[0;32m--> 383\u001b[0;31m                 \u001b[0mimage\u001b[0m\u001b[0;34m[\u001b[0m\u001b[0mi\u001b[0m\u001b[0;34m,\u001b[0m \u001b[0mj\u001b[0m\u001b[0;34m,\u001b[0m \u001b[0mk\u001b[0m\u001b[0;34m]\u001b[0m \u001b[0;34m=\u001b[0m \u001b[0madv\u001b[0m\u001b[0;34m[\u001b[0m\u001b[0mcount\u001b[0m\u001b[0;34m]\u001b[0m\u001b[0;34m\u001b[0m\u001b[0;34m\u001b[0m\u001b[0m\n\u001b[0m\u001b[1;32m    384\u001b[0m         \u001b[0;32mreturn\u001b[0m \u001b[0mimgs\u001b[0m\u001b[0;34m\u001b[0m\u001b[0;34m\u001b[0m\u001b[0m\n\u001b[1;32m    385\u001b[0m \u001b[0;34m\u001b[0m\u001b[0m\n",
      "\u001b[0;31mKeyboardInterrupt\u001b[0m: "
     ]
    }
   ],
   "source": [
    "x_test_adv_threshold = threshold_attack.generate(x_train_adv[:10].copy())"
   ]
  },
  {
   "cell_type": "code",
   "execution_count": null,
   "metadata": {},
   "outputs": [],
   "source": []
  },
  {
   "cell_type": "markdown",
   "metadata": {},
   "source": [
    "# HopSkipJump Attack - check"
   ]
  },
  {
   "cell_type": "code",
   "execution_count": 45,
   "metadata": {},
   "outputs": [],
   "source": [
    "from art.attacks.evasion import HopSkipJump\n",
    "hopSkipJump_clf = KerasClassifier(model=ge_cifar_new_clf, clip_values=(0, 1), use_logits=False)"
   ]
  },
  {
   "cell_type": "code",
   "execution_count": 46,
   "metadata": {},
   "outputs": [],
   "source": [
    "hopSkipJump_attack = HopSkipJump(classifier=hopSkipJump_clf, targeted=False, norm=2,\n",
    "                                 max_iter=50, max_eval=10000, init_eval=10, init_size=10)\n",
    "# classifier, targeted=False, norm=2, max_iter=50, max_eval=10000, init_eval=100, init_size=100"
   ]
  },
  {
   "cell_type": "code",
   "execution_count": 47,
   "metadata": {},
   "outputs": [],
   "source": [
    "x_test_adv_hopSkipJump = hopSkipJump_attack.generate(x_train_adv[:10].copy())"
   ]
  },
  {
   "cell_type": "code",
   "execution_count": 48,
   "metadata": {},
   "outputs": [
    {
     "name": "stdout",
     "output_type": "stream",
     "text": [
      "\r",
      "10/10 [==============================] - 0s 4ms/sample - loss: 1.0986 - acc: 0.0000e+00\n"
     ]
    },
    {
     "data": {
      "text/plain": [
       "[1.0985829830169678, 0.0]"
      ]
     },
     "execution_count": 48,
     "metadata": {},
     "output_type": "execute_result"
    }
   ],
   "source": [
    "ge_cifar_new_clf.evaluate(x_test_adv_hopSkipJump, y_train_adv[:10])"
   ]
  },
  {
   "cell_type": "code",
   "execution_count": null,
   "metadata": {},
   "outputs": [],
   "source": []
  },
  {
   "cell_type": "markdown",
   "metadata": {},
   "source": [
    "# Projected Gradient Descent (PGD)"
   ]
  },
  {
   "cell_type": "code",
   "execution_count": 49,
   "metadata": {},
   "outputs": [],
   "source": [
    "from art.attacks.evasion import ProjectedGradientDescent\n",
    "projectedGradientDescent_clf = KerasClassifier(model=ge_cifar_new_clf, clip_values=(0, 1), use_logits=False)"
   ]
  },
  {
   "cell_type": "code",
   "execution_count": 50,
   "metadata": {},
   "outputs": [],
   "source": [
    "pgd_attack = ProjectedGradientDescent(classifier=projectedGradientDescent_clf, eps=0.4)\n",
    "# classifier, norm=inf, eps=0.3, eps_step=0.1, max_iter=100, targeted=False, num_random_init=0, batch_size=1, random_eps=False"
   ]
  },
  {
   "cell_type": "code",
   "execution_count": 51,
   "metadata": {},
   "outputs": [],
   "source": [
    "x_test_adv_pgd = pgd_attack.generate(x_train_adv[:10].copy())"
   ]
  },
  {
   "cell_type": "code",
   "execution_count": 52,
   "metadata": {},
   "outputs": [
    {
     "name": "stdout",
     "output_type": "stream",
     "text": [
      "\r",
      "10/10 [==============================] - 0s 4ms/sample - loss: 16.1181 - acc: 0.0000e+00\n"
     ]
    },
    {
     "data": {
      "text/plain": [
       "[16.11809539794922, 0.0]"
      ]
     },
     "execution_count": 52,
     "metadata": {},
     "output_type": "execute_result"
    }
   ],
   "source": [
    "ge_cifar_new_clf.evaluate(x_test_adv_pgd, y_train_adv[:10])"
   ]
  },
  {
   "cell_type": "code",
   "execution_count": null,
   "metadata": {},
   "outputs": [],
   "source": []
  },
  {
   "cell_type": "markdown",
   "metadata": {},
   "source": [
    "# NewtonFool"
   ]
  },
  {
   "cell_type": "code",
   "execution_count": 53,
   "metadata": {},
   "outputs": [],
   "source": [
    "from art.attacks.evasion import NewtonFool\n",
    "newtonFool_clf = KerasClassifier(model=ge_cifar_new_clf, clip_values=(0, 1), use_logits=False)"
   ]
  },
  {
   "cell_type": "code",
   "execution_count": 54,
   "metadata": {},
   "outputs": [],
   "source": [
    "newtonFool_attack = NewtonFool(classifier=newtonFool_clf, max_iter=100, eta=0.01, batch_size=1)\n",
    "# classifier, max_iter=100, eta=0.01, batch_size=1"
   ]
  },
  {
   "cell_type": "code",
   "execution_count": 55,
   "metadata": {},
   "outputs": [],
   "source": [
    "x_test_adv_newtonFool = newtonFool_attack.generate(x_train_adv[:100].copy())"
   ]
  },
  {
   "cell_type": "code",
   "execution_count": 57,
   "metadata": {},
   "outputs": [
    {
     "name": "stdout",
     "output_type": "stream",
     "text": [
      "100/100 [==============================] - 0s 3ms/sample - loss: 2.4086 - acc: 0.0100\n"
     ]
    },
    {
     "data": {
      "text/plain": [
       "[2.408556547164917, 0.01]"
      ]
     },
     "execution_count": 57,
     "metadata": {},
     "output_type": "execute_result"
    }
   ],
   "source": [
    "ge_cifar_new_clf.evaluate(x_test_adv_newtonFool, y_train_adv[:100])"
   ]
  },
  {
   "cell_type": "code",
   "execution_count": null,
   "metadata": {},
   "outputs": [],
   "source": []
  },
  {
   "cell_type": "code",
   "execution_count": null,
   "metadata": {},
   "outputs": [],
   "source": []
  },
  {
   "cell_type": "markdown",
   "metadata": {},
   "source": [
    "# Elastic Net Attack"
   ]
  },
  {
   "cell_type": "code",
   "execution_count": 58,
   "metadata": {},
   "outputs": [],
   "source": [
    "from art.attacks.evasion import ElasticNet\n",
    "elasticNet_clf = KerasClassifier(model=ge_cifar_new_clf, clip_values=(0, 1), use_logits=False)"
   ]
  },
  {
   "cell_type": "code",
   "execution_count": 129,
   "metadata": {},
   "outputs": [],
   "source": [
    "elasticNet_attack = ElasticNet(classifier=elasticNet_clf, decision_rule='EN')\n",
    "# classifier, confidence=0.0, targeted=False, learning_rate=0.01, binary_search_steps=9, max_iter=100, beta=0.001, initial_const=0.001, batch_size=1, decision_rule='EN'"
   ]
  },
  {
   "cell_type": "code",
   "execution_count": 130,
   "metadata": {},
   "outputs": [],
   "source": [
    "x_test_adv_elasticNet = elasticNet_attack.generate(x_train_adv[:10].copy())"
   ]
  },
  {
   "cell_type": "code",
   "execution_count": 131,
   "metadata": {},
   "outputs": [
    {
     "name": "stdout",
     "output_type": "stream",
     "text": [
      "\r",
      "10/10 [==============================] - 0s 4ms/sample - loss: 3.3999 - acc: 0.0000e+00\n"
     ]
    },
    {
     "data": {
      "text/plain": [
       "[3.399890899658203, 0.0]"
      ]
     },
     "execution_count": 131,
     "metadata": {},
     "output_type": "execute_result"
    }
   ],
   "source": [
    "ge_cifar_new_clf.evaluate(x_test_adv_elasticNet, y_train_adv[:10])"
   ]
  },
  {
   "cell_type": "code",
   "execution_count": null,
   "metadata": {},
   "outputs": [],
   "source": []
  },
  {
   "cell_type": "markdown",
   "metadata": {},
   "source": [
    "# Spatial transformation attack"
   ]
  },
  {
   "cell_type": "code",
   "execution_count": 61,
   "metadata": {},
   "outputs": [],
   "source": [
    "from art.attacks.evasion import SpatialTransformation\n",
    "spatialT_clf = KerasClassifier(model=ge_cifar_new_clf, clip_values=(0, 1), use_logits=False)"
   ]
  },
  {
   "cell_type": "code",
   "execution_count": 62,
   "metadata": {},
   "outputs": [],
   "source": [
    "spatialT_attack = SpatialTransformation(classifier=spatialT_clf, max_translation=0.0, num_translations=1, max_rotation=0.0, num_rotations=1)\n",
    "# classifier, max_translation=0.0, num_translations=1, max_rotation=0.0, num_rotations=1"
   ]
  },
  {
   "cell_type": "code",
   "execution_count": 64,
   "metadata": {},
   "outputs": [],
   "source": [
    "x_test_adv_elasticNet = spatialT_attack.generate(x_train_adv[:10].copy())"
   ]
  },
  {
   "cell_type": "code",
   "execution_count": 65,
   "metadata": {},
   "outputs": [
    {
     "name": "stdout",
     "output_type": "stream",
     "text": [
      "\r",
      "10/10 [==============================] - 0s 4ms/sample - loss: 1.7695e-04 - acc: 1.0000\n"
     ]
    },
    {
     "data": {
      "text/plain": [
       "[0.00017694880079943687, 1.0]"
      ]
     },
     "execution_count": 65,
     "metadata": {},
     "output_type": "execute_result"
    }
   ],
   "source": [
    "ge_cifar_new_clf.evaluate(x_test_adv_elasticNet, y_train_adv[:10])"
   ]
  },
  {
   "cell_type": "code",
   "execution_count": null,
   "metadata": {},
   "outputs": [],
   "source": []
  },
  {
   "cell_type": "code",
   "execution_count": null,
   "metadata": {},
   "outputs": [],
   "source": []
  },
  {
   "cell_type": "markdown",
   "metadata": {},
   "source": [
    "# Zeroth-order optimization attack"
   ]
  },
  {
   "cell_type": "code",
   "execution_count": 67,
   "metadata": {},
   "outputs": [],
   "source": [
    "from art.attacks.evasion import ZooAttack\n",
    "zoo_clf = KerasClassifier(model=ge_cifar_new_clf, clip_values=(0, 1), use_logits=False)"
   ]
  },
  {
   "cell_type": "code",
   "execution_count": 68,
   "metadata": {},
   "outputs": [],
   "source": [
    "zoo_attack = ZooAttack(classifier=zoo_clf,confidence=0.0, targeted=False, learning_rate=0.01, max_iter=10, \n",
    "                              binary_search_steps=1, initial_const=0.001, abort_early=True, use_resize=True, \n",
    "                              use_importance=True, nb_parallel=128, batch_size=1, variable_h=0.0001)\n",
    "# classifier, confidence=0.0, targeted=False, learning_rate=0.01, max_iter=10, binary_search_steps=1, initial_const=0.001, abort_early=True, use_resize=True, use_importance=True, nb_parallel=128, batch_size=1, variable_h=0.0001"
   ]
  },
  {
   "cell_type": "code",
   "execution_count": 69,
   "metadata": {},
   "outputs": [],
   "source": [
    "x_test_adv_zoo = zoo_attack.generate(x_train_adv[:10].copy())"
   ]
  },
  {
   "cell_type": "code",
   "execution_count": 70,
   "metadata": {},
   "outputs": [
    {
     "name": "stdout",
     "output_type": "stream",
     "text": [
      "\r",
      "10/10 [==============================] - 0s 4ms/sample - loss: 1.7695e-04 - acc: 1.0000\n"
     ]
    },
    {
     "data": {
      "text/plain": [
       "[0.00017694880079943687, 1.0]"
      ]
     },
     "execution_count": 70,
     "metadata": {},
     "output_type": "execute_result"
    }
   ],
   "source": [
    "ge_cifar_new_clf.evaluate(x_test_adv_zoo, y_train_adv[:10])"
   ]
  },
  {
   "cell_type": "code",
   "execution_count": null,
   "metadata": {},
   "outputs": [],
   "source": []
  },
  {
   "cell_type": "markdown",
   "metadata": {},
   "source": [
    "# Carlini and Wagner L_inf Attack"
   ]
  },
  {
   "cell_type": "code",
   "execution_count": 71,
   "metadata": {},
   "outputs": [],
   "source": [
    "from art.attacks.evasion import CarliniLInfMethod\n",
    "carliniLInf_clf = KerasClassifier(model=ge_cifar_new_clf, clip_values=(0, 1), use_logits=False)"
   ]
  },
  {
   "cell_type": "code",
   "execution_count": 72,
   "metadata": {},
   "outputs": [],
   "source": [
    "carliniLInf_attack = CarliniLInfMethod(classifier=carliniLInf_clf, confidence=0.0, targeted=False, \n",
    "                                       learning_rate=0.01, max_iter=10, max_halving=5, max_doubling=5, \n",
    "                                       eps=0.3, batch_size=128)\n",
    "# classifier, confidence=0.0, targeted=False, learning_rate=0.01, max_iter=10, max_halving=5, max_doubling=5, eps=0.3, batch_size=128"
   ]
  },
  {
   "cell_type": "code",
   "execution_count": 74,
   "metadata": {},
   "outputs": [],
   "source": [
    "x_test_adv_carliniLInf = carliniLInf_attack.generate(x_train_adv[:100].copy())"
   ]
  },
  {
   "cell_type": "code",
   "execution_count": 76,
   "metadata": {},
   "outputs": [
    {
     "name": "stdout",
     "output_type": "stream",
     "text": [
      "100/100 [==============================] - 0s 3ms/sample - loss: 3.5337 - acc: 0.0500\n"
     ]
    },
    {
     "data": {
      "text/plain": [
       "[3.53366548538208, 0.05]"
      ]
     },
     "execution_count": 76,
     "metadata": {},
     "output_type": "execute_result"
    }
   ],
   "source": [
    "ge_cifar_new_clf.evaluate(x_test_adv_carliniLInf, y_train_adv[:100])"
   ]
  },
  {
   "cell_type": "code",
   "execution_count": null,
   "metadata": {},
   "outputs": [],
   "source": []
  },
  {
   "cell_type": "markdown",
   "metadata": {},
   "source": [
    "# Jacobian Saliency Map Attack"
   ]
  },
  {
   "cell_type": "code",
   "execution_count": 77,
   "metadata": {},
   "outputs": [],
   "source": [
    "from art.attacks.evasion import SaliencyMapMethod\n",
    "saliencyMap_clf = KerasClassifier(model=ge_cifar_new_clf, clip_values=(0, 1), use_logits=False)"
   ]
  },
  {
   "cell_type": "code",
   "execution_count": 78,
   "metadata": {},
   "outputs": [],
   "source": [
    "saliency_attack = SaliencyMapMethod(classifier=saliencyMap_clf, theta=0.1, gamma=1.0, batch_size=50)\n",
    "# classifier, eps=0.3, eps_step=0.1, max_iter=100, targeted=False, batch_size=1"
   ]
  },
  {
   "cell_type": "code",
   "execution_count": 79,
   "metadata": {},
   "outputs": [],
   "source": [
    "x_test_adv_saliency = saliency_attack.generate(x_train_adv[:50].copy())"
   ]
  },
  {
   "cell_type": "code",
   "execution_count": 81,
   "metadata": {},
   "outputs": [
    {
     "name": "stdout",
     "output_type": "stream",
     "text": [
      "50/50 [==============================] - 0s 3ms/sample - loss: 1.0477 - acc: 0.0000e+00\n"
     ]
    },
    {
     "data": {
      "text/plain": [
       "[1.0477229070663452, 0.0]"
      ]
     },
     "execution_count": 81,
     "metadata": {},
     "output_type": "execute_result"
    }
   ],
   "source": [
    "ge_cifar_new_clf.evaluate(x_test_adv_saliency, y_train_adv[:50]) "
   ]
  },
  {
   "cell_type": "code",
   "execution_count": null,
   "metadata": {},
   "outputs": [],
   "source": []
  },
  {
   "cell_type": "markdown",
   "metadata": {},
   "source": [
    "# Universal perturbation Moosavi"
   ]
  },
  {
   "cell_type": "code",
   "execution_count": 83,
   "metadata": {},
   "outputs": [],
   "source": [
    "from art.attacks.evasion import UniversalPerturbation\n",
    "universalPerturbation_clf = KerasClassifier(model=ge_cifar_new_clf, clip_values=(0, 1), use_logits=False)"
   ]
  },
  {
   "cell_type": "code",
   "execution_count": 84,
   "metadata": {},
   "outputs": [],
   "source": [
    "universalPerturbation_attack = UniversalPerturbation(classifier=universalPerturbation_clf, attacker='deepfool', attacker_params=None, delta=0.2, max_iter=20, eps=10.0, norm=2)\n",
    "# classifier, eps=0.3, eps_step=0.1, max_iter=100, targeted=False, batch_size=1"
   ]
  },
  {
   "cell_type": "code",
   "execution_count": 85,
   "metadata": {},
   "outputs": [
    {
     "name": "stdout",
     "output_type": "stream",
     "text": [
      "art.attacks.evasion.deepfool.DeepFool\n"
     ]
    }
   ],
   "source": [
    "x_test_adv_universalPerturbation = universalPerturbation_attack.generate(x_train_adv[:100].copy())"
   ]
  },
  {
   "cell_type": "code",
   "execution_count": 87,
   "metadata": {},
   "outputs": [
    {
     "name": "stdout",
     "output_type": "stream",
     "text": [
      "100/100 [==============================] - 0s 3ms/sample - loss: 7.0494 - acc: 0.0400\n"
     ]
    },
    {
     "data": {
      "text/plain": [
       "[7.049377346038819, 0.04]"
      ]
     },
     "execution_count": 87,
     "metadata": {},
     "output_type": "execute_result"
    }
   ],
   "source": [
    "ge_cifar_new_clf.evaluate(x_test_adv_universalPerturbation, y_train_adv[:100])"
   ]
  },
  {
   "cell_type": "code",
   "execution_count": null,
   "metadata": {},
   "outputs": [],
   "source": []
  },
  {
   "cell_type": "markdown",
   "metadata": {},
   "source": [
    "# DeepFool attack"
   ]
  },
  {
   "cell_type": "code",
   "execution_count": 89,
   "metadata": {},
   "outputs": [],
   "source": [
    "from art.attacks.evasion import DeepFool\n",
    "deepFool_clf = KerasClassifier(model=ge_cifar_new_clf, clip_values=(0, 1), use_logits=False)"
   ]
  },
  {
   "cell_type": "code",
   "execution_count": 90,
   "metadata": {},
   "outputs": [],
   "source": [
    "deepFool_attack = DeepFool(classifier=deepFool_clf, max_iter=100, epsilon=1e-06, nb_grads=10, batch_size=1)\n",
    "# classifier, eps=0.3, eps_step=0.1, max_iter=100, targeted=False, batch_size=1"
   ]
  },
  {
   "cell_type": "code",
   "execution_count": 91,
   "metadata": {},
   "outputs": [],
   "source": [
    "x_test_adv_deepFool = deepFool_attack.generate(x_train_adv[:100].copy())"
   ]
  },
  {
   "cell_type": "code",
   "execution_count": 96,
   "metadata": {},
   "outputs": [
    {
     "name": "stdout",
     "output_type": "stream",
     "text": [
      "100/100 [==============================] - 0s 3ms/sample - loss: 4.9037 - acc: 0.0200\n"
     ]
    },
    {
     "data": {
      "text/plain": [
       "[4.903667392730713, 0.02]"
      ]
     },
     "execution_count": 96,
     "metadata": {},
     "output_type": "execute_result"
    }
   ],
   "source": [
    "ge_cifar_new_clf.evaluate(x_test_adv_deepFool, y_train_adv[:100])"
   ]
  },
  {
   "cell_type": "code",
   "execution_count": null,
   "metadata": {},
   "outputs": [],
   "source": []
  },
  {
   "cell_type": "markdown",
   "metadata": {},
   "source": [
    "# Virtual Adversarial Method"
   ]
  },
  {
   "cell_type": "code",
   "execution_count": 92,
   "metadata": {},
   "outputs": [],
   "source": [
    "from art.attacks.evasion import VirtualAdversarialMethod\n",
    "virtualAdversarial_clf = KerasClassifier(model=ge_cifar_new_clf, clip_values=(0, 1), use_logits=False)"
   ]
  },
  {
   "cell_type": "code",
   "execution_count": 93,
   "metadata": {},
   "outputs": [],
   "source": [
    "virtualAdversarial_attack = DeepFool(classifier=virtualAdversarial_clf, max_iter=100, nb_grads=10, batch_size=100)\n",
    "# classifier, max_iter=100, epsilon=1e-06, nb_grads=10, batch_size=1"
   ]
  },
  {
   "cell_type": "code",
   "execution_count": 94,
   "metadata": {},
   "outputs": [],
   "source": [
    "x_test_adv_virtualAdv = virtualAdversarial_attack.generate(x_train_adv[:100].copy())"
   ]
  },
  {
   "cell_type": "code",
   "execution_count": 97,
   "metadata": {},
   "outputs": [
    {
     "name": "stdout",
     "output_type": "stream",
     "text": [
      "100/100 [==============================] - 0s 3ms/sample - loss: 4.9037 - acc: 0.0200\n"
     ]
    },
    {
     "data": {
      "text/plain": [
       "[4.903668823242188, 0.02]"
      ]
     },
     "execution_count": 97,
     "metadata": {},
     "output_type": "execute_result"
    }
   ],
   "source": [
    "ge_cifar_new_clf.evaluate(x_test_adv_virtualAdv, y_train_adv[:100])"
   ]
  },
  {
   "cell_type": "code",
   "execution_count": null,
   "metadata": {},
   "outputs": [],
   "source": []
  },
  {
   "cell_type": "markdown",
   "metadata": {},
   "source": [
    "# Fast Gradient Method Attack"
   ]
  },
  {
   "cell_type": "code",
   "execution_count": 98,
   "metadata": {},
   "outputs": [],
   "source": [
    "from art.attacks.evasion import FastGradientMethod\n",
    "fgm_clf = KerasClassifier(model=ge_cifar_new_clf, clip_values=(0, 1), use_logits=False)"
   ]
  },
  {
   "cell_type": "code",
   "execution_count": 99,
   "metadata": {},
   "outputs": [],
   "source": [
    "fgm_attack = FastGradientMethod(classifier=fgm_clf, eps=0.3, eps_step=0.1, targeted=False, \n",
    "                                num_random_init=0, batch_size=1, minimal=False)\n",
    "# classifier, norm=inf, eps=0.3, eps_step=0.1, targeted=False, num_random_init=0, batch_size=1, minimal=False"
   ]
  },
  {
   "cell_type": "code",
   "execution_count": 100,
   "metadata": {},
   "outputs": [],
   "source": [
    "x_test_adv_fgm = fgm_attack.generate(x_train_adv[:100].copy())"
   ]
  },
  {
   "cell_type": "code",
   "execution_count": 102,
   "metadata": {},
   "outputs": [
    {
     "name": "stdout",
     "output_type": "stream",
     "text": [
      "100/100 [==============================] - 0s 3ms/sample - loss: 3.9604 - acc: 0.0900\n"
     ]
    },
    {
     "data": {
      "text/plain": [
       "[3.960428466796875, 0.09]"
      ]
     },
     "execution_count": 102,
     "metadata": {},
     "output_type": "execute_result"
    }
   ],
   "source": [
    "ge_cifar_new_clf.evaluate(x_test_adv_fgm, y_train_adv[:100])"
   ]
  },
  {
   "cell_type": "code",
   "execution_count": 134,
   "metadata": {},
   "outputs": [],
   "source": [
    "predict_fgsm = ge_cifar_new_clf.predict(x_test_adv[:10])"
   ]
  },
  {
   "cell_type": "markdown",
   "metadata": {},
   "source": [
    "# Query-Efficient Black-Box Attack"
   ]
  },
  {
   "cell_type": "code",
   "execution_count": null,
   "metadata": {},
   "outputs": [],
   "source": [
    "from art.wrappers import QueryEfficientBBGradientEstimation\n",
    "queryEffBlackBox_clf = KerasClassifier(model=ge_cifar_clf, clip_values=(0, 1), use_logits=False)"
   ]
  },
  {
   "cell_type": "code",
   "execution_count": null,
   "metadata": {},
   "outputs": [],
   "source": [
    "qeBlackBox_attack = QueryEfficientBBGradientEstimation(classifier=queryEffBlackBox_clf, num_basis=0, sigma=0, round_samples=0)\n",
    "# classifier, num_basis, sigma, round_samples=0"
   ]
  },
  {
   "cell_type": "code",
   "execution_count": null,
   "metadata": {},
   "outputs": [],
   "source": [
    "qeBlackBox_attack.fit(testd[:10], testl[:10])"
   ]
  },
  {
   "cell_type": "code",
   "execution_count": null,
   "metadata": {},
   "outputs": [],
   "source": [
    "qeBlackBox_lossGradient = qeBlackBox_attack.loss_gradient(testd[:10], testl[:10])"
   ]
  },
  {
   "cell_type": "code",
   "execution_count": null,
   "metadata": {},
   "outputs": [],
   "source": [
    "qeBB_prediction = qeBlackBox_attack.predict(x_test[:10])"
   ]
  },
  {
   "cell_type": "code",
   "execution_count": null,
   "metadata": {},
   "outputs": [],
   "source": []
  },
  {
   "cell_type": "markdown",
   "metadata": {},
   "source": [
    "# Defences"
   ]
  },
  {
   "cell_type": "markdown",
   "metadata": {},
   "source": [
    "# Gaussian Data Augmentation Defence"
   ]
  },
  {
   "cell_type": "code",
   "execution_count": 109,
   "metadata": {},
   "outputs": [],
   "source": [
    "from art.defences.preprocessor import GaussianAugmentation\n",
    "## do something"
   ]
  },
  {
   "cell_type": "code",
   "execution_count": 110,
   "metadata": {},
   "outputs": [],
   "source": [
    "gaussian_defence = GaussianAugmentation(sigma=1.0, augmentation=True, ratio=1.0, clip_values=None, apply_fit=True, apply_predict=False)"
   ]
  },
  {
   "cell_type": "code",
   "execution_count": 113,
   "metadata": {},
   "outputs": [
    {
     "data": {
      "text/plain": [
       "(array([[[[ 6.07843137e-01,  6.11764706e-01,  5.84313725e-01],\n",
       "          [ 6.54901961e-01,  6.90196078e-01,  7.33333333e-01],\n",
       "          [ 6.90196078e-01,  7.01960784e-01,  7.56862745e-01],\n",
       "          ...,\n",
       "          [ 7.88235294e-01,  7.68627451e-01,  8.19607843e-01],\n",
       "          [ 7.92156863e-01,  7.92156863e-01,  8.31372549e-01],\n",
       "          [ 7.52941176e-01,  7.17647059e-01,  6.70588235e-01]],\n",
       " \n",
       "         [[ 6.00000000e-01,  6.07843137e-01,  6.15686275e-01],\n",
       "          [ 6.39215686e-01,  7.01960784e-01,  8.00000000e-01],\n",
       "          [ 6.70588235e-01,  7.21568627e-01,  8.43137255e-01],\n",
       "          ...,\n",
       "          [ 7.92156863e-01,  8.15686275e-01,  8.70588235e-01],\n",
       "          [ 7.96078431e-01,  8.43137255e-01,  8.90196078e-01],\n",
       "          [ 7.41176471e-01,  7.45098039e-01,  7.17647059e-01]],\n",
       " \n",
       "         [[ 6.07843137e-01,  6.03921569e-01,  6.00000000e-01],\n",
       "          [ 6.27450980e-01,  6.98039216e-01,  7.88235294e-01],\n",
       "          [ 6.58823529e-01,  7.25490196e-01,  8.35294118e-01],\n",
       "          ...,\n",
       "          [ 8.07843137e-01,  8.15686275e-01,  8.43137255e-01],\n",
       "          [ 8.00000000e-01,  8.43137255e-01,  8.78431373e-01],\n",
       "          [ 7.41176471e-01,  7.49019608e-01,  7.21568627e-01]],\n",
       " \n",
       "         ...,\n",
       " \n",
       "         [[ 3.49019608e-01,  3.09803922e-01,  2.43137255e-01],\n",
       "          [ 2.23529412e-01,  2.07843137e-01,  2.03921569e-01],\n",
       "          [ 2.39215686e-01,  2.39215686e-01,  2.31372549e-01],\n",
       "          ...,\n",
       "          [ 3.49019608e-01,  4.66666667e-01,  3.96078431e-01],\n",
       "          [ 2.31372549e-01,  3.09803922e-01,  2.43137255e-01],\n",
       "          [ 2.62745098e-01,  2.90196078e-01,  1.96078431e-01]],\n",
       " \n",
       "         [[ 3.49019608e-01,  3.21568627e-01,  2.43137255e-01],\n",
       "          [ 2.35294118e-01,  2.27450980e-01,  2.07843137e-01],\n",
       "          [ 2.47058824e-01,  2.58823529e-01,  2.27450980e-01],\n",
       "          ...,\n",
       "          [ 2.23529412e-01,  2.58823529e-01,  2.27450980e-01],\n",
       "          [ 2.39215686e-01,  2.50980392e-01,  2.11764706e-01],\n",
       "          [ 2.94117647e-01,  2.70588235e-01,  2.00000000e-01]],\n",
       " \n",
       "         [[ 3.60784314e-01,  3.05882353e-01,  2.50980392e-01],\n",
       "          [ 2.35294118e-01,  2.03921569e-01,  2.00000000e-01],\n",
       "          [ 2.39215686e-01,  2.27450980e-01,  2.00000000e-01],\n",
       "          ...,\n",
       "          [ 2.35294118e-01,  2.47058824e-01,  1.96078431e-01],\n",
       "          [ 2.50980392e-01,  2.54901961e-01,  2.03921569e-01],\n",
       "          [ 2.86274510e-01,  2.66666667e-01,  1.96078431e-01]]],\n",
       " \n",
       " \n",
       "        [[[ 3.52941176e-01,  4.86274510e-01,  5.84313725e-01],\n",
       "          [ 3.52941176e-01,  4.86274510e-01,  5.84313725e-01],\n",
       "          [ 3.56862745e-01,  4.90196078e-01,  5.88235294e-01],\n",
       "          ...,\n",
       "          [ 4.03921569e-01,  5.13725490e-01,  5.80392157e-01],\n",
       "          [ 3.92156863e-01,  5.01960784e-01,  5.72549020e-01],\n",
       "          [ 3.92156863e-01,  5.05882353e-01,  5.72549020e-01]],\n",
       " \n",
       "         [[ 3.60784314e-01,  4.98039216e-01,  6.00000000e-01],\n",
       "          [ 3.64705882e-01,  4.98039216e-01,  5.96078431e-01],\n",
       "          [ 3.68627451e-01,  5.01960784e-01,  6.00000000e-01],\n",
       "          ...,\n",
       "          [ 4.47058824e-01,  5.37254902e-01,  5.92156863e-01],\n",
       "          [ 4.03921569e-01,  5.09803922e-01,  5.80392157e-01],\n",
       "          [ 4.00000000e-01,  5.17647059e-01,  5.96078431e-01]],\n",
       " \n",
       "         [[ 3.64705882e-01,  5.01960784e-01,  6.00000000e-01],\n",
       "          [ 3.64705882e-01,  4.98039216e-01,  5.96078431e-01],\n",
       "          [ 3.68627451e-01,  5.01960784e-01,  5.96078431e-01],\n",
       "          ...,\n",
       "          [ 4.47058824e-01,  5.21568627e-01,  5.68627451e-01],\n",
       "          [ 4.03921569e-01,  5.05882353e-01,  5.76470588e-01],\n",
       "          [ 3.96078431e-01,  5.17647059e-01,  5.96078431e-01]],\n",
       " \n",
       "         ...,\n",
       " \n",
       "         [[ 3.96078431e-01,  5.21568627e-01,  6.03921569e-01],\n",
       "          [ 3.96078431e-01,  5.17647059e-01,  6.00000000e-01],\n",
       "          [ 4.00000000e-01,  5.21568627e-01,  6.03921569e-01],\n",
       "          ...,\n",
       "          [ 3.68627451e-01,  4.86274510e-01,  5.88235294e-01],\n",
       "          [ 3.60784314e-01,  4.78431373e-01,  5.80392157e-01],\n",
       "          [ 3.56862745e-01,  4.78431373e-01,  5.80392157e-01]],\n",
       " \n",
       "         [[ 3.92156863e-01,  5.13725490e-01,  6.00000000e-01],\n",
       "          [ 3.96078431e-01,  5.17647059e-01,  6.00000000e-01],\n",
       "          [ 4.00000000e-01,  5.21568627e-01,  6.03921569e-01],\n",
       "          ...,\n",
       "          [ 3.64705882e-01,  4.82352941e-01,  5.84313725e-01],\n",
       "          [ 3.52941176e-01,  4.70588235e-01,  5.72549020e-01],\n",
       "          [ 3.52941176e-01,  4.74509804e-01,  5.76470588e-01]],\n",
       " \n",
       "         [[ 3.88235294e-01,  5.09803922e-01,  5.96078431e-01],\n",
       "          [ 3.92156863e-01,  5.09803922e-01,  5.92156863e-01],\n",
       "          [ 3.96078431e-01,  5.17647059e-01,  6.00000000e-01],\n",
       "          ...,\n",
       "          [ 3.60784314e-01,  4.78431373e-01,  5.80392157e-01],\n",
       "          [ 3.52941176e-01,  4.70588235e-01,  5.72549020e-01],\n",
       "          [ 3.49019608e-01,  4.70588235e-01,  5.72549020e-01]]],\n",
       " \n",
       " \n",
       "        [[[ 9.68627451e-01,  9.88235294e-01,  9.60784314e-01],\n",
       "          [ 9.52941176e-01,  9.72549020e-01,  9.45098039e-01],\n",
       "          [ 9.52941176e-01,  9.72549020e-01,  9.45098039e-01],\n",
       "          ...,\n",
       "          [ 9.52941176e-01,  9.72549020e-01,  9.45098039e-01],\n",
       "          [ 9.49019608e-01,  9.68627451e-01,  9.41176471e-01],\n",
       "          [ 9.68627451e-01,  9.88235294e-01,  9.60784314e-01]],\n",
       " \n",
       "         [[ 9.68627451e-01,  9.88235294e-01,  9.60784314e-01],\n",
       "          [ 9.52941176e-01,  9.72549020e-01,  9.45098039e-01],\n",
       "          [ 9.52941176e-01,  9.72549020e-01,  9.45098039e-01],\n",
       "          ...,\n",
       "          [ 9.45098039e-01,  9.64705882e-01,  9.37254902e-01],\n",
       "          [ 9.45098039e-01,  9.64705882e-01,  9.37254902e-01],\n",
       "          [ 9.64705882e-01,  9.84313725e-01,  9.56862745e-01]],\n",
       " \n",
       "         [[ 9.72549020e-01,  9.92156863e-01,  9.64705882e-01],\n",
       "          [ 9.56862745e-01,  9.76470588e-01,  9.49019608e-01],\n",
       "          [ 9.56862745e-01,  9.76470588e-01,  9.49019608e-01],\n",
       "          ...,\n",
       "          [ 9.52941176e-01,  9.72549020e-01,  9.45098039e-01],\n",
       "          [ 9.49019608e-01,  9.68627451e-01,  9.41176471e-01],\n",
       "          [ 9.64705882e-01,  9.84313725e-01,  9.56862745e-01]],\n",
       " \n",
       "         ...,\n",
       " \n",
       "         [[ 9.64705882e-01,  9.76470588e-01,  9.49019608e-01],\n",
       "          [ 9.45098039e-01,  9.56862745e-01,  9.29411765e-01],\n",
       "          [ 9.49019608e-01,  9.60784314e-01,  9.33333333e-01],\n",
       "          ...,\n",
       "          [ 9.45098039e-01,  9.64705882e-01,  9.37254902e-01],\n",
       "          [ 9.45098039e-01,  9.60784314e-01,  9.33333333e-01],\n",
       "          [ 9.68627451e-01,  9.80392157e-01,  9.52941176e-01]],\n",
       " \n",
       "         [[ 9.60784314e-01,  9.72549020e-01,  9.45098039e-01],\n",
       "          [ 9.45098039e-01,  9.56862745e-01,  9.29411765e-01],\n",
       "          [ 9.45098039e-01,  9.56862745e-01,  9.29411765e-01],\n",
       "          ...,\n",
       "          [ 9.45098039e-01,  9.64705882e-01,  9.37254902e-01],\n",
       "          [ 9.45098039e-01,  9.60784314e-01,  9.33333333e-01],\n",
       "          [ 9.64705882e-01,  9.76470588e-01,  9.49019608e-01]],\n",
       " \n",
       "         [[ 9.60784314e-01,  9.72549020e-01,  9.45098039e-01],\n",
       "          [ 9.49019608e-01,  9.60784314e-01,  9.33333333e-01],\n",
       "          [ 9.49019608e-01,  9.60784314e-01,  9.33333333e-01],\n",
       "          ...,\n",
       "          [ 9.41176471e-01,  9.64705882e-01,  9.37254902e-01],\n",
       "          [ 9.41176471e-01,  9.56862745e-01,  9.29411765e-01],\n",
       "          [ 9.64705882e-01,  9.76470588e-01,  9.49019608e-01]]],\n",
       " \n",
       " \n",
       "        ...,\n",
       " \n",
       " \n",
       "        [[[ 2.91569615e-01,  2.19496972e+00,  1.19668932e+00],\n",
       "          [ 1.64641290e+00,  1.72772909e+00,  8.30916208e-01],\n",
       "          [-2.19757892e-01,  1.27648117e+00, -5.74201870e-01],\n",
       "          ...,\n",
       "          [-1.43661026e+00,  3.61554711e-01, -2.91235227e-01],\n",
       "          [ 1.91283492e-01,  1.17363858e+00, -6.15525167e-02],\n",
       "          [ 1.53499998e+00,  2.58218390e+00,  6.27135643e-01]],\n",
       " \n",
       "         [[ 4.66425647e-01,  9.82320676e-01, -2.80885308e-01],\n",
       "          [ 9.61743101e-01,  1.44207172e+00, -1.42500828e-01],\n",
       "          [ 2.40056584e+00, -2.36281858e-01,  1.34915588e+00],\n",
       "          ...,\n",
       "          [ 2.63212847e-01, -1.22830213e+00,  1.47470728e+00],\n",
       "          [-6.10184176e-01, -8.96557004e-01,  4.35456916e-01],\n",
       "          [ 1.67472701e-01,  5.65554075e-01,  3.89631023e-01]],\n",
       " \n",
       "         [[ 2.07643830e+00, -3.15491128e-02, -2.64093160e-01],\n",
       "          [ 9.55965784e-01,  7.69581112e-02,  2.02127628e+00],\n",
       "          [ 9.91170569e-01, -8.28826804e-01,  1.49828877e+00],\n",
       "          ...,\n",
       "          [-3.16483024e-01, -9.10691477e-03,  2.04343425e-01],\n",
       "          [ 1.72306361e+00,  4.56121635e-01,  2.27968336e+00],\n",
       "          [ 6.79833524e-01,  2.67895734e-01,  5.67146292e-01]],\n",
       " \n",
       "         ...,\n",
       " \n",
       "         [[-1.01687927e+00,  1.89548971e+00,  3.27110618e-01],\n",
       "          [ 8.52896377e-01,  2.97130703e-01, -8.07382961e-01],\n",
       "          [ 1.37333430e+00, -8.51076542e-01,  6.49574327e-01],\n",
       "          ...,\n",
       "          [ 2.77176539e+00, -9.95004619e-01, -5.47050642e-02],\n",
       "          [ 8.73409096e-01,  8.21418108e-01,  7.80510365e-01],\n",
       "          [ 1.05160854e+00, -4.17586232e-01, -1.16166998e+00]],\n",
       " \n",
       "         [[-4.62733571e-01, -2.27043444e-01, -1.04867284e+00],\n",
       "          [-3.36042430e-01,  5.65487659e-01,  1.70664346e+00],\n",
       "          [ 5.56390476e-01, -6.80786695e-01,  1.57765615e+00],\n",
       "          ...,\n",
       "          [ 1.03255926e+00,  1.52744972e+00,  2.31226010e-01],\n",
       "          [ 3.51363289e-01,  9.87435011e-01,  1.16960601e+00],\n",
       "          [ 1.81892492e+00,  2.01066016e+00, -1.58687455e-01]],\n",
       " \n",
       "         [[-9.63601946e-02,  1.02790926e+00,  1.33335696e-01],\n",
       "          [-8.21548729e-02,  3.74743814e-01,  5.40463415e-01],\n",
       "          [ 6.13123531e-01,  2.48217960e+00,  3.06070888e-01],\n",
       "          ...,\n",
       "          [ 3.72351654e-01, -7.43303525e-01, -4.17217704e-01],\n",
       "          [ 7.67826323e-01,  4.09949981e-01, -3.14841986e-01],\n",
       "          [-7.80089497e-01, -1.29329689e+00, -6.84440951e-02]]],\n",
       " \n",
       " \n",
       "        [[[ 1.52132703e+00,  5.10535534e-02,  1.73502611e+00],\n",
       "          [ 1.47362516e+00,  1.90877947e+00,  1.83454817e+00],\n",
       "          [ 8.40124731e-01,  1.80403639e+00,  1.25613369e+00],\n",
       "          ...,\n",
       "          [ 1.31323819e+00,  3.72700505e-01,  3.27434863e-01],\n",
       "          [-3.97267989e-03, -2.51635116e-01,  1.13978205e+00],\n",
       "          [ 2.66307741e+00,  3.87965917e-01,  1.15422810e+00]],\n",
       " \n",
       "         [[ 1.44932382e+00, -3.61131495e-01,  1.21733498e+00],\n",
       "          [ 1.05523778e+00,  2.43962364e+00,  3.24629384e-01],\n",
       "          [ 1.16364161e+00,  1.56100994e+00,  1.30798281e+00],\n",
       "          ...,\n",
       "          [ 7.32559839e-01,  5.90363521e-01, -1.08981486e+00],\n",
       "          [-6.50358590e-01,  1.78578441e+00,  2.76482173e+00],\n",
       "          [ 1.68185464e+00,  9.17177352e-01,  1.85698803e+00]],\n",
       " \n",
       "         [[ 4.91079784e-01,  1.66700173e-01, -2.12029571e-01],\n",
       "          [ 1.20921698e-01,  3.34917984e+00,  1.16261455e+00],\n",
       "          [ 1.61819198e+00,  6.47456493e-01,  3.31712386e+00],\n",
       "          ...,\n",
       "          [ 9.19136934e-02,  1.03225470e+00,  2.09645774e-01],\n",
       "          [ 1.64508638e-01,  2.41206964e+00,  1.06515992e+00],\n",
       "          [ 8.73966967e-01,  1.03161362e+00, -2.17812761e-01]],\n",
       " \n",
       "         ...,\n",
       " \n",
       "         [[-5.27317453e-01,  1.36010600e-02, -2.16062018e-02],\n",
       "          [-1.00506868e+00, -8.39239482e-01, -1.29834255e+00],\n",
       "          [-6.02509061e-01, -6.10163001e-01, -1.23474385e+00],\n",
       "          ...,\n",
       "          [ 1.25034092e+00,  1.83285026e-01,  1.90126190e+00],\n",
       "          [ 1.09602080e-01,  8.58065283e-01, -4.76440991e-01],\n",
       "          [ 1.92137656e-01,  2.05450550e+00,  6.49831765e-01]],\n",
       " \n",
       "         [[ 2.07140774e+00,  1.09272883e+00, -3.82932451e-02],\n",
       "          [ 9.63288614e-02,  1.68852440e+00, -7.63812478e-02],\n",
       "          [-1.01449495e-01,  3.85478488e-02,  1.44726670e+00],\n",
       "          ...,\n",
       "          [ 5.25505318e-01,  5.86344584e-01, -2.61384871e-01],\n",
       "          [ 1.20250203e+00, -1.01476557e-01,  2.67590707e+00],\n",
       "          [ 2.67074246e+00, -1.13980226e-01, -4.18839622e-02]],\n",
       " \n",
       "         [[ 5.10985068e-01,  1.37779476e-01,  4.42420480e-01],\n",
       "          [ 7.13630989e-01,  4.96212166e-02,  7.36995838e-01],\n",
       "          [ 1.24583727e+00, -2.40449509e-02,  5.69964073e-01],\n",
       "          ...,\n",
       "          [ 4.37254673e-01,  1.75173110e+00,  1.35928134e+00],\n",
       "          [-8.96301381e-02,  1.87288471e+00,  8.05867079e-01],\n",
       "          [ 6.98761537e-01,  8.76695952e-01, -4.07384160e-01]]],\n",
       " \n",
       " \n",
       "        [[[-6.76525674e-01,  1.22430113e+00, -1.01969150e+00],\n",
       "          [ 7.19297499e-02, -7.47083205e-01, -1.73114454e+00],\n",
       "          [ 2.42952514e-01,  2.10171252e-01,  4.44186967e-01],\n",
       "          ...,\n",
       "          [ 3.00372032e-01,  3.01031202e+00,  6.45949503e-01],\n",
       "          [ 2.02594818e+00, -5.69334532e-01, -4.41262893e-01],\n",
       "          [ 2.28804653e+00,  5.35650242e-01,  1.27932296e+00]],\n",
       " \n",
       "         [[-1.24825655e+00,  1.34138535e+00, -1.12423722e-03],\n",
       "          [-1.81891780e+00,  1.80436252e-01, -1.44293171e+00],\n",
       "          [-1.05463930e+00,  6.40772104e-01, -5.50067335e-01],\n",
       "          ...,\n",
       "          [-4.10579242e-01, -8.33277422e-01,  1.33955557e-01],\n",
       "          [-1.65125014e-01,  2.73441837e-01,  1.59745626e+00],\n",
       "          [ 6.36108018e-01,  6.93805683e-01,  4.60741595e-01]],\n",
       " \n",
       "         [[-8.11934321e-01, -1.08574304e+00,  6.00501815e-01],\n",
       "          [-4.21278237e-01,  2.23944417e+00,  3.65636622e+00],\n",
       "          [ 9.97681019e-01, -8.12369833e-01, -2.34665376e-01],\n",
       "          ...,\n",
       "          [ 2.33893921e-01,  1.50081124e+00,  1.09491182e-01],\n",
       "          [ 3.28545578e-01, -1.57371112e+00,  1.10339073e+00],\n",
       "          [ 1.70358785e-01, -4.32554916e-01,  9.56893471e-01]],\n",
       " \n",
       "         ...,\n",
       " \n",
       "         [[ 6.40453288e-01,  7.52615375e-01,  1.00761164e+00],\n",
       "          [-7.99827061e-01,  1.69881091e-01,  4.60592461e-01],\n",
       "          [ 2.68367489e-01, -8.08595032e-01,  2.74317670e-01],\n",
       "          ...,\n",
       "          [ 4.56359307e-01, -6.98067983e-01,  4.78769678e-01],\n",
       "          [ 1.70486774e+00, -2.12132762e+00, -1.41390343e+00],\n",
       "          [-4.57715832e-01,  1.43242796e+00,  8.01536601e-01]],\n",
       " \n",
       "         [[-1.12269343e+00, -6.77433431e-01,  3.67131393e-01],\n",
       "          [ 1.30530008e+00,  1.28638272e+00, -1.00487784e+00],\n",
       "          [ 6.37055171e-01,  1.95449173e-01, -6.45756478e-02],\n",
       "          ...,\n",
       "          [-1.54585506e-01, -3.21429296e-01, -3.99115307e-01],\n",
       "          [ 5.98149763e-01,  7.66003469e-02, -2.56957408e-01],\n",
       "          [ 6.45480425e-01, -1.02019309e+00, -1.62900141e+00]],\n",
       " \n",
       "         [[ 5.64871563e-01,  1.39808671e+00,  3.77188296e-01],\n",
       "          [-6.59406878e-01,  1.44086268e+00,  7.90466103e-01],\n",
       "          [ 3.87325954e-01,  6.82607029e-01, -3.93852428e-01],\n",
       "          ...,\n",
       "          [-1.35973219e+00,  6.16297316e-01,  3.42948156e-01],\n",
       "          [ 3.86688528e-01, -9.18744598e-01,  8.02384035e-01],\n",
       "          [-5.01815961e-01,  7.92394859e-02,  5.64918572e-01]]]]),\n",
       " array([[1., 0., 0., 0., 0., 0., 0., 0., 0., 0.],\n",
       "        [1., 0., 0., 0., 0., 0., 0., 0., 0., 0.],\n",
       "        [1., 0., 0., 0., 0., 0., 0., 0., 0., 0.],\n",
       "        [1., 0., 0., 0., 0., 0., 0., 0., 0., 0.],\n",
       "        [1., 0., 0., 0., 0., 0., 0., 0., 0., 0.],\n",
       "        [1., 0., 0., 0., 0., 0., 0., 0., 0., 0.],\n",
       "        [1., 0., 0., 0., 0., 0., 0., 0., 0., 0.],\n",
       "        [1., 0., 0., 0., 0., 0., 0., 0., 0., 0.],\n",
       "        [1., 0., 0., 0., 0., 0., 0., 0., 0., 0.],\n",
       "        [1., 0., 0., 0., 0., 0., 0., 0., 0., 0.],\n",
       "        [1., 0., 0., 0., 0., 0., 0., 0., 0., 0.],\n",
       "        [1., 0., 0., 0., 0., 0., 0., 0., 0., 0.],\n",
       "        [1., 0., 0., 0., 0., 0., 0., 0., 0., 0.],\n",
       "        [1., 0., 0., 0., 0., 0., 0., 0., 0., 0.],\n",
       "        [1., 0., 0., 0., 0., 0., 0., 0., 0., 0.],\n",
       "        [1., 0., 0., 0., 0., 0., 0., 0., 0., 0.],\n",
       "        [1., 0., 0., 0., 0., 0., 0., 0., 0., 0.],\n",
       "        [1., 0., 0., 0., 0., 0., 0., 0., 0., 0.],\n",
       "        [1., 0., 0., 0., 0., 0., 0., 0., 0., 0.],\n",
       "        [1., 0., 0., 0., 0., 0., 0., 0., 0., 0.],\n",
       "        [1., 0., 0., 0., 0., 0., 0., 0., 0., 0.],\n",
       "        [1., 0., 0., 0., 0., 0., 0., 0., 0., 0.],\n",
       "        [1., 0., 0., 0., 0., 0., 0., 0., 0., 0.],\n",
       "        [1., 0., 0., 0., 0., 0., 0., 0., 0., 0.],\n",
       "        [1., 0., 0., 0., 0., 0., 0., 0., 0., 0.],\n",
       "        [1., 0., 0., 0., 0., 0., 0., 0., 0., 0.],\n",
       "        [1., 0., 0., 0., 0., 0., 0., 0., 0., 0.],\n",
       "        [1., 0., 0., 0., 0., 0., 0., 0., 0., 0.],\n",
       "        [1., 0., 0., 0., 0., 0., 0., 0., 0., 0.],\n",
       "        [1., 0., 0., 0., 0., 0., 0., 0., 0., 0.],\n",
       "        [1., 0., 0., 0., 0., 0., 0., 0., 0., 0.],\n",
       "        [1., 0., 0., 0., 0., 0., 0., 0., 0., 0.],\n",
       "        [1., 0., 0., 0., 0., 0., 0., 0., 0., 0.],\n",
       "        [1., 0., 0., 0., 0., 0., 0., 0., 0., 0.],\n",
       "        [1., 0., 0., 0., 0., 0., 0., 0., 0., 0.],\n",
       "        [1., 0., 0., 0., 0., 0., 0., 0., 0., 0.],\n",
       "        [1., 0., 0., 0., 0., 0., 0., 0., 0., 0.],\n",
       "        [1., 0., 0., 0., 0., 0., 0., 0., 0., 0.],\n",
       "        [1., 0., 0., 0., 0., 0., 0., 0., 0., 0.],\n",
       "        [1., 0., 0., 0., 0., 0., 0., 0., 0., 0.],\n",
       "        [1., 0., 0., 0., 0., 0., 0., 0., 0., 0.],\n",
       "        [1., 0., 0., 0., 0., 0., 0., 0., 0., 0.],\n",
       "        [1., 0., 0., 0., 0., 0., 0., 0., 0., 0.],\n",
       "        [1., 0., 0., 0., 0., 0., 0., 0., 0., 0.],\n",
       "        [1., 0., 0., 0., 0., 0., 0., 0., 0., 0.],\n",
       "        [1., 0., 0., 0., 0., 0., 0., 0., 0., 0.],\n",
       "        [1., 0., 0., 0., 0., 0., 0., 0., 0., 0.],\n",
       "        [1., 0., 0., 0., 0., 0., 0., 0., 0., 0.],\n",
       "        [1., 0., 0., 0., 0., 0., 0., 0., 0., 0.],\n",
       "        [1., 0., 0., 0., 0., 0., 0., 0., 0., 0.],\n",
       "        [1., 0., 0., 0., 0., 0., 0., 0., 0., 0.],\n",
       "        [1., 0., 0., 0., 0., 0., 0., 0., 0., 0.],\n",
       "        [1., 0., 0., 0., 0., 0., 0., 0., 0., 0.],\n",
       "        [1., 0., 0., 0., 0., 0., 0., 0., 0., 0.],\n",
       "        [1., 0., 0., 0., 0., 0., 0., 0., 0., 0.],\n",
       "        [1., 0., 0., 0., 0., 0., 0., 0., 0., 0.],\n",
       "        [1., 0., 0., 0., 0., 0., 0., 0., 0., 0.],\n",
       "        [1., 0., 0., 0., 0., 0., 0., 0., 0., 0.],\n",
       "        [1., 0., 0., 0., 0., 0., 0., 0., 0., 0.],\n",
       "        [1., 0., 0., 0., 0., 0., 0., 0., 0., 0.],\n",
       "        [1., 0., 0., 0., 0., 0., 0., 0., 0., 0.],\n",
       "        [1., 0., 0., 0., 0., 0., 0., 0., 0., 0.],\n",
       "        [1., 0., 0., 0., 0., 0., 0., 0., 0., 0.],\n",
       "        [1., 0., 0., 0., 0., 0., 0., 0., 0., 0.],\n",
       "        [1., 0., 0., 0., 0., 0., 0., 0., 0., 0.],\n",
       "        [1., 0., 0., 0., 0., 0., 0., 0., 0., 0.],\n",
       "        [1., 0., 0., 0., 0., 0., 0., 0., 0., 0.],\n",
       "        [1., 0., 0., 0., 0., 0., 0., 0., 0., 0.],\n",
       "        [1., 0., 0., 0., 0., 0., 0., 0., 0., 0.],\n",
       "        [1., 0., 0., 0., 0., 0., 0., 0., 0., 0.],\n",
       "        [1., 0., 0., 0., 0., 0., 0., 0., 0., 0.],\n",
       "        [1., 0., 0., 0., 0., 0., 0., 0., 0., 0.],\n",
       "        [1., 0., 0., 0., 0., 0., 0., 0., 0., 0.],\n",
       "        [1., 0., 0., 0., 0., 0., 0., 0., 0., 0.],\n",
       "        [1., 0., 0., 0., 0., 0., 0., 0., 0., 0.],\n",
       "        [1., 0., 0., 0., 0., 0., 0., 0., 0., 0.],\n",
       "        [1., 0., 0., 0., 0., 0., 0., 0., 0., 0.],\n",
       "        [1., 0., 0., 0., 0., 0., 0., 0., 0., 0.],\n",
       "        [1., 0., 0., 0., 0., 0., 0., 0., 0., 0.],\n",
       "        [1., 0., 0., 0., 0., 0., 0., 0., 0., 0.],\n",
       "        [1., 0., 0., 0., 0., 0., 0., 0., 0., 0.],\n",
       "        [1., 0., 0., 0., 0., 0., 0., 0., 0., 0.],\n",
       "        [1., 0., 0., 0., 0., 0., 0., 0., 0., 0.],\n",
       "        [1., 0., 0., 0., 0., 0., 0., 0., 0., 0.],\n",
       "        [1., 0., 0., 0., 0., 0., 0., 0., 0., 0.],\n",
       "        [1., 0., 0., 0., 0., 0., 0., 0., 0., 0.],\n",
       "        [1., 0., 0., 0., 0., 0., 0., 0., 0., 0.],\n",
       "        [1., 0., 0., 0., 0., 0., 0., 0., 0., 0.],\n",
       "        [1., 0., 0., 0., 0., 0., 0., 0., 0., 0.],\n",
       "        [1., 0., 0., 0., 0., 0., 0., 0., 0., 0.],\n",
       "        [1., 0., 0., 0., 0., 0., 0., 0., 0., 0.],\n",
       "        [1., 0., 0., 0., 0., 0., 0., 0., 0., 0.],\n",
       "        [1., 0., 0., 0., 0., 0., 0., 0., 0., 0.],\n",
       "        [1., 0., 0., 0., 0., 0., 0., 0., 0., 0.],\n",
       "        [1., 0., 0., 0., 0., 0., 0., 0., 0., 0.],\n",
       "        [1., 0., 0., 0., 0., 0., 0., 0., 0., 0.],\n",
       "        [1., 0., 0., 0., 0., 0., 0., 0., 0., 0.],\n",
       "        [1., 0., 0., 0., 0., 0., 0., 0., 0., 0.],\n",
       "        [1., 0., 0., 0., 0., 0., 0., 0., 0., 0.],\n",
       "        [1., 0., 0., 0., 0., 0., 0., 0., 0., 0.]], dtype=float32))"
      ]
     },
     "execution_count": 113,
     "metadata": {},
     "output_type": "execute_result"
    }
   ],
   "source": [
    "gaus_aug_data = gaussian_defence.__call__(x=x_test_adv[:50], y=y_train_adv[:50])\n",
    "gaus_aug_data"
   ]
  },
  {
   "cell_type": "code",
   "execution_count": 114,
   "metadata": {},
   "outputs": [
    {
     "data": {
      "text/plain": [
       "0.001"
      ]
     },
     "execution_count": 114,
     "metadata": {},
     "output_type": "execute_result"
    }
   ],
   "source": [
    "est_grad = gaussian_defence.estimate_gradient(x_test_adv[:50], grad = 0.001)\n",
    "est_grad"
   ]
  },
  {
   "cell_type": "code",
   "execution_count": null,
   "metadata": {},
   "outputs": [],
   "source": [
    "gaussian_defence"
   ]
  },
  {
   "cell_type": "markdown",
   "metadata": {},
   "source": [
    "# Feature Squeezing"
   ]
  },
  {
   "cell_type": "code",
   "execution_count": 115,
   "metadata": {},
   "outputs": [],
   "source": [
    "from art.defences.preprocessor import FeatureSqueezing"
   ]
  },
  {
   "cell_type": "code",
   "execution_count": 119,
   "metadata": {},
   "outputs": [
    {
     "data": {
      "text/plain": [
       "<art.defences.preprocessor.feature_squeezing.FeatureSqueezing at 0x14bd364e0>"
      ]
     },
     "execution_count": 119,
     "metadata": {},
     "output_type": "execute_result"
    }
   ],
   "source": [
    "featureSqueezing_defence = FeatureSqueezing(clip_values=(0,255), bit_depth=8, apply_fit=True, apply_predict=False)\n",
    "# clip_values = (min,max), bit_depth=8, apply_fit=False, apply_predict=True\n",
    "featureSqueezing_defence"
   ]
  },
  {
   "cell_type": "code",
   "execution_count": 120,
   "metadata": {},
   "outputs": [
    {
     "data": {
      "text/plain": [
       "0.001"
      ]
     },
     "execution_count": 120,
     "metadata": {},
     "output_type": "execute_result"
    }
   ],
   "source": [
    "est_grad_featSqz = featureSqueezing_defence.estimate_gradient(x_test_adv[:50], grad = 0.001)\n",
    "est_grad_featSqz"
   ]
  },
  {
   "cell_type": "code",
   "execution_count": null,
   "metadata": {},
   "outputs": [],
   "source": []
  },
  {
   "cell_type": "markdown",
   "metadata": {},
   "source": [
    "# High Confidence Defence"
   ]
  },
  {
   "cell_type": "code",
   "execution_count": 122,
   "metadata": {},
   "outputs": [],
   "source": [
    "from art.defences.postprocessor import HighConfidence"
   ]
  },
  {
   "cell_type": "code",
   "execution_count": 124,
   "metadata": {},
   "outputs": [
    {
     "data": {
      "text/plain": [
       "<art.defences.postprocessor.high_confidence.HighConfidence at 0x14bd369e8>"
      ]
     },
     "execution_count": 124,
     "metadata": {},
     "output_type": "execute_result"
    }
   ],
   "source": [
    "highConf_defence = HighConfidence(cutoff=0.25, apply_fit=False, apply_predict=True)\n",
    "highConf_defence"
   ]
  },
  {
   "cell_type": "code",
   "execution_count": 125,
   "metadata": {},
   "outputs": [
    {
     "data": {
      "text/plain": [
       "array([[[[0.60784314, 0.61176471, 0.58431373],\n",
       "         [0.65490196, 0.69019608, 0.73333333],\n",
       "         [0.69019608, 0.70196078, 0.75686275],\n",
       "         ...,\n",
       "         [0.78823529, 0.76862745, 0.81960784],\n",
       "         [0.79215686, 0.79215686, 0.83137255],\n",
       "         [0.75294118, 0.71764706, 0.67058824]],\n",
       "\n",
       "        [[0.6       , 0.60784314, 0.61568627],\n",
       "         [0.63921569, 0.70196078, 0.8       ],\n",
       "         [0.67058824, 0.72156863, 0.84313725],\n",
       "         ...,\n",
       "         [0.79215686, 0.81568627, 0.87058824],\n",
       "         [0.79607843, 0.84313725, 0.89019608],\n",
       "         [0.74117647, 0.74509804, 0.71764706]],\n",
       "\n",
       "        [[0.60784314, 0.60392157, 0.6       ],\n",
       "         [0.62745098, 0.69803922, 0.78823529],\n",
       "         [0.65882353, 0.7254902 , 0.83529412],\n",
       "         ...,\n",
       "         [0.80784314, 0.81568627, 0.84313725],\n",
       "         [0.8       , 0.84313725, 0.87843137],\n",
       "         [0.74117647, 0.74901961, 0.72156863]],\n",
       "\n",
       "        ...,\n",
       "\n",
       "        [[0.34901961, 0.30980392, 0.        ],\n",
       "         [0.        , 0.        , 0.        ],\n",
       "         [0.        , 0.        , 0.        ],\n",
       "         ...,\n",
       "         [0.34901961, 0.46666667, 0.39607843],\n",
       "         [0.        , 0.30980392, 0.        ],\n",
       "         [0.2627451 , 0.29019608, 0.        ]],\n",
       "\n",
       "        [[0.34901961, 0.32156863, 0.        ],\n",
       "         [0.        , 0.        , 0.        ],\n",
       "         [0.        , 0.25882353, 0.        ],\n",
       "         ...,\n",
       "         [0.        , 0.25882353, 0.        ],\n",
       "         [0.        , 0.25098039, 0.        ],\n",
       "         [0.29411765, 0.27058824, 0.        ]],\n",
       "\n",
       "        [[0.36078431, 0.30588235, 0.25098039],\n",
       "         [0.        , 0.        , 0.        ],\n",
       "         [0.        , 0.        , 0.        ],\n",
       "         ...,\n",
       "         [0.        , 0.        , 0.        ],\n",
       "         [0.25098039, 0.25490196, 0.        ],\n",
       "         [0.28627451, 0.26666667, 0.        ]]],\n",
       "\n",
       "\n",
       "       [[[0.35294118, 0.48627451, 0.58431373],\n",
       "         [0.35294118, 0.48627451, 0.58431373],\n",
       "         [0.35686275, 0.49019608, 0.58823529],\n",
       "         ...,\n",
       "         [0.40392157, 0.51372549, 0.58039216],\n",
       "         [0.39215686, 0.50196078, 0.57254902],\n",
       "         [0.39215686, 0.50588235, 0.57254902]],\n",
       "\n",
       "        [[0.36078431, 0.49803922, 0.6       ],\n",
       "         [0.36470588, 0.49803922, 0.59607843],\n",
       "         [0.36862745, 0.50196078, 0.6       ],\n",
       "         ...,\n",
       "         [0.44705882, 0.5372549 , 0.59215686],\n",
       "         [0.40392157, 0.50980392, 0.58039216],\n",
       "         [0.4       , 0.51764706, 0.59607843]],\n",
       "\n",
       "        [[0.36470588, 0.50196078, 0.6       ],\n",
       "         [0.36470588, 0.49803922, 0.59607843],\n",
       "         [0.36862745, 0.50196078, 0.59607843],\n",
       "         ...,\n",
       "         [0.44705882, 0.52156863, 0.56862745],\n",
       "         [0.40392157, 0.50588235, 0.57647059],\n",
       "         [0.39607843, 0.51764706, 0.59607843]],\n",
       "\n",
       "        ...,\n",
       "\n",
       "        [[0.39607843, 0.52156863, 0.60392157],\n",
       "         [0.39607843, 0.51764706, 0.6       ],\n",
       "         [0.4       , 0.52156863, 0.60392157],\n",
       "         ...,\n",
       "         [0.36862745, 0.48627451, 0.58823529],\n",
       "         [0.36078431, 0.47843137, 0.58039216],\n",
       "         [0.35686275, 0.47843137, 0.58039216]],\n",
       "\n",
       "        [[0.39215686, 0.51372549, 0.6       ],\n",
       "         [0.39607843, 0.51764706, 0.6       ],\n",
       "         [0.4       , 0.52156863, 0.60392157],\n",
       "         ...,\n",
       "         [0.36470588, 0.48235294, 0.58431373],\n",
       "         [0.35294118, 0.47058824, 0.57254902],\n",
       "         [0.35294118, 0.4745098 , 0.57647059]],\n",
       "\n",
       "        [[0.38823529, 0.50980392, 0.59607843],\n",
       "         [0.39215686, 0.50980392, 0.59215686],\n",
       "         [0.39607843, 0.51764706, 0.6       ],\n",
       "         ...,\n",
       "         [0.36078431, 0.47843137, 0.58039216],\n",
       "         [0.35294118, 0.47058824, 0.57254902],\n",
       "         [0.34901961, 0.47058824, 0.57254902]]],\n",
       "\n",
       "\n",
       "       [[[0.96862745, 0.98823529, 0.96078431],\n",
       "         [0.95294118, 0.97254902, 0.94509804],\n",
       "         [0.95294118, 0.97254902, 0.94509804],\n",
       "         ...,\n",
       "         [0.95294118, 0.97254902, 0.94509804],\n",
       "         [0.94901961, 0.96862745, 0.94117647],\n",
       "         [0.96862745, 0.98823529, 0.96078431]],\n",
       "\n",
       "        [[0.96862745, 0.98823529, 0.96078431],\n",
       "         [0.95294118, 0.97254902, 0.94509804],\n",
       "         [0.95294118, 0.97254902, 0.94509804],\n",
       "         ...,\n",
       "         [0.94509804, 0.96470588, 0.9372549 ],\n",
       "         [0.94509804, 0.96470588, 0.9372549 ],\n",
       "         [0.96470588, 0.98431373, 0.95686275]],\n",
       "\n",
       "        [[0.97254902, 0.99215686, 0.96470588],\n",
       "         [0.95686275, 0.97647059, 0.94901961],\n",
       "         [0.95686275, 0.97647059, 0.94901961],\n",
       "         ...,\n",
       "         [0.95294118, 0.97254902, 0.94509804],\n",
       "         [0.94901961, 0.96862745, 0.94117647],\n",
       "         [0.96470588, 0.98431373, 0.95686275]],\n",
       "\n",
       "        ...,\n",
       "\n",
       "        [[0.96470588, 0.97647059, 0.94901961],\n",
       "         [0.94509804, 0.95686275, 0.92941176],\n",
       "         [0.94901961, 0.96078431, 0.93333333],\n",
       "         ...,\n",
       "         [0.94509804, 0.96470588, 0.9372549 ],\n",
       "         [0.94509804, 0.96078431, 0.93333333],\n",
       "         [0.96862745, 0.98039216, 0.95294118]],\n",
       "\n",
       "        [[0.96078431, 0.97254902, 0.94509804],\n",
       "         [0.94509804, 0.95686275, 0.92941176],\n",
       "         [0.94509804, 0.95686275, 0.92941176],\n",
       "         ...,\n",
       "         [0.94509804, 0.96470588, 0.9372549 ],\n",
       "         [0.94509804, 0.96078431, 0.93333333],\n",
       "         [0.96470588, 0.97647059, 0.94901961]],\n",
       "\n",
       "        [[0.96078431, 0.97254902, 0.94509804],\n",
       "         [0.94901961, 0.96078431, 0.93333333],\n",
       "         [0.94901961, 0.96078431, 0.93333333],\n",
       "         ...,\n",
       "         [0.94117647, 0.96470588, 0.9372549 ],\n",
       "         [0.94117647, 0.95686275, 0.92941176],\n",
       "         [0.96470588, 0.97647059, 0.94901961]]],\n",
       "\n",
       "\n",
       "       ...,\n",
       "\n",
       "\n",
       "       [[[0.77647059, 0.77647059, 0.77647059],\n",
       "         [0.74117647, 0.74117647, 0.74117647],\n",
       "         [0.74117647, 0.74117647, 0.74117647],\n",
       "         ...,\n",
       "         [0.74509804, 0.74509804, 0.74509804],\n",
       "         [0.74901961, 0.74901961, 0.74901961],\n",
       "         [0.76470588, 0.76470588, 0.76470588]],\n",
       "\n",
       "        [[0.74509804, 0.74509804, 0.74509804],\n",
       "         [0.7254902 , 0.7254902 , 0.7254902 ],\n",
       "         [0.7254902 , 0.7254902 , 0.7254902 ],\n",
       "         ...,\n",
       "         [0.76862745, 0.76862745, 0.76862745],\n",
       "         [0.76862745, 0.76862745, 0.76862745],\n",
       "         [0.78039216, 0.78039216, 0.78039216]],\n",
       "\n",
       "        [[0.7372549 , 0.7372549 , 0.7372549 ],\n",
       "         [0.71764706, 0.71764706, 0.71764706],\n",
       "         [0.70588235, 0.70588235, 0.70588235],\n",
       "         ...,\n",
       "         [0.76862745, 0.76862745, 0.76862745],\n",
       "         [0.77254902, 0.77254902, 0.77254902],\n",
       "         [0.78039216, 0.78039216, 0.78039216]],\n",
       "\n",
       "        ...,\n",
       "\n",
       "        [[0.45490196, 0.45490196, 0.45490196],\n",
       "         [0.38823529, 0.38823529, 0.38823529],\n",
       "         [0.38431373, 0.38431373, 0.38431373],\n",
       "         ...,\n",
       "         [0.4       , 0.4       , 0.4       ],\n",
       "         [0.40784314, 0.40784314, 0.40784314],\n",
       "         [0.38823529, 0.38823529, 0.38823529]],\n",
       "\n",
       "        [[0.41568627, 0.41568627, 0.41568627],\n",
       "         [0.35294118, 0.35294118, 0.35294118],\n",
       "         [0.34901961, 0.34901961, 0.34901961],\n",
       "         ...,\n",
       "         [0.32156863, 0.32156863, 0.32156863],\n",
       "         [0.35686275, 0.35686275, 0.35686275],\n",
       "         [0.4       , 0.4       , 0.4       ]],\n",
       "\n",
       "        [[0.43529412, 0.43529412, 0.43529412],\n",
       "         [0.40784314, 0.40784314, 0.40784314],\n",
       "         [0.39215686, 0.39215686, 0.39215686],\n",
       "         ...,\n",
       "         [0.34509804, 0.34509804, 0.34509804],\n",
       "         [0.41176471, 0.41176471, 0.41176471],\n",
       "         [0.45490196, 0.45490196, 0.45490196]]],\n",
       "\n",
       "\n",
       "       [[[0.27058824, 0.26666667, 0.29019608],\n",
       "         [0.30588235, 0.30196078, 0.32156863],\n",
       "         [0.27843137, 0.2745098 , 0.29803922],\n",
       "         ...,\n",
       "         [0.25882353, 0.25490196, 0.26666667],\n",
       "         [0.2627451 , 0.25490196, 0.2627451 ],\n",
       "         [0.31372549, 0.30980392, 0.30588235]],\n",
       "\n",
       "        [[0.        , 0.        , 0.        ],\n",
       "         [0.        , 0.        , 0.        ],\n",
       "         [0.        , 0.        , 0.        ],\n",
       "         ...,\n",
       "         [0.        , 0.        , 0.        ],\n",
       "         [0.        , 0.        , 0.        ],\n",
       "         [0.        , 0.        , 0.        ]],\n",
       "\n",
       "        [[0.        , 0.        , 0.        ],\n",
       "         [0.        , 0.        , 0.        ],\n",
       "         [0.        , 0.        , 0.        ],\n",
       "         ...,\n",
       "         [0.        , 0.        , 0.        ],\n",
       "         [0.        , 0.        , 0.        ],\n",
       "         [0.        , 0.        , 0.        ]],\n",
       "\n",
       "        ...,\n",
       "\n",
       "        [[0.        , 0.        , 0.        ],\n",
       "         [0.        , 0.        , 0.        ],\n",
       "         [0.26666667, 0.        , 0.        ],\n",
       "         ...,\n",
       "         [0.        , 0.        , 0.        ],\n",
       "         [0.        , 0.        , 0.        ],\n",
       "         [0.        , 0.        , 0.        ]],\n",
       "\n",
       "        [[0.        , 0.        , 0.        ],\n",
       "         [0.3254902 , 0.25882353, 0.        ],\n",
       "         [0.38039216, 0.29411765, 0.25882353],\n",
       "         ...,\n",
       "         [0.        , 0.        , 0.        ],\n",
       "         [0.        , 0.        , 0.        ],\n",
       "         [0.        , 0.        , 0.        ]],\n",
       "\n",
       "        [[0.32156863, 0.29411765, 0.29019608],\n",
       "         [0.38039216, 0.33333333, 0.30980392],\n",
       "         [0.40392157, 0.33333333, 0.29803922],\n",
       "         ...,\n",
       "         [0.        , 0.        , 0.        ],\n",
       "         [0.        , 0.        , 0.        ],\n",
       "         [0.        , 0.        , 0.        ]]],\n",
       "\n",
       "\n",
       "       [[[0.70980392, 0.78823529, 0.92156863],\n",
       "         [0.74117647, 0.78039216, 0.90980392],\n",
       "         [0.75294118, 0.79215686, 0.91764706],\n",
       "         ...,\n",
       "         [0.77254902, 0.8       , 0.90196078],\n",
       "         [0.72941176, 0.77647059, 0.8745098 ],\n",
       "         [0.58039216, 0.67058824, 0.69411765]],\n",
       "\n",
       "        [[0.78039216, 0.82352941, 0.9372549 ],\n",
       "         [0.74509804, 0.78823529, 0.90588235],\n",
       "         [0.71372549, 0.76862745, 0.89019608],\n",
       "         ...,\n",
       "         [0.57254902, 0.62352941, 0.63529412],\n",
       "         [0.62745098, 0.69411765, 0.74117647],\n",
       "         [0.35686275, 0.44313725, 0.41176471]],\n",
       "\n",
       "        [[0.7254902 , 0.76470588, 0.88235294],\n",
       "         [0.68235294, 0.7372549 , 0.85490196],\n",
       "         [0.66666667, 0.72941176, 0.84705882],\n",
       "         ...,\n",
       "         [0.30588235, 0.38039216, 0.3372549 ],\n",
       "         [0.37254902, 0.45882353, 0.44313725],\n",
       "         [0.29803922, 0.38039216, 0.30980392]],\n",
       "\n",
       "        ...,\n",
       "\n",
       "        [[0.3372549 , 0.40784314, 0.        ],\n",
       "         [0.29019608, 0.31764706, 0.        ],\n",
       "         [0.34509804, 0.34509804, 0.        ],\n",
       "         ...,\n",
       "         [0.36470588, 0.44705882, 0.        ],\n",
       "         [0.37254902, 0.4627451 , 0.        ],\n",
       "         [0.37254902, 0.45490196, 0.        ]],\n",
       "\n",
       "        [[0.3372549 , 0.4       , 0.        ],\n",
       "         [0.34509804, 0.37647059, 0.        ],\n",
       "         [0.39607843, 0.41568627, 0.        ],\n",
       "         ...,\n",
       "         [0.3254902 , 0.39607843, 0.        ],\n",
       "         [0.4       , 0.4745098 , 0.        ],\n",
       "         [0.41176471, 0.48627451, 0.        ]],\n",
       "\n",
       "        [[0.36862745, 0.41568627, 0.        ],\n",
       "         [0.36862745, 0.42352941, 0.        ],\n",
       "         [0.3254902 , 0.36470588, 0.        ],\n",
       "         ...,\n",
       "         [0.45882353, 0.50196078, 0.25882353],\n",
       "         [0.47058824, 0.51372549, 0.2745098 ],\n",
       "         [0.47058824, 0.51764706, 0.28627451]]]])"
      ]
     },
     "execution_count": 125,
     "metadata": {},
     "output_type": "execute_result"
    }
   ],
   "source": [
    "highConf_defence.__call__(x_test_adv[:50])"
   ]
  },
  {
   "cell_type": "markdown",
   "metadata": {},
   "source": [
    "# Rounding/Rounded Defence"
   ]
  },
  {
   "cell_type": "code",
   "execution_count": 126,
   "metadata": {},
   "outputs": [],
   "source": [
    "from art.defences.postprocessor import Rounded"
   ]
  },
  {
   "cell_type": "code",
   "execution_count": 127,
   "metadata": {},
   "outputs": [],
   "source": [
    "rounded_defence = Rounded(decimals=3, apply_fit=False, apply_predict=True)"
   ]
  },
  {
   "cell_type": "code",
   "execution_count": 128,
   "metadata": {},
   "outputs": [
    {
     "data": {
      "text/plain": [
       "array([[[[0.608, 0.612, 0.584],\n",
       "         [0.655, 0.69 , 0.733],\n",
       "         [0.69 , 0.702, 0.757],\n",
       "         ...,\n",
       "         [0.788, 0.769, 0.82 ],\n",
       "         [0.792, 0.792, 0.831],\n",
       "         [0.753, 0.718, 0.671]],\n",
       "\n",
       "        [[0.6  , 0.608, 0.616],\n",
       "         [0.639, 0.702, 0.8  ],\n",
       "         [0.671, 0.722, 0.843],\n",
       "         ...,\n",
       "         [0.792, 0.816, 0.871],\n",
       "         [0.796, 0.843, 0.89 ],\n",
       "         [0.741, 0.745, 0.718]],\n",
       "\n",
       "        [[0.608, 0.604, 0.6  ],\n",
       "         [0.627, 0.698, 0.788],\n",
       "         [0.659, 0.725, 0.835],\n",
       "         ...,\n",
       "         [0.808, 0.816, 0.843],\n",
       "         [0.8  , 0.843, 0.878],\n",
       "         [0.741, 0.749, 0.722]],\n",
       "\n",
       "        ...,\n",
       "\n",
       "        [[0.349, 0.31 , 0.243],\n",
       "         [0.224, 0.208, 0.204],\n",
       "         [0.239, 0.239, 0.231],\n",
       "         ...,\n",
       "         [0.349, 0.467, 0.396],\n",
       "         [0.231, 0.31 , 0.243],\n",
       "         [0.263, 0.29 , 0.196]],\n",
       "\n",
       "        [[0.349, 0.322, 0.243],\n",
       "         [0.235, 0.227, 0.208],\n",
       "         [0.247, 0.259, 0.227],\n",
       "         ...,\n",
       "         [0.224, 0.259, 0.227],\n",
       "         [0.239, 0.251, 0.212],\n",
       "         [0.294, 0.271, 0.2  ]],\n",
       "\n",
       "        [[0.361, 0.306, 0.251],\n",
       "         [0.235, 0.204, 0.2  ],\n",
       "         [0.239, 0.227, 0.2  ],\n",
       "         ...,\n",
       "         [0.235, 0.247, 0.196],\n",
       "         [0.251, 0.255, 0.204],\n",
       "         [0.286, 0.267, 0.196]]],\n",
       "\n",
       "\n",
       "       [[[0.353, 0.486, 0.584],\n",
       "         [0.353, 0.486, 0.584],\n",
       "         [0.357, 0.49 , 0.588],\n",
       "         ...,\n",
       "         [0.404, 0.514, 0.58 ],\n",
       "         [0.392, 0.502, 0.573],\n",
       "         [0.392, 0.506, 0.573]],\n",
       "\n",
       "        [[0.361, 0.498, 0.6  ],\n",
       "         [0.365, 0.498, 0.596],\n",
       "         [0.369, 0.502, 0.6  ],\n",
       "         ...,\n",
       "         [0.447, 0.537, 0.592],\n",
       "         [0.404, 0.51 , 0.58 ],\n",
       "         [0.4  , 0.518, 0.596]],\n",
       "\n",
       "        [[0.365, 0.502, 0.6  ],\n",
       "         [0.365, 0.498, 0.596],\n",
       "         [0.369, 0.502, 0.596],\n",
       "         ...,\n",
       "         [0.447, 0.522, 0.569],\n",
       "         [0.404, 0.506, 0.576],\n",
       "         [0.396, 0.518, 0.596]],\n",
       "\n",
       "        ...,\n",
       "\n",
       "        [[0.396, 0.522, 0.604],\n",
       "         [0.396, 0.518, 0.6  ],\n",
       "         [0.4  , 0.522, 0.604],\n",
       "         ...,\n",
       "         [0.369, 0.486, 0.588],\n",
       "         [0.361, 0.478, 0.58 ],\n",
       "         [0.357, 0.478, 0.58 ]],\n",
       "\n",
       "        [[0.392, 0.514, 0.6  ],\n",
       "         [0.396, 0.518, 0.6  ],\n",
       "         [0.4  , 0.522, 0.604],\n",
       "         ...,\n",
       "         [0.365, 0.482, 0.584],\n",
       "         [0.353, 0.471, 0.573],\n",
       "         [0.353, 0.475, 0.576]],\n",
       "\n",
       "        [[0.388, 0.51 , 0.596],\n",
       "         [0.392, 0.51 , 0.592],\n",
       "         [0.396, 0.518, 0.6  ],\n",
       "         ...,\n",
       "         [0.361, 0.478, 0.58 ],\n",
       "         [0.353, 0.471, 0.573],\n",
       "         [0.349, 0.471, 0.573]]],\n",
       "\n",
       "\n",
       "       [[[0.969, 0.988, 0.961],\n",
       "         [0.953, 0.973, 0.945],\n",
       "         [0.953, 0.973, 0.945],\n",
       "         ...,\n",
       "         [0.953, 0.973, 0.945],\n",
       "         [0.949, 0.969, 0.941],\n",
       "         [0.969, 0.988, 0.961]],\n",
       "\n",
       "        [[0.969, 0.988, 0.961],\n",
       "         [0.953, 0.973, 0.945],\n",
       "         [0.953, 0.973, 0.945],\n",
       "         ...,\n",
       "         [0.945, 0.965, 0.937],\n",
       "         [0.945, 0.965, 0.937],\n",
       "         [0.965, 0.984, 0.957]],\n",
       "\n",
       "        [[0.973, 0.992, 0.965],\n",
       "         [0.957, 0.976, 0.949],\n",
       "         [0.957, 0.976, 0.949],\n",
       "         ...,\n",
       "         [0.953, 0.973, 0.945],\n",
       "         [0.949, 0.969, 0.941],\n",
       "         [0.965, 0.984, 0.957]],\n",
       "\n",
       "        ...,\n",
       "\n",
       "        [[0.965, 0.976, 0.949],\n",
       "         [0.945, 0.957, 0.929],\n",
       "         [0.949, 0.961, 0.933],\n",
       "         ...,\n",
       "         [0.945, 0.965, 0.937],\n",
       "         [0.945, 0.961, 0.933],\n",
       "         [0.969, 0.98 , 0.953]],\n",
       "\n",
       "        [[0.961, 0.973, 0.945],\n",
       "         [0.945, 0.957, 0.929],\n",
       "         [0.945, 0.957, 0.929],\n",
       "         ...,\n",
       "         [0.945, 0.965, 0.937],\n",
       "         [0.945, 0.961, 0.933],\n",
       "         [0.965, 0.976, 0.949]],\n",
       "\n",
       "        [[0.961, 0.973, 0.945],\n",
       "         [0.949, 0.961, 0.933],\n",
       "         [0.949, 0.961, 0.933],\n",
       "         ...,\n",
       "         [0.941, 0.965, 0.937],\n",
       "         [0.941, 0.957, 0.929],\n",
       "         [0.965, 0.976, 0.949]]],\n",
       "\n",
       "\n",
       "       ...,\n",
       "\n",
       "\n",
       "       [[[0.776, 0.776, 0.776],\n",
       "         [0.741, 0.741, 0.741],\n",
       "         [0.741, 0.741, 0.741],\n",
       "         ...,\n",
       "         [0.745, 0.745, 0.745],\n",
       "         [0.749, 0.749, 0.749],\n",
       "         [0.765, 0.765, 0.765]],\n",
       "\n",
       "        [[0.745, 0.745, 0.745],\n",
       "         [0.725, 0.725, 0.725],\n",
       "         [0.725, 0.725, 0.725],\n",
       "         ...,\n",
       "         [0.769, 0.769, 0.769],\n",
       "         [0.769, 0.769, 0.769],\n",
       "         [0.78 , 0.78 , 0.78 ]],\n",
       "\n",
       "        [[0.737, 0.737, 0.737],\n",
       "         [0.718, 0.718, 0.718],\n",
       "         [0.706, 0.706, 0.706],\n",
       "         ...,\n",
       "         [0.769, 0.769, 0.769],\n",
       "         [0.773, 0.773, 0.773],\n",
       "         [0.78 , 0.78 , 0.78 ]],\n",
       "\n",
       "        ...,\n",
       "\n",
       "        [[0.455, 0.455, 0.455],\n",
       "         [0.388, 0.388, 0.388],\n",
       "         [0.384, 0.384, 0.384],\n",
       "         ...,\n",
       "         [0.4  , 0.4  , 0.4  ],\n",
       "         [0.408, 0.408, 0.408],\n",
       "         [0.388, 0.388, 0.388]],\n",
       "\n",
       "        [[0.416, 0.416, 0.416],\n",
       "         [0.353, 0.353, 0.353],\n",
       "         [0.349, 0.349, 0.349],\n",
       "         ...,\n",
       "         [0.322, 0.322, 0.322],\n",
       "         [0.357, 0.357, 0.357],\n",
       "         [0.4  , 0.4  , 0.4  ]],\n",
       "\n",
       "        [[0.435, 0.435, 0.435],\n",
       "         [0.408, 0.408, 0.408],\n",
       "         [0.392, 0.392, 0.392],\n",
       "         ...,\n",
       "         [0.345, 0.345, 0.345],\n",
       "         [0.412, 0.412, 0.412],\n",
       "         [0.455, 0.455, 0.455]]],\n",
       "\n",
       "\n",
       "       [[[0.271, 0.267, 0.29 ],\n",
       "         [0.306, 0.302, 0.322],\n",
       "         [0.278, 0.275, 0.298],\n",
       "         ...,\n",
       "         [0.259, 0.255, 0.267],\n",
       "         [0.263, 0.255, 0.263],\n",
       "         [0.314, 0.31 , 0.306]],\n",
       "\n",
       "        [[0.082, 0.078, 0.102],\n",
       "         [0.114, 0.11 , 0.137],\n",
       "         [0.086, 0.082, 0.106],\n",
       "         ...,\n",
       "         [0.067, 0.059, 0.078],\n",
       "         [0.09 , 0.082, 0.098],\n",
       "         [0.125, 0.118, 0.122]],\n",
       "\n",
       "        [[0.106, 0.102, 0.125],\n",
       "         [0.118, 0.114, 0.137],\n",
       "         [0.118, 0.114, 0.137],\n",
       "         ...,\n",
       "         [0.125, 0.114, 0.141],\n",
       "         [0.169, 0.161, 0.184],\n",
       "         [0.165, 0.157, 0.169]],\n",
       "\n",
       "        ...,\n",
       "\n",
       "        [[0.192, 0.137, 0.145],\n",
       "         [0.212, 0.149, 0.153],\n",
       "         [0.267, 0.196, 0.192],\n",
       "         ...,\n",
       "         [0.094, 0.094, 0.098],\n",
       "         [0.086, 0.086, 0.086],\n",
       "         [0.094, 0.094, 0.094]],\n",
       "\n",
       "        [[0.212, 0.173, 0.169],\n",
       "         [0.325, 0.259, 0.239],\n",
       "         [0.38 , 0.294, 0.259],\n",
       "         ...,\n",
       "         [0.078, 0.078, 0.078],\n",
       "         [0.086, 0.086, 0.086],\n",
       "         [0.094, 0.094, 0.094]],\n",
       "\n",
       "        [[0.322, 0.294, 0.29 ],\n",
       "         [0.38 , 0.333, 0.31 ],\n",
       "         [0.404, 0.333, 0.298],\n",
       "         ...,\n",
       "         [0.184, 0.184, 0.184],\n",
       "         [0.184, 0.184, 0.184],\n",
       "         [0.196, 0.196, 0.196]]],\n",
       "\n",
       "\n",
       "       [[[0.71 , 0.788, 0.922],\n",
       "         [0.741, 0.78 , 0.91 ],\n",
       "         [0.753, 0.792, 0.918],\n",
       "         ...,\n",
       "         [0.773, 0.8  , 0.902],\n",
       "         [0.729, 0.776, 0.875],\n",
       "         [0.58 , 0.671, 0.694]],\n",
       "\n",
       "        [[0.78 , 0.824, 0.937],\n",
       "         [0.745, 0.788, 0.906],\n",
       "         [0.714, 0.769, 0.89 ],\n",
       "         ...,\n",
       "         [0.573, 0.624, 0.635],\n",
       "         [0.627, 0.694, 0.741],\n",
       "         [0.357, 0.443, 0.412]],\n",
       "\n",
       "        [[0.725, 0.765, 0.882],\n",
       "         [0.682, 0.737, 0.855],\n",
       "         [0.667, 0.729, 0.847],\n",
       "         ...,\n",
       "         [0.306, 0.38 , 0.337],\n",
       "         [0.373, 0.459, 0.443],\n",
       "         [0.298, 0.38 , 0.31 ]],\n",
       "\n",
       "        ...,\n",
       "\n",
       "        [[0.337, 0.408, 0.184],\n",
       "         [0.29 , 0.318, 0.086],\n",
       "         [0.345, 0.345, 0.145],\n",
       "         ...,\n",
       "         [0.365, 0.447, 0.173],\n",
       "         [0.373, 0.463, 0.141],\n",
       "         [0.373, 0.455, 0.141]],\n",
       "\n",
       "        [[0.337, 0.4  , 0.188],\n",
       "         [0.345, 0.376, 0.141],\n",
       "         [0.396, 0.416, 0.173],\n",
       "         ...,\n",
       "         [0.325, 0.396, 0.141],\n",
       "         [0.4  , 0.475, 0.188],\n",
       "         [0.412, 0.486, 0.204]],\n",
       "\n",
       "        [[0.369, 0.416, 0.216],\n",
       "         [0.369, 0.424, 0.173],\n",
       "         [0.325, 0.365, 0.125],\n",
       "         ...,\n",
       "         [0.459, 0.502, 0.259],\n",
       "         [0.471, 0.514, 0.275],\n",
       "         [0.471, 0.518, 0.286]]]])"
      ]
     },
     "execution_count": 128,
     "metadata": {},
     "output_type": "execute_result"
    }
   ],
   "source": [
    "rounded_defence.__call__(x_test_adv[:50])"
   ]
  },
  {
   "cell_type": "markdown",
   "metadata": {},
   "source": [
    "# Virtual Adversarial Training Defence"
   ]
  },
  {
   "cell_type": "code",
   "execution_count": 103,
   "metadata": {},
   "outputs": [],
   "source": [
    "from art.defences.trainer import AdversarialTrainer\n",
    "advTrainer_clf = KerasClassifier(model=ge_cifar_new_clf, clip_values=(0, 1), use_logits=False)"
   ]
  },
  {
   "cell_type": "code",
   "execution_count": 104,
   "metadata": {},
   "outputs": [],
   "source": [
    "adversarialTrainer_defence = AdversarialTrainer(classifier=advTrainer_clf, attacks=fgm_attack, ratio=0.5)"
   ]
  },
  {
   "cell_type": "code",
   "execution_count": 105,
   "metadata": {},
   "outputs": [
    {
     "name": "stdout",
     "output_type": "stream",
     "text": [
      "1/1 [==============================] - 3s 3s/step - loss: 2.5007 - acc: 0.4600\n",
      "1/1 [==============================] - 0s 147ms/step - loss: 2.2400 - acc: 0.5400\n",
      "1/1 [==============================] - 0s 151ms/step - loss: 2.1497 - acc: 0.5600\n",
      "1/1 [==============================] - 0s 136ms/step - loss: 1.9139 - acc: 0.6200\n",
      "1/1 [==============================] - 0s 138ms/step - loss: 2.2893 - acc: 0.4800\n",
      "1/1 [==============================] - 0s 134ms/step - loss: 2.0677 - acc: 0.5800\n",
      "1/1 [==============================] - 0s 135ms/step - loss: 1.8947 - acc: 0.5200\n",
      "1/1 [==============================] - 0s 135ms/step - loss: 1.4352 - acc: 0.7200\n",
      "1/1 [==============================] - 0s 134ms/step - loss: 2.2110 - acc: 0.5800\n",
      "1/1 [==============================] - 0s 136ms/step - loss: 2.6724 - acc: 0.4600\n",
      "1/1 [==============================] - 0s 156ms/step - loss: 2.0032 - acc: 0.4800\n",
      "1/1 [==============================] - 0s 154ms/step - loss: 2.0397 - acc: 0.5200\n",
      "1/1 [==============================] - 0s 135ms/step - loss: 2.2723 - acc: 0.5800\n",
      "1/1 [==============================] - 0s 135ms/step - loss: 2.3346 - acc: 0.4400\n",
      "1/1 [==============================] - 0s 163ms/step - loss: 2.2661 - acc: 0.5000\n",
      "1/1 [==============================] - 0s 169ms/step - loss: 1.6046 - acc: 0.6400\n",
      "1/1 [==============================] - 0s 152ms/step - loss: 1.6273 - acc: 0.6000\n",
      "1/1 [==============================] - 0s 149ms/step - loss: 1.9772 - acc: 0.5800\n",
      "1/1 [==============================] - 0s 147ms/step - loss: 2.2922 - acc: 0.5400\n",
      "1/1 [==============================] - 0s 139ms/step - loss: 3.1076 - acc: 0.4800\n"
     ]
    }
   ],
   "source": [
    "adversarialTrainer_defence.fit(x_train_adv[:50].copy(), y_train_adv[:50].copy())"
   ]
  },
  {
   "cell_type": "code",
   "execution_count": 106,
   "metadata": {},
   "outputs": [],
   "source": [
    "at_predictions = adversarialTrainer_defence.predict(x_test_adv[:50].copy())"
   ]
  },
  {
   "cell_type": "code",
   "execution_count": null,
   "metadata": {},
   "outputs": [],
   "source": []
  },
  {
   "cell_type": "code",
   "execution_count": null,
   "metadata": {},
   "outputs": [],
   "source": []
  },
  {
   "cell_type": "code",
   "execution_count": null,
   "metadata": {},
   "outputs": [],
   "source": []
  },
  {
   "cell_type": "code",
   "execution_count": null,
   "metadata": {},
   "outputs": [],
   "source": []
  },
  {
   "cell_type": "code",
   "execution_count": null,
   "metadata": {},
   "outputs": [],
   "source": []
  }
 ],
 "metadata": {
  "kernelspec": {
   "display_name": "Python 3",
   "language": "python",
   "name": "python3"
  },
  "language_info": {
   "codemirror_mode": {
    "name": "ipython",
    "version": 3
   },
   "file_extension": ".py",
   "mimetype": "text/x-python",
   "name": "python",
   "nbconvert_exporter": "python",
   "pygments_lexer": "ipython3",
   "version": "3.6.10"
  }
 },
 "nbformat": 4,
 "nbformat_minor": 2
}
