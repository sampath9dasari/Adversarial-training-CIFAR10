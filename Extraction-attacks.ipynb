{
 "cells": [
  {
   "cell_type": "code",
   "execution_count": 1,
   "metadata": {
    "colab": {},
    "colab_type": "code",
    "id": "vtGWRtigJF2z"
   },
   "outputs": [],
   "source": [
    "import warnings\n",
    "warnings.filterwarnings('ignore',category=FutureWarning)\n",
    "warnings.filterwarnings('ignore', category=DeprecationWarning)\n",
    "# warnings.filterwarnings('ignore')\n",
    "# warnings.simplefilter('ignore')\n",
    "\n",
    "import tensorflow as tf\n",
    "\n",
    "import os\n",
    "os.environ['TF_CPP_MIN_LOG_LEVEL'] = '2'\n",
    "\n",
    "import numpy as np\n",
    "import pandas as pd\n",
    "import matplotlib.pyplot as plt\n",
    "import matplotlib.image as img\n",
    "%matplotlib inline\n",
    "\n",
    "import tensorflow_hub as thub\n",
    "import tensorflow.keras.backend as K\n",
    "\n",
    "from lib.data_utils import *"
   ]
  },
  {
   "cell_type": "code",
   "execution_count": 2,
   "metadata": {
    "pycharm": {
     "name": "#%%\n"
    }
   },
   "outputs": [],
   "source": [
    "from tensorflow.keras.layers import Conv2D, MaxPooling2D, Dropout, Flatten, Dense, Activation\n",
    "from tensorflow.keras.losses import CategoricalCrossentropy"
   ]
  },
  {
   "cell_type": "code",
   "execution_count": 3,
   "metadata": {
    "colab": {},
    "colab_type": "code",
    "id": "hpom9Hy7JPVV"
   },
   "outputs": [],
   "source": [
    "# from tensorflow.keras.models import Model\n",
    "from tensorflow.keras.layers import InputLayer, Reshape\n",
    "from tensorflow.keras import Sequential\n",
    "from tensorflow.keras.optimizers import SGD\n",
    "from tensorflow.keras.utils import to_categorical\n"
   ]
  },
  {
   "cell_type": "code",
   "execution_count": 4,
   "metadata": {
    "colab": {},
    "colab_type": "code",
    "id": "vtGWRtigJF2z"
   },
   "outputs": [],
   "source": [
    "from art.classifiers import KerasClassifier\n",
    "from art.attacks import FastGradientMethod\n",
    "from art.attacks.extraction import CopycatCNN, FunctionallyEquivalentExtraction, KnockoffNets\n",
    "import art"
   ]
  },
  {
   "cell_type": "code",
   "execution_count": 5,
   "metadata": {},
   "outputs": [],
   "source": [
    "def sample_by_class(data, labels, num_samples=100):\n",
    "    sample_data = []\n",
    "    sample_labels = []\n",
    "    unq_labels = list(range(labels.shape[1]))\n",
    "    for label in unq_labels:\n",
    "        idx = labels[:,label]==1\n",
    "        sample_set = data[idx][0:num_samples].copy()\n",
    "        label_set = labels[idx][0:num_samples].copy()\n",
    "        sample_data.append(sample_set)\n",
    "        sample_labels.append(label_set)\n",
    "    \n",
    "    sample_data = np.concatenate(sample_data)\n",
    "    sample_labels = np.concatenate(sample_labels)\n",
    "    print(sample_data.shape, sample_labels.shape)\n",
    "    return sample_data, sample_labels\n",
    "\n",
    "def subset_data(data, labels, fraction=5):\n",
    "    data_size = data.shape[0]\n",
    "    out_size = int(data_size*fraction/100)\n",
    "    idx = np.random.choice(data_size, out_size, replace=False)\n",
    "    out_data = data[idx].copy()\n",
    "    out_labels = labels[idx].copy()\n",
    "    \n",
    "    print(out_data.shape, out_labels.shape)\n",
    "    return out_data, out_labels"
   ]
  },
  {
   "cell_type": "code",
   "execution_count": 6,
   "metadata": {
    "colab": {},
    "colab_type": "code",
    "id": "cJ9lwH3jbohO"
   },
   "outputs": [
    {
     "name": "stdout",
     "output_type": "stream",
     "text": [
      "x_train shape: (50000, 32, 32, 3)\n",
      "50000 train samples\n",
      "10000 test samples\n"
     ]
    }
   ],
   "source": [
    "# Load the raw CIFAR-10 data\n",
    "cifar10_dir = 'lib/datasets/cifar-10-batches-py'\n",
    "x_train, y_train, x_test, y_test = load_cifar10(cifar10_dir)\n",
    "\n",
    "print('x_train shape:', x_train.shape)\n",
    "print(x_train.shape[0], 'train samples')\n",
    "print(x_test.shape[0], 'test samples')\n",
    "\n",
    "# Convert class vectors to binary class matrices.\n",
    "y_train = to_categorical(y_train, 10)\n",
    "y_test = to_categorical(y_test, 10)"
   ]
  },
  {
   "cell_type": "code",
   "execution_count": 7,
   "metadata": {
    "colab": {},
    "colab_type": "code",
    "id": "HkN3V0v_cZBj"
   },
   "outputs": [],
   "source": [
    "testd = x_train[0:1000].copy()\n",
    "testl = y_train[0:1000].copy()"
   ]
  },
  {
   "cell_type": "code",
   "execution_count": 8,
   "metadata": {},
   "outputs": [],
   "source": [
    "def build_ganeval_model(enable_logits=True):\n",
    "    K.clear_session()\n",
    "    model_url = \"https://tfhub.dev/deepmind/ganeval-cifar10-convnet/1\"\n",
    "    ganeval_module = thub.Module(model_url)\n",
    "    \n",
    "    model = Sequential()\n",
    "    model.add(InputLayer(input_shape=(32,32,3)))\n",
    "    model.add(thub.KerasLayer(ganeval_module))\n",
    "    if enable_logits:\n",
    "        model.add(Activation('linear'))\n",
    "    else: \n",
    "        model.add(Activation('softmax'))\n",
    "        \n",
    "    model.compile(optimizer=tf.keras.optimizers.SGD(lr=0.1, momentum=0.9, decay=1e-4),\n",
    "                  loss=CategoricalCrossentropy(from_logits=enable_logits),\n",
    "                  metrics=['accuracy'])\n",
    "    \n",
    "    return model"
   ]
  },
  {
   "cell_type": "code",
   "execution_count": 9,
   "metadata": {},
   "outputs": [],
   "source": [
    "def build_ganeval_model_flat(enable_logits=True):\n",
    "    K.clear_session()\n",
    "    model_url = \"https://tfhub.dev/deepmind/ganeval-cifar10-convnet/1\"\n",
    "    ganeval_module = thub.Module(model_url)\n",
    "    \n",
    "    model = Sequential()\n",
    "#     model.add(InputLayer(input_shape=(32*32*3,)))\n",
    "    model.add(Reshape((32,32,1),input_shape=(32*32*1,)))\n",
    "    model.add(Conv2D(3, (3, 3), activation='relu', padding='same'))\n",
    "    model.add(thub.KerasLayer(ganeval_module))\n",
    "    if enable_logits:\n",
    "        model.add(Activation('linear'))\n",
    "    else: \n",
    "        model.add(Activation('softmax'))\n",
    "        \n",
    "    model.compile(optimizer=tf.keras.optimizers.SGD(lr=0.1, momentum=0.9, decay=1e-4),\n",
    "                  loss=CategoricalCrossentropy(from_logits=enable_logits),\n",
    "                  metrics=['accuracy'])\n",
    "    \n",
    "    return model"
   ]
  },
  {
   "cell_type": "code",
   "execution_count": 10,
   "metadata": {},
   "outputs": [
    {
     "name": "stdout",
     "output_type": "stream",
     "text": [
      "WARNING:tensorflow:From /home/jupyter/adver_tf1_gcp/lib/python3.5/site-packages/tensorflow_core/python/ops/resource_variable_ops.py:1630: calling BaseResourceVariable.__init__ (from tensorflow.python.ops.resource_variable_ops) with constraint is deprecated and will be removed in a future version.\n",
      "Instructions for updating:\n",
      "If using Keras pass *_constraint arguments to layers.\n"
     ]
    },
    {
     "name": "stderr",
     "output_type": "stream",
     "text": [
      "WARNING:tensorflow:From /home/jupyter/adver_tf1_gcp/lib/python3.5/site-packages/tensorflow_core/python/ops/resource_variable_ops.py:1630: calling BaseResourceVariable.__init__ (from tensorflow.python.ops.resource_variable_ops) with constraint is deprecated and will be removed in a future version.\n",
      "Instructions for updating:\n",
      "If using Keras pass *_constraint arguments to layers.\n"
     ]
    },
    {
     "name": "stdout",
     "output_type": "stream",
     "text": [
      "INFO:tensorflow:Saver not created because there are no variables in the graph to restore\n"
     ]
    },
    {
     "name": "stderr",
     "output_type": "stream",
     "text": [
      "INFO:tensorflow:Saver not created because there are no variables in the graph to restore\n"
     ]
    },
    {
     "name": "stdout",
     "output_type": "stream",
     "text": [
      "Model: \"sequential\"\n",
      "_________________________________________________________________\n",
      "Layer (type)                 Output Shape              Param #   \n",
      "=================================================================\n",
      "reshape (Reshape)            (None, 32, 32, 1)         0         \n",
      "_________________________________________________________________\n",
      "conv2d (Conv2D)              (None, 32, 32, 3)         30        \n",
      "_________________________________________________________________\n",
      "keras_layer (KerasLayer)     (None, 10)                7796426   \n",
      "_________________________________________________________________\n",
      "activation (Activation)      (None, 10)                0         \n",
      "=================================================================\n",
      "Total params: 7,796,456\n",
      "Trainable params: 30\n",
      "Non-trainable params: 7,796,426\n",
      "_________________________________________________________________\n"
     ]
    }
   ],
   "source": [
    "ge_flat_clf = build_ganeval_model_flat()\n",
    "ge_flat_clf.summary()"
   ]
  },
  {
   "cell_type": "code",
   "execution_count": 12,
   "metadata": {},
   "outputs": [
    {
     "name": "stdout",
     "output_type": "stream",
     "text": [
      "INFO:tensorflow:Saver not created because there are no variables in the graph to restore\n"
     ]
    },
    {
     "name": "stderr",
     "output_type": "stream",
     "text": [
      "INFO:tensorflow:Saver not created because there are no variables in the graph to restore\n"
     ]
    },
    {
     "name": "stdout",
     "output_type": "stream",
     "text": [
      "Model: \"sequential\"\n",
      "_________________________________________________________________\n",
      "Layer (type)                 Output Shape              Param #   \n",
      "=================================================================\n",
      "keras_layer (KerasLayer)     (None, 10)                7796426   \n",
      "_________________________________________________________________\n",
      "activation (Activation)      (None, 10)                0         \n",
      "=================================================================\n",
      "Total params: 7,796,426\n",
      "Trainable params: 0\n",
      "Non-trainable params: 7,796,426\n",
      "_________________________________________________________________\n"
     ]
    }
   ],
   "source": [
    "ge_cifar_clf = build_ganeval_model(enable_logits=True)\n",
    "ge_cifar_clf.summary()"
   ]
  },
  {
   "cell_type": "markdown",
   "metadata": {
    "pycharm": {
     "name": "#%% md\n"
    }
   },
   "source": [
    "### Testing the retrieved hub model by evaluating on train data\n",
    "Should give us 100% or something close to that"
   ]
  },
  {
   "cell_type": "code",
   "execution_count": 13,
   "metadata": {
    "pycharm": {
     "name": "#%%\n"
    }
   },
   "outputs": [
    {
     "name": "stdout",
     "output_type": "stream",
     "text": [
      "WARNING:tensorflow:OMP_NUM_THREADS is no longer used by the default Keras config. To configure the number of threads, use tf.config.threading APIs.\n"
     ]
    },
    {
     "name": "stderr",
     "output_type": "stream",
     "text": [
      "WARNING:tensorflow:OMP_NUM_THREADS is no longer used by the default Keras config. To configure the number of threads, use tf.config.threading APIs.\n"
     ]
    },
    {
     "name": "stdout",
     "output_type": "stream",
     "text": [
      "1000/1000 [==============================] - 2s 2ms/sample - loss: 0.0017 - acc: 1.0000\n"
     ]
    },
    {
     "data": {
      "text/plain": [
       "[0.001668029203079641, 1.0]"
      ]
     },
     "execution_count": 13,
     "metadata": {},
     "output_type": "execute_result"
    }
   ],
   "source": [
    "ge_cifar_clf.evaluate(testd, testl)"
   ]
  },
  {
   "cell_type": "markdown",
   "metadata": {
    "pycharm": {
     "name": "#%% md\n"
    }
   },
   "source": [
    "### Testing a sample attack"
   ]
  },
  {
   "cell_type": "code",
   "execution_count": 21,
   "metadata": {
    "colab": {},
    "colab_type": "code",
    "id": "FNmpFslsKbfD",
    "pycharm": {
     "name": "#%%\n"
    }
   },
   "outputs": [],
   "source": [
    "classifier = KerasClassifier(model=ge_cifar_clf, clip_values=(0, 1), use_logits=True)\n",
    "attack_fgsm = FastGradientMethod(classifier=classifier, eps=0.4)"
   ]
  },
  {
   "cell_type": "code",
   "execution_count": 22,
   "metadata": {
    "colab": {},
    "colab_type": "code",
    "id": "t1nIaChockte"
   },
   "outputs": [],
   "source": [
    "x_test_adv = attack_fgsm.generate(testd.copy())"
   ]
  },
  {
   "cell_type": "code",
   "execution_count": 23,
   "metadata": {
    "colab": {
     "base_uri": "https://localhost:8080/",
     "height": 51
    },
    "colab_type": "code",
    "id": "dH4KvoVocrqf",
    "outputId": "dd3f1325-b761-428f-ad6b-f55b1b265e6d"
   },
   "outputs": [
    {
     "name": "stdout",
     "output_type": "stream",
     "text": [
      "1000/1000 [==============================] - 2s 2ms/sample - loss: 6.9332 - acc: 0.1020\n"
     ]
    },
    {
     "data": {
      "text/plain": [
       "[6.933242935180664, 0.102]"
      ]
     },
     "execution_count": 23,
     "metadata": {},
     "output_type": "execute_result"
    }
   ],
   "source": [
    "ge_cifar_clf.evaluate(x_test_adv, testl)"
   ]
  },
  {
   "cell_type": "markdown",
   "metadata": {
    "pycharm": {
     "name": "#%% md\n"
    }
   },
   "source": [
    "### Define the substitute classifier for our model"
   ]
  },
  {
   "cell_type": "code",
   "execution_count": 13,
   "metadata": {
    "pycharm": {
     "name": "#%%\n"
    }
   },
   "outputs": [],
   "source": [
    "# def build_substitute_model(enable_logits=True):\n",
    "#     model = tf.keras.Sequential( )\n",
    "#     model.add( Conv2D( 32, kernel_size=(3, 3), padding='same', activation='relu', input_shape=(32,32,3) ) )\n",
    "#     model.add( Conv2D( 64, (3, 3), padding='same', activation='relu' ) )\n",
    "#     model.add( MaxPooling2D( pool_size=(2, 2) ) )\n",
    "#     model.add( Flatten( ) )\n",
    "#     model.add( Dense( 128, activation='relu' ) )\n",
    "#     if enable_logits:\n",
    "#         model.add( Dense(10, activation='linear' ) )\n",
    "#     else:\n",
    "#         model.add( Dense(10, activation='softmax' ) )\n",
    "        \n",
    "#     model.compile(loss=tf.keras.losses.CategoricalCrossentropy(from_logits=enable_logits),\n",
    "#                   optimizer='adam',\n",
    "#                   metrics=['accuracy'] )\n",
    "    \n",
    "\n",
    "    \n",
    "#     return model"
   ]
  },
  {
   "cell_type": "code",
   "execution_count": 24,
   "metadata": {},
   "outputs": [],
   "source": [
    "def build_substitute_model(enable_logits=True):\n",
    "    model = tf.keras.Sequential( )\n",
    "    model.add(Conv2D(32, (3, 3), padding=\"same\", input_shape=(32,32,3)))\n",
    "    model.add(Activation(\"relu\"))\n",
    "    model.add(Conv2D(32, (3, 3)))\n",
    "    model.add(Activation(\"relu\"))\n",
    "    model.add(MaxPooling2D(pool_size=(2, 2)))\n",
    "    model.add(Dropout(0.25))\n",
    "\n",
    "    model.add(Conv2D(64, (3, 3), padding=\"same\"))\n",
    "    model.add(Activation(\"relu\"))\n",
    "    model.add(Conv2D(64, (3, 3)))\n",
    "    model.add(Activation(\"relu\"))\n",
    "    model.add(MaxPooling2D(pool_size=(2, 2)))\n",
    "    model.add(Dropout(0.25))\n",
    "\n",
    "    model.add(Flatten())\n",
    "    model.add(Dense(512))\n",
    "    model.add(Activation(\"relu\"))\n",
    "    model.add(Dropout(0.5))\n",
    "    model.add(Dense(10))\n",
    "    if enable_logits:\n",
    "        model.add(Activation(\"linear\"))\n",
    "    else:\n",
    "        model.add(Activation(\"softmax\"))\n",
    "        \n",
    "    model.compile(loss=CategoricalCrossentropy(from_logits=enable_logits),\n",
    "                  optimizer='adam',\n",
    "                  metrics=['accuracy'] )\n",
    "    \n",
    "    return model"
   ]
  },
  {
   "cell_type": "code",
   "execution_count": 25,
   "metadata": {
    "pycharm": {
     "name": "#%%\n"
    }
   },
   "outputs": [
    {
     "name": "stdout",
     "output_type": "stream",
     "text": [
      "(1000, 32, 32, 3) (1000, 10)\n",
      "(1000, 32, 32, 3) (1000, 10)\n"
     ]
    }
   ],
   "source": [
    "x_train_adv, y_train_adv = sample_by_class(x_train, y_train, num_samples=100)\n",
    "x_test_adv, y_test_adv = sample_by_class(x_test, y_test, num_samples=100)"
   ]
  },
  {
   "cell_type": "code",
   "execution_count": 95,
   "metadata": {},
   "outputs": [],
   "source": [
    "def extraction_attack(ART_attack, x_train, y_train, fractions, epoch=30, verbose=0):\n",
    "    \n",
    "    data_size = x_train.shape[0]\n",
    "    epochs = epoch\n",
    "    \n",
    "    ### Train and Test sample data from each class to get final results\n",
    "    print(\"Extract 100 Training samples from each class:\")\n",
    "    x_train_adv, y_train_adv = sample_by_class(x_train, y_train, num_samples=100)\n",
    "    print(\"Extract 100 Test samples from each class:\")\n",
    "    x_test_adv, y_test_adv = sample_by_class(x_test, y_test, num_samples=100)\n",
    "    \n",
    "    ge_cifar_clf = build_ganeval_model()\n",
    "    cloud_art_clf = KerasClassifier(model=ge_cifar_clf, clip_values=(0, 1), use_logits=True)\n",
    "    \n",
    "    loss1, acc1 = cloud_art_clf._model.evaluate(x_train_adv, y_train_adv, verbose=verbose)\n",
    "    loss2, acc2 = cloud_art_clf._model.evaluate(x_test_adv, y_test_adv, verbose=verbose)\n",
    "    \n",
    "    clf_results = []\n",
    "    \n",
    "    for each_frac in fractions:\n",
    "        max_queries = int(data_size*each_frac/100)\n",
    "        print(\"Attacking the victim with %d percent of training data: %d queries...\"%(each_frac, max_queries))\n",
    "#         partial_x_train, partial_y_train = subset_data(x_train, y_train, fraction=each_frac)\n",
    "        \n",
    "        sub_clf = build_substitute_model()\n",
    "        stolen_clf = KerasClassifier(model=sub_clf, clip_values=(0, 1), use_logits=True)\n",
    "        \n",
    "        attack = ART_attack(classifier=cloud_art_clf, \n",
    "                        batch_size_fit=32, \n",
    "                        batch_size_query=32,\n",
    "                        nb_epochs=epochs,\n",
    "                        nb_stolen=max_queries)\n",
    "        \n",
    "        stolen_clf = attack.extract(x_train, thieved_classifier=stolen_clf)\n",
    "\n",
    "        loss3, acc3 = stolen_clf._model.evaluate(x_train_adv, y_train_adv, verbose=verbose)\n",
    "        loss4, acc4 = stolen_clf._model.evaluate(x_test_adv, y_test_adv, verbose=verbose)\n",
    "        \n",
    "        clf_results.append((ART_attack.__name__, each_frac, max_queries, epochs, (round(loss1,4), acc1), (round(loss2,4), acc2), \n",
    "                            (round(loss3,4), acc3), (round(loss4,4), acc4)))\n",
    "        \n",
    "        results_df = pd.DataFrame(clf_results, columns=['Attack', 'Fraction of data', 'Max queries', 'Epochs trained', 'Victim clf on Train data',\n",
    "                                                       'Victim clf on Test data', 'Stolen clf on Train data', \n",
    "                                                        'Stolen clf on Test data'])\n",
    "    return results_df\n",
    "        \n",
    "        "
   ]
  },
  {
   "cell_type": "code",
   "execution_count": 96,
   "metadata": {},
   "outputs": [
    {
     "name": "stdout",
     "output_type": "stream",
     "text": [
      "Extract 100 Training samples from each class:\n",
      "(1000, 32, 32, 3) (1000, 10)\n",
      "Extract 100 Test samples from each class:\n",
      "(1000, 32, 32, 3) (1000, 10)\n",
      "INFO:tensorflow:Saver not created because there are no variables in the graph to restore\n"
     ]
    },
    {
     "name": "stderr",
     "output_type": "stream",
     "text": [
      "INFO:tensorflow:Saver not created because there are no variables in the graph to restore\n"
     ]
    },
    {
     "name": "stdout",
     "output_type": "stream",
     "text": [
      "Attacking the victim with 5 percent of training data: 2500 queries...\n",
      "Attacking the victim with 10 percent of training data: 5000 queries...\n",
      "Attacking the victim with 20 percent of training data: 10000 queries...\n",
      "Attacking the victim with 30 percent of training data: 15000 queries...\n",
      "Extract 100 Training samples from each class:\n",
      "(1000, 32, 32, 3) (1000, 10)\n",
      "Extract 100 Test samples from each class:\n",
      "(1000, 32, 32, 3) (1000, 10)\n",
      "INFO:tensorflow:Saver not created because there are no variables in the graph to restore\n"
     ]
    },
    {
     "name": "stderr",
     "output_type": "stream",
     "text": [
      "INFO:tensorflow:Saver not created because there are no variables in the graph to restore\n"
     ]
    },
    {
     "name": "stdout",
     "output_type": "stream",
     "text": [
      "Attacking the victim with 5 percent of training data: 2500 queries...\n",
      "Attacking the victim with 10 percent of training data: 5000 queries...\n",
      "Attacking the victim with 20 percent of training data: 10000 queries...\n",
      "Attacking the victim with 30 percent of training data: 15000 queries...\n",
      "Extract 100 Training samples from each class:\n",
      "(1000, 32, 32, 3) (1000, 10)\n",
      "Extract 100 Test samples from each class:\n",
      "(1000, 32, 32, 3) (1000, 10)\n",
      "INFO:tensorflow:Saver not created because there are no variables in the graph to restore\n"
     ]
    },
    {
     "name": "stderr",
     "output_type": "stream",
     "text": [
      "INFO:tensorflow:Saver not created because there are no variables in the graph to restore\n"
     ]
    },
    {
     "name": "stdout",
     "output_type": "stream",
     "text": [
      "Attacking the victim with 5 percent of training data: 2500 queries...\n",
      "Attacking the victim with 10 percent of training data: 5000 queries...\n",
      "Attacking the victim with 20 percent of training data: 10000 queries...\n",
      "Attacking the victim with 30 percent of training data: 15000 queries...\n"
     ]
    }
   ],
   "source": [
    "KON_results_20e = extraction_attack(KnockoffNets, x_train, y_train, [5,10,20,30], epoch=20)\n",
    "KON_results_30e = extraction_attack(KnockoffNets, x_train, y_train, [5,10,20,30], epoch=30)\n",
    "KON_results_40e = extraction_attack(KnockoffNets, x_train, y_train, [5,10,20,30], epoch=40)"
   ]
  },
  {
   "cell_type": "code",
   "execution_count": 97,
   "metadata": {},
   "outputs": [
    {
     "data": {
      "text/html": [
       "<div>\n",
       "<style scoped>\n",
       "    .dataframe tbody tr th:only-of-type {\n",
       "        vertical-align: middle;\n",
       "    }\n",
       "\n",
       "    .dataframe tbody tr th {\n",
       "        vertical-align: top;\n",
       "    }\n",
       "\n",
       "    .dataframe thead th {\n",
       "        text-align: right;\n",
       "    }\n",
       "</style>\n",
       "<table border=\"1\" class=\"dataframe\">\n",
       "  <thead>\n",
       "    <tr style=\"text-align: right;\">\n",
       "      <th></th>\n",
       "      <th>Attack</th>\n",
       "      <th>Fraction of data</th>\n",
       "      <th>Max queries</th>\n",
       "      <th>Epochs trained</th>\n",
       "      <th>Victim clf on Train data</th>\n",
       "      <th>Victim clf on Test data</th>\n",
       "      <th>Stolen clf on Train data</th>\n",
       "      <th>Stolen clf on Test data</th>\n",
       "    </tr>\n",
       "  </thead>\n",
       "  <tbody>\n",
       "    <tr>\n",
       "      <th>0</th>\n",
       "      <td>KnockoffNets</td>\n",
       "      <td>5</td>\n",
       "      <td>2500</td>\n",
       "      <td>20</td>\n",
       "      <td>(0.0017, 1.0)</td>\n",
       "      <td>(0.2134, 0.944)</td>\n",
       "      <td>(1.8743, 0.52)</td>\n",
       "      <td>(1.8492, 0.515)</td>\n",
       "    </tr>\n",
       "    <tr>\n",
       "      <th>1</th>\n",
       "      <td>KnockoffNets</td>\n",
       "      <td>10</td>\n",
       "      <td>5000</td>\n",
       "      <td>20</td>\n",
       "      <td>(0.0017, 1.0)</td>\n",
       "      <td>(0.2134, 0.944)</td>\n",
       "      <td>(1.3711, 0.619)</td>\n",
       "      <td>(1.5513, 0.583)</td>\n",
       "    </tr>\n",
       "    <tr>\n",
       "      <th>2</th>\n",
       "      <td>KnockoffNets</td>\n",
       "      <td>20</td>\n",
       "      <td>10000</td>\n",
       "      <td>20</td>\n",
       "      <td>(0.0017, 1.0)</td>\n",
       "      <td>(0.2134, 0.944)</td>\n",
       "      <td>(1.0375, 0.723)</td>\n",
       "      <td>(1.2095, 0.653)</td>\n",
       "    </tr>\n",
       "    <tr>\n",
       "      <th>3</th>\n",
       "      <td>KnockoffNets</td>\n",
       "      <td>30</td>\n",
       "      <td>15000</td>\n",
       "      <td>20</td>\n",
       "      <td>(0.0017, 1.0)</td>\n",
       "      <td>(0.2134, 0.944)</td>\n",
       "      <td>(0.7953, 0.75)</td>\n",
       "      <td>(1.0285, 0.697)</td>\n",
       "    </tr>\n",
       "  </tbody>\n",
       "</table>\n",
       "</div>"
      ],
      "text/plain": [
       "         Attack  Fraction of data  Max queries  Epochs trained  \\\n",
       "0  KnockoffNets                 5         2500              20   \n",
       "1  KnockoffNets                10         5000              20   \n",
       "2  KnockoffNets                20        10000              20   \n",
       "3  KnockoffNets                30        15000              20   \n",
       "\n",
       "  Victim clf on Train data Victim clf on Test data Stolen clf on Train data  \\\n",
       "0            (0.0017, 1.0)         (0.2134, 0.944)           (1.8743, 0.52)   \n",
       "1            (0.0017, 1.0)         (0.2134, 0.944)          (1.3711, 0.619)   \n",
       "2            (0.0017, 1.0)         (0.2134, 0.944)          (1.0375, 0.723)   \n",
       "3            (0.0017, 1.0)         (0.2134, 0.944)           (0.7953, 0.75)   \n",
       "\n",
       "  Stolen clf on Test data  \n",
       "0         (1.8492, 0.515)  \n",
       "1         (1.5513, 0.583)  \n",
       "2         (1.2095, 0.653)  \n",
       "3         (1.0285, 0.697)  "
      ]
     },
     "execution_count": 97,
     "metadata": {},
     "output_type": "execute_result"
    }
   ],
   "source": [
    "KON_results_20e.head()"
   ]
  },
  {
   "cell_type": "code",
   "execution_count": 98,
   "metadata": {},
   "outputs": [
    {
     "data": {
      "text/html": [
       "<div>\n",
       "<style scoped>\n",
       "    .dataframe tbody tr th:only-of-type {\n",
       "        vertical-align: middle;\n",
       "    }\n",
       "\n",
       "    .dataframe tbody tr th {\n",
       "        vertical-align: top;\n",
       "    }\n",
       "\n",
       "    .dataframe thead th {\n",
       "        text-align: right;\n",
       "    }\n",
       "</style>\n",
       "<table border=\"1\" class=\"dataframe\">\n",
       "  <thead>\n",
       "    <tr style=\"text-align: right;\">\n",
       "      <th></th>\n",
       "      <th>Attack</th>\n",
       "      <th>Fraction of data</th>\n",
       "      <th>Max queries</th>\n",
       "      <th>Epochs trained</th>\n",
       "      <th>Victim clf on Train data</th>\n",
       "      <th>Victim clf on Test data</th>\n",
       "      <th>Stolen clf on Train data</th>\n",
       "      <th>Stolen clf on Test data</th>\n",
       "    </tr>\n",
       "  </thead>\n",
       "  <tbody>\n",
       "    <tr>\n",
       "      <th>0</th>\n",
       "      <td>KnockoffNets</td>\n",
       "      <td>5</td>\n",
       "      <td>2500</td>\n",
       "      <td>30</td>\n",
       "      <td>(0.0017, 1.0)</td>\n",
       "      <td>(0.2134, 0.944)</td>\n",
       "      <td>(2.1656, 0.545)</td>\n",
       "      <td>(2.3571, 0.525)</td>\n",
       "    </tr>\n",
       "    <tr>\n",
       "      <th>1</th>\n",
       "      <td>KnockoffNets</td>\n",
       "      <td>10</td>\n",
       "      <td>5000</td>\n",
       "      <td>30</td>\n",
       "      <td>(0.0017, 1.0)</td>\n",
       "      <td>(0.2134, 0.944)</td>\n",
       "      <td>(1.378, 0.636)</td>\n",
       "      <td>(1.5988, 0.593)</td>\n",
       "    </tr>\n",
       "    <tr>\n",
       "      <th>2</th>\n",
       "      <td>KnockoffNets</td>\n",
       "      <td>20</td>\n",
       "      <td>10000</td>\n",
       "      <td>30</td>\n",
       "      <td>(0.0017, 1.0)</td>\n",
       "      <td>(0.2134, 0.944)</td>\n",
       "      <td>(1.091, 0.726)</td>\n",
       "      <td>(1.4035, 0.66)</td>\n",
       "    </tr>\n",
       "    <tr>\n",
       "      <th>3</th>\n",
       "      <td>KnockoffNets</td>\n",
       "      <td>30</td>\n",
       "      <td>15000</td>\n",
       "      <td>30</td>\n",
       "      <td>(0.0017, 1.0)</td>\n",
       "      <td>(0.2134, 0.944)</td>\n",
       "      <td>(0.7677, 0.791)</td>\n",
       "      <td>(0.9552, 0.708)</td>\n",
       "    </tr>\n",
       "  </tbody>\n",
       "</table>\n",
       "</div>"
      ],
      "text/plain": [
       "         Attack  Fraction of data  Max queries  Epochs trained  \\\n",
       "0  KnockoffNets                 5         2500              30   \n",
       "1  KnockoffNets                10         5000              30   \n",
       "2  KnockoffNets                20        10000              30   \n",
       "3  KnockoffNets                30        15000              30   \n",
       "\n",
       "  Victim clf on Train data Victim clf on Test data Stolen clf on Train data  \\\n",
       "0            (0.0017, 1.0)         (0.2134, 0.944)          (2.1656, 0.545)   \n",
       "1            (0.0017, 1.0)         (0.2134, 0.944)           (1.378, 0.636)   \n",
       "2            (0.0017, 1.0)         (0.2134, 0.944)           (1.091, 0.726)   \n",
       "3            (0.0017, 1.0)         (0.2134, 0.944)          (0.7677, 0.791)   \n",
       "\n",
       "  Stolen clf on Test data  \n",
       "0         (2.3571, 0.525)  \n",
       "1         (1.5988, 0.593)  \n",
       "2          (1.4035, 0.66)  \n",
       "3         (0.9552, 0.708)  "
      ]
     },
     "execution_count": 98,
     "metadata": {},
     "output_type": "execute_result"
    }
   ],
   "source": [
    "KON_results_30e.head()"
   ]
  },
  {
   "cell_type": "code",
   "execution_count": 99,
   "metadata": {},
   "outputs": [
    {
     "data": {
      "text/html": [
       "<div>\n",
       "<style scoped>\n",
       "    .dataframe tbody tr th:only-of-type {\n",
       "        vertical-align: middle;\n",
       "    }\n",
       "\n",
       "    .dataframe tbody tr th {\n",
       "        vertical-align: top;\n",
       "    }\n",
       "\n",
       "    .dataframe thead th {\n",
       "        text-align: right;\n",
       "    }\n",
       "</style>\n",
       "<table border=\"1\" class=\"dataframe\">\n",
       "  <thead>\n",
       "    <tr style=\"text-align: right;\">\n",
       "      <th></th>\n",
       "      <th>Attack</th>\n",
       "      <th>Fraction of data</th>\n",
       "      <th>Max queries</th>\n",
       "      <th>Epochs trained</th>\n",
       "      <th>Victim clf on Train data</th>\n",
       "      <th>Victim clf on Test data</th>\n",
       "      <th>Stolen clf on Train data</th>\n",
       "      <th>Stolen clf on Test data</th>\n",
       "    </tr>\n",
       "  </thead>\n",
       "  <tbody>\n",
       "    <tr>\n",
       "      <th>0</th>\n",
       "      <td>KnockoffNets</td>\n",
       "      <td>5</td>\n",
       "      <td>2500</td>\n",
       "      <td>40</td>\n",
       "      <td>(0.0017, 1.0)</td>\n",
       "      <td>(0.2134, 0.944)</td>\n",
       "      <td>(2.6595, 0.506)</td>\n",
       "      <td>(2.5057, 0.52)</td>\n",
       "    </tr>\n",
       "    <tr>\n",
       "      <th>1</th>\n",
       "      <td>KnockoffNets</td>\n",
       "      <td>10</td>\n",
       "      <td>5000</td>\n",
       "      <td>40</td>\n",
       "      <td>(0.0017, 1.0)</td>\n",
       "      <td>(0.2134, 0.944)</td>\n",
       "      <td>(1.5156, 0.65)</td>\n",
       "      <td>(1.7004, 0.603)</td>\n",
       "    </tr>\n",
       "    <tr>\n",
       "      <th>2</th>\n",
       "      <td>KnockoffNets</td>\n",
       "      <td>20</td>\n",
       "      <td>10000</td>\n",
       "      <td>40</td>\n",
       "      <td>(0.0017, 1.0)</td>\n",
       "      <td>(0.2134, 0.944)</td>\n",
       "      <td>(1.2484, 0.714)</td>\n",
       "      <td>(1.5209, 0.642)</td>\n",
       "    </tr>\n",
       "    <tr>\n",
       "      <th>3</th>\n",
       "      <td>KnockoffNets</td>\n",
       "      <td>30</td>\n",
       "      <td>15000</td>\n",
       "      <td>40</td>\n",
       "      <td>(0.0017, 1.0)</td>\n",
       "      <td>(0.2134, 0.944)</td>\n",
       "      <td>(0.8399, 0.772)</td>\n",
       "      <td>(1.0338, 0.71)</td>\n",
       "    </tr>\n",
       "  </tbody>\n",
       "</table>\n",
       "</div>"
      ],
      "text/plain": [
       "         Attack  Fraction of data  Max queries  Epochs trained  \\\n",
       "0  KnockoffNets                 5         2500              40   \n",
       "1  KnockoffNets                10         5000              40   \n",
       "2  KnockoffNets                20        10000              40   \n",
       "3  KnockoffNets                30        15000              40   \n",
       "\n",
       "  Victim clf on Train data Victim clf on Test data Stolen clf on Train data  \\\n",
       "0            (0.0017, 1.0)         (0.2134, 0.944)          (2.6595, 0.506)   \n",
       "1            (0.0017, 1.0)         (0.2134, 0.944)           (1.5156, 0.65)   \n",
       "2            (0.0017, 1.0)         (0.2134, 0.944)          (1.2484, 0.714)   \n",
       "3            (0.0017, 1.0)         (0.2134, 0.944)          (0.8399, 0.772)   \n",
       "\n",
       "  Stolen clf on Test data  \n",
       "0          (2.5057, 0.52)  \n",
       "1         (1.7004, 0.603)  \n",
       "2         (1.5209, 0.642)  \n",
       "3          (1.0338, 0.71)  "
      ]
     },
     "execution_count": 99,
     "metadata": {},
     "output_type": "execute_result"
    }
   ],
   "source": [
    "KON_results_40e.head()"
   ]
  },
  {
   "cell_type": "code",
   "execution_count": 100,
   "metadata": {
    "collapsed": true,
    "jupyter": {
     "outputs_hidden": true
    }
   },
   "outputs": [
    {
     "name": "stdout",
     "output_type": "stream",
     "text": [
      "Extract 100 Training samples from each class:\n",
      "(1000, 32, 32, 3) (1000, 10)\n",
      "Extract 100 Test samples from each class:\n",
      "(1000, 32, 32, 3) (1000, 10)\n",
      "INFO:tensorflow:Saver not created because there are no variables in the graph to restore\n"
     ]
    },
    {
     "name": "stderr",
     "output_type": "stream",
     "text": [
      "INFO:tensorflow:Saver not created because there are no variables in the graph to restore\n"
     ]
    },
    {
     "name": "stdout",
     "output_type": "stream",
     "text": [
      "Attacking the victim with 5 percent of training data: 2500 queries...\n",
      "Epoch 1/20\n",
      "78/78 [==============================] - 3s 41ms/step - loss: 2.1659 - acc: 0.1711\n",
      "Epoch 2/20\n",
      "78/78 [==============================] - 2s 29ms/step - loss: 1.9490 - acc: 0.2632\n",
      "Epoch 3/20\n",
      "78/78 [==============================] - 2s 29ms/step - loss: 1.7630 - acc: 0.3337\n",
      "Epoch 4/20\n",
      "78/78 [==============================] - 2s 29ms/step - loss: 1.6508 - acc: 0.3986\n",
      "Epoch 5/20\n",
      "78/78 [==============================] - 2s 29ms/step - loss: 1.5428 - acc: 0.4279\n",
      "Epoch 6/20\n",
      "78/78 [==============================] - 2s 29ms/step - loss: 1.4630 - acc: 0.4708\n",
      "Epoch 7/20\n",
      "78/78 [==============================] - 2s 29ms/step - loss: 1.4040 - acc: 0.4888\n",
      "Epoch 8/20\n",
      "78/78 [==============================] - 2s 29ms/step - loss: 1.3108 - acc: 0.5232\n",
      "Epoch 9/20\n",
      "78/78 [==============================] - 2s 29ms/step - loss: 1.1893 - acc: 0.5681\n",
      "Epoch 10/20\n",
      "78/78 [==============================] - 2s 29ms/step - loss: 1.1107 - acc: 0.5966\n",
      "Epoch 11/20\n",
      "78/78 [==============================] - 2s 29ms/step - loss: 1.0568 - acc: 0.6298\n",
      "Epoch 12/20\n",
      "78/78 [==============================] - 2s 29ms/step - loss: 0.9456 - acc: 0.6599\n",
      "Epoch 13/20\n",
      "78/78 [==============================] - 2s 29ms/step - loss: 0.8595 - acc: 0.6919\n",
      "Epoch 14/20\n",
      "78/78 [==============================] - 2s 29ms/step - loss: 0.8286 - acc: 0.7123\n",
      "Epoch 15/20\n",
      "78/78 [==============================] - 2s 29ms/step - loss: 0.6926 - acc: 0.7488\n",
      "Epoch 16/20\n",
      "78/78 [==============================] - 2s 29ms/step - loss: 0.7038 - acc: 0.7564\n",
      "Epoch 17/20\n",
      "78/78 [==============================] - 2s 29ms/step - loss: 0.5993 - acc: 0.7885\n",
      "Epoch 18/20\n",
      "78/78 [==============================] - 2s 29ms/step - loss: 0.5195 - acc: 0.8181\n",
      "Epoch 19/20\n",
      "78/78 [==============================] - 2s 29ms/step - loss: 0.4897 - acc: 0.8289\n",
      "Epoch 20/20\n",
      "78/78 [==============================] - 2s 29ms/step - loss: 0.4485 - acc: 0.8478\n",
      "Attacking the victim with 10 percent of training data: 5000 queries...\n",
      "Epoch 1/20\n",
      "156/156 [==============================] - 6s 36ms/step - loss: 2.0933 - acc: 0.2057\n",
      "Epoch 2/20\n",
      "156/156 [==============================] - 5s 29ms/step - loss: 1.7241 - acc: 0.3668\n",
      "Epoch 3/20\n",
      "156/156 [==============================] - 5s 29ms/step - loss: 1.5237 - acc: 0.4455\n",
      "Epoch 4/20\n",
      "156/156 [==============================] - 5s 29ms/step - loss: 1.3919 - acc: 0.5042\n",
      "Epoch 5/20\n",
      "156/156 [==============================] - 5s 29ms/step - loss: 1.2604 - acc: 0.5467\n",
      "Epoch 6/20\n",
      "156/156 [==============================] - 5s 29ms/step - loss: 1.2091 - acc: 0.5645\n",
      "Epoch 7/20\n",
      "156/156 [==============================] - 5s 29ms/step - loss: 1.0743 - acc: 0.6144\n",
      "Epoch 8/20\n",
      "156/156 [==============================] - 5s 29ms/step - loss: 0.9800 - acc: 0.6516\n",
      "Epoch 9/20\n",
      "156/156 [==============================] - 5s 30ms/step - loss: 0.8899 - acc: 0.6827\n",
      "Epoch 10/20\n",
      "156/156 [==============================] - 5s 31ms/step - loss: 0.7908 - acc: 0.7214\n",
      "Epoch 11/20\n",
      "156/156 [==============================] - 5s 29ms/step - loss: 0.7613 - acc: 0.7308\n",
      "Epoch 12/20\n",
      "156/156 [==============================] - 5s 29ms/step - loss: 0.6531 - acc: 0.7798\n",
      "Epoch 13/20\n",
      "156/156 [==============================] - 5s 29ms/step - loss: 0.5728 - acc: 0.7913\n",
      "Epoch 14/20\n",
      "156/156 [==============================] - 5s 29ms/step - loss: 0.5271 - acc: 0.8173\n",
      "Epoch 15/20\n",
      "156/156 [==============================] - 5s 29ms/step - loss: 0.4864 - acc: 0.8303\n",
      "Epoch 16/20\n",
      "156/156 [==============================] - 5s 29ms/step - loss: 0.4606 - acc: 0.8349\n",
      "Epoch 17/20\n",
      "156/156 [==============================] - 5s 29ms/step - loss: 0.4200 - acc: 0.8558\n",
      "Epoch 18/20\n",
      "156/156 [==============================] - 5s 29ms/step - loss: 0.3800 - acc: 0.8752\n",
      "Epoch 19/20\n",
      "156/156 [==============================] - 5s 29ms/step - loss: 0.3372 - acc: 0.8822\n",
      "Epoch 20/20\n",
      "156/156 [==============================] - 5s 29ms/step - loss: 0.2926 - acc: 0.8978\n",
      "Attacking the victim with 20 percent of training data: 10000 queries...\n",
      "Epoch 1/20\n",
      "312/312 [==============================] - 10s 33ms/step - loss: 1.9426 - acc: 0.2761\n",
      "Epoch 2/20\n",
      "312/312 [==============================] - 9s 29ms/step - loss: 1.5620 - acc: 0.4221\n",
      "Epoch 3/20\n",
      "312/312 [==============================] - 9s 29ms/step - loss: 1.3783 - acc: 0.4981\n",
      "Epoch 4/20\n",
      "312/312 [==============================] - 9s 29ms/step - loss: 1.2348 - acc: 0.5584\n",
      "Epoch 5/20\n",
      "312/312 [==============================] - 9s 29ms/step - loss: 1.1505 - acc: 0.5892\n",
      "Epoch 6/20\n",
      "312/312 [==============================] - 9s 30ms/step - loss: 1.0096 - acc: 0.6457\n",
      "Epoch 7/20\n",
      "312/312 [==============================] - 9s 30ms/step - loss: 0.9290 - acc: 0.6704\n",
      "Epoch 8/20\n",
      "312/312 [==============================] - 9s 29ms/step - loss: 0.8271 - acc: 0.7118\n",
      "Epoch 9/20\n",
      "312/312 [==============================] - 9s 29ms/step - loss: 0.7796 - acc: 0.7297\n",
      "Epoch 10/20\n",
      "312/312 [==============================] - 9s 29ms/step - loss: 0.7090 - acc: 0.7517\n",
      "Epoch 11/20\n",
      "312/312 [==============================] - 9s 29ms/step - loss: 0.6723 - acc: 0.7647\n",
      "Epoch 12/20\n",
      "312/312 [==============================] - 9s 29ms/step - loss: 0.6089 - acc: 0.7882\n",
      "Epoch 13/20\n",
      "312/312 [==============================] - 9s 29ms/step - loss: 0.5640 - acc: 0.8046\n",
      "Epoch 14/20\n",
      "312/312 [==============================] - 9s 29ms/step - loss: 0.5205 - acc: 0.8200\n",
      "Epoch 15/20\n",
      "312/312 [==============================] - 9s 29ms/step - loss: 0.5054 - acc: 0.8231\n",
      "Epoch 16/20\n",
      "312/312 [==============================] - 9s 29ms/step - loss: 0.4626 - acc: 0.8410\n",
      "Epoch 17/20\n",
      "312/312 [==============================] - 9s 29ms/step - loss: 0.4341 - acc: 0.8503\n",
      "Epoch 18/20\n",
      "312/312 [==============================] - 9s 29ms/step - loss: 0.4010 - acc: 0.8617\n",
      "Epoch 19/20\n",
      "312/312 [==============================] - 9s 29ms/step - loss: 0.3856 - acc: 0.8709\n",
      "Epoch 20/20\n",
      "312/312 [==============================] - 9s 29ms/step - loss: 0.3768 - acc: 0.8717\n",
      "Attacking the victim with 30 percent of training data: 15000 queries...\n",
      "Epoch 1/20\n",
      "468/468 [==============================] - 15s 32ms/step - loss: 1.8222 - acc: 0.3193\n",
      "Epoch 2/20\n",
      "468/468 [==============================] - 14s 30ms/step - loss: 1.4572 - acc: 0.4655\n",
      "Epoch 3/20\n",
      "468/468 [==============================] - 14s 29ms/step - loss: 1.3009 - acc: 0.5325\n",
      "Epoch 4/20\n",
      "468/468 [==============================] - 14s 29ms/step - loss: 1.1998 - acc: 0.5770\n",
      "Epoch 5/20\n",
      "468/468 [==============================] - 14s 29ms/step - loss: 1.1036 - acc: 0.6088\n",
      "Epoch 6/20\n",
      "468/468 [==============================] - 14s 29ms/step - loss: 1.0298 - acc: 0.6341\n",
      "Epoch 7/20\n",
      "468/468 [==============================] - 14s 29ms/step - loss: 0.9397 - acc: 0.6705\n",
      "Epoch 8/20\n",
      "468/468 [==============================] - 14s 29ms/step - loss: 0.8922 - acc: 0.6851\n",
      "Epoch 9/20\n",
      "468/468 [==============================] - 14s 29ms/step - loss: 0.8503 - acc: 0.6993\n",
      "Epoch 10/20\n",
      "468/468 [==============================] - 14s 29ms/step - loss: 0.7928 - acc: 0.7218\n",
      "Epoch 11/20\n",
      "468/468 [==============================] - 14s 29ms/step - loss: 0.7348 - acc: 0.7409\n",
      "Epoch 12/20\n",
      "468/468 [==============================] - 14s 30ms/step - loss: 0.6957 - acc: 0.7553\n",
      "Epoch 13/20\n",
      "468/468 [==============================] - 14s 29ms/step - loss: 0.6686 - acc: 0.7678\n",
      "Epoch 14/20\n",
      "468/468 [==============================] - 14s 29ms/step - loss: 0.6195 - acc: 0.7815\n",
      "Epoch 15/20\n",
      "468/468 [==============================] - 14s 29ms/step - loss: 0.5984 - acc: 0.7907\n",
      "Epoch 16/20\n",
      "468/468 [==============================] - 14s 29ms/step - loss: 0.5572 - acc: 0.8048\n",
      "Epoch 17/20\n",
      "468/468 [==============================] - 14s 29ms/step - loss: 0.5392 - acc: 0.8109\n",
      "Epoch 18/20\n",
      "468/468 [==============================] - 14s 29ms/step - loss: 0.5109 - acc: 0.8202\n",
      "Epoch 19/20\n",
      "468/468 [==============================] - 14s 29ms/step - loss: 0.4914 - acc: 0.8281\n",
      "Epoch 20/20\n",
      "468/468 [==============================] - 14s 29ms/step - loss: 0.4672 - acc: 0.8363\n",
      "Extract 100 Training samples from each class:\n",
      "(1000, 32, 32, 3) (1000, 10)\n",
      "Extract 100 Test samples from each class:\n",
      "(1000, 32, 32, 3) (1000, 10)\n",
      "INFO:tensorflow:Saver not created because there are no variables in the graph to restore\n"
     ]
    },
    {
     "name": "stderr",
     "output_type": "stream",
     "text": [
      "INFO:tensorflow:Saver not created because there are no variables in the graph to restore\n"
     ]
    },
    {
     "name": "stdout",
     "output_type": "stream",
     "text": [
      "Attacking the victim with 5 percent of training data: 2500 queries...\n",
      "Epoch 1/30\n",
      "78/78 [==============================] - 3s 42ms/step - loss: 2.2103 - acc: 0.1727\n",
      "Epoch 2/30\n",
      "78/78 [==============================] - 2s 29ms/step - loss: 1.9747 - acc: 0.2680\n",
      "Epoch 3/30\n",
      "78/78 [==============================] - 2s 29ms/step - loss: 1.7891 - acc: 0.3321\n",
      "Epoch 4/30\n",
      "78/78 [==============================] - 2s 29ms/step - loss: 1.7185 - acc: 0.3886\n",
      "Epoch 5/30\n",
      "78/78 [==============================] - 2s 29ms/step - loss: 1.5537 - acc: 0.4275\n",
      "Epoch 6/30\n",
      "78/78 [==============================] - 2s 29ms/step - loss: 1.4991 - acc: 0.4511\n",
      "Epoch 7/30\n",
      "78/78 [==============================] - 2s 29ms/step - loss: 1.3731 - acc: 0.5008\n",
      "Epoch 8/30\n",
      "78/78 [==============================] - 2s 29ms/step - loss: 1.3143 - acc: 0.5244\n",
      "Epoch 9/30\n",
      "78/78 [==============================] - 2s 29ms/step - loss: 1.2144 - acc: 0.5573\n",
      "Epoch 10/30\n",
      "78/78 [==============================] - 2s 29ms/step - loss: 1.1615 - acc: 0.5917\n",
      "Epoch 11/30\n",
      "78/78 [==============================] - 2s 29ms/step - loss: 1.0418 - acc: 0.6238\n",
      "Epoch 12/30\n",
      "78/78 [==============================] - 2s 29ms/step - loss: 0.9748 - acc: 0.6567\n",
      "Epoch 13/30\n",
      "78/78 [==============================] - 2s 29ms/step - loss: 0.8791 - acc: 0.6839\n",
      "Epoch 14/30\n",
      "78/78 [==============================] - 2s 29ms/step - loss: 0.8207 - acc: 0.7087\n",
      "Epoch 15/30\n",
      "78/78 [==============================] - 2s 29ms/step - loss: 0.7253 - acc: 0.7388\n",
      "Epoch 16/30\n",
      "78/78 [==============================] - 2s 29ms/step - loss: 0.6412 - acc: 0.7736\n",
      "Epoch 17/30\n",
      "78/78 [==============================] - 2s 29ms/step - loss: 0.5898 - acc: 0.7993\n",
      "Epoch 18/30\n",
      "78/78 [==============================] - 2s 31ms/step - loss: 0.5592 - acc: 0.8029\n",
      "Epoch 19/30\n",
      "78/78 [==============================] - 2s 30ms/step - loss: 0.4959 - acc: 0.8337\n",
      "Epoch 20/30\n",
      "78/78 [==============================] - 2s 29ms/step - loss: 0.4489 - acc: 0.8425\n",
      "Epoch 21/30\n",
      "78/78 [==============================] - 2s 29ms/step - loss: 0.4249 - acc: 0.8542\n",
      "Epoch 22/30\n",
      "78/78 [==============================] - 2s 29ms/step - loss: 0.4159 - acc: 0.8614\n",
      "Epoch 23/30\n",
      "78/78 [==============================] - 2s 29ms/step - loss: 0.3791 - acc: 0.8714\n",
      "Epoch 24/30\n",
      "78/78 [==============================] - 2s 29ms/step - loss: 0.3717 - acc: 0.8726\n",
      "Epoch 25/30\n",
      "78/78 [==============================] - 2s 29ms/step - loss: 0.2960 - acc: 0.8950\n",
      "Epoch 26/30\n",
      "78/78 [==============================] - 2s 29ms/step - loss: 0.2808 - acc: 0.9042\n",
      "Epoch 27/30\n",
      "78/78 [==============================] - 2s 29ms/step - loss: 0.2735 - acc: 0.9083\n",
      "Epoch 28/30\n",
      "78/78 [==============================] - 2s 29ms/step - loss: 0.2648 - acc: 0.9062\n",
      "Epoch 29/30\n",
      "78/78 [==============================] - 2s 29ms/step - loss: 0.2372 - acc: 0.9143\n",
      "Epoch 30/30\n",
      "78/78 [==============================] - 2s 29ms/step - loss: 0.2607 - acc: 0.9159\n",
      "Attacking the victim with 10 percent of training data: 5000 queries...\n",
      "Epoch 1/30\n",
      "156/156 [==============================] - 6s 36ms/step - loss: 2.1129 - acc: 0.2109\n",
      "Epoch 2/30\n",
      "156/156 [==============================] - 5s 29ms/step - loss: 1.7411 - acc: 0.3550\n",
      "Epoch 3/30\n",
      "156/156 [==============================] - 5s 29ms/step - loss: 1.5685 - acc: 0.4253\n",
      "Epoch 4/30\n",
      "156/156 [==============================] - 5s 29ms/step - loss: 1.4542 - acc: 0.4541\n",
      "Epoch 5/30\n",
      "156/156 [==============================] - 5s 29ms/step - loss: 1.3472 - acc: 0.5070\n",
      "Epoch 6/30\n",
      "156/156 [==============================] - 5s 29ms/step - loss: 1.2420 - acc: 0.5585\n",
      "Epoch 7/30\n",
      "156/156 [==============================] - 5s 29ms/step - loss: 1.1789 - acc: 0.5765\n",
      "Epoch 8/30\n",
      "156/156 [==============================] - 5s 29ms/step - loss: 1.0904 - acc: 0.6026\n",
      "Epoch 9/30\n",
      "156/156 [==============================] - 5s 29ms/step - loss: 0.9949 - acc: 0.6410\n",
      "Epoch 10/30\n",
      "156/156 [==============================] - 5s 29ms/step - loss: 0.9139 - acc: 0.6807\n",
      "Epoch 11/30\n",
      "156/156 [==============================] - 5s 29ms/step - loss: 0.8317 - acc: 0.7095\n",
      "Epoch 12/30\n",
      "156/156 [==============================] - 5s 29ms/step - loss: 0.7447 - acc: 0.7348\n",
      "Epoch 13/30\n",
      "156/156 [==============================] - 5s 29ms/step - loss: 0.7012 - acc: 0.7528\n",
      "Epoch 14/30\n",
      "156/156 [==============================] - 5s 29ms/step - loss: 0.6518 - acc: 0.7754\n",
      "Epoch 15/30\n",
      "156/156 [==============================] - 5s 29ms/step - loss: 0.6247 - acc: 0.7827\n",
      "Epoch 16/30\n",
      "156/156 [==============================] - 5s 29ms/step - loss: 0.5506 - acc: 0.8061\n",
      "Epoch 17/30\n",
      "156/156 [==============================] - 5s 29ms/step - loss: 0.5112 - acc: 0.8289\n",
      "Epoch 18/30\n",
      "156/156 [==============================] - 5s 29ms/step - loss: 0.4502 - acc: 0.8464\n",
      "Epoch 19/30\n",
      "156/156 [==============================] - 5s 29ms/step - loss: 0.4470 - acc: 0.8452\n",
      "Epoch 20/30\n",
      "156/156 [==============================] - 5s 29ms/step - loss: 0.4173 - acc: 0.8558\n",
      "Epoch 21/30\n",
      "156/156 [==============================] - 5s 31ms/step - loss: 0.3807 - acc: 0.8726\n",
      "Epoch 22/30\n",
      "156/156 [==============================] - 5s 31ms/step - loss: 0.3574 - acc: 0.8750\n",
      "Epoch 23/30\n",
      "156/156 [==============================] - 5s 30ms/step - loss: 0.3517 - acc: 0.8802\n",
      "Epoch 24/30\n",
      "156/156 [==============================] - 5s 29ms/step - loss: 0.3234 - acc: 0.8888\n",
      "Epoch 25/30\n",
      "156/156 [==============================] - 5s 29ms/step - loss: 0.2958 - acc: 0.8960\n",
      "Epoch 26/30\n",
      "156/156 [==============================] - 5s 29ms/step - loss: 0.2955 - acc: 0.8966\n",
      "Epoch 27/30\n",
      "156/156 [==============================] - 5s 29ms/step - loss: 0.2854 - acc: 0.9006\n",
      "Epoch 28/30\n",
      "156/156 [==============================] - 5s 29ms/step - loss: 0.2755 - acc: 0.9081\n",
      "Epoch 29/30\n",
      "156/156 [==============================] - 5s 29ms/step - loss: 0.2476 - acc: 0.9165\n",
      "Epoch 30/30\n",
      "156/156 [==============================] - 5s 29ms/step - loss: 0.2512 - acc: 0.9149\n",
      "Attacking the victim with 20 percent of training data: 10000 queries...\n",
      "Epoch 1/30\n",
      "312/312 [==============================] - 10s 33ms/step - loss: 1.9644 - acc: 0.2707\n",
      "Epoch 2/30\n",
      "312/312 [==============================] - 9s 29ms/step - loss: 1.5690 - acc: 0.4266\n",
      "Epoch 3/30\n",
      "312/312 [==============================] - 9s 29ms/step - loss: 1.3955 - acc: 0.4931\n",
      "Epoch 4/30\n",
      "312/312 [==============================] - 9s 29ms/step - loss: 1.2729 - acc: 0.5476\n",
      "Epoch 5/30\n",
      "312/312 [==============================] - 9s 29ms/step - loss: 1.1516 - acc: 0.5898\n",
      "Epoch 6/30\n",
      "312/312 [==============================] - 9s 29ms/step - loss: 1.0428 - acc: 0.6258\n",
      "Epoch 7/30\n",
      "312/312 [==============================] - 9s 29ms/step - loss: 1.0018 - acc: 0.6425\n",
      "Epoch 8/30\n",
      "312/312 [==============================] - 9s 29ms/step - loss: 0.8982 - acc: 0.6829\n",
      "Epoch 9/30\n",
      "312/312 [==============================] - 9s 29ms/step - loss: 0.8334 - acc: 0.7072\n",
      "Epoch 10/30\n",
      "312/312 [==============================] - 9s 29ms/step - loss: 0.7560 - acc: 0.7361\n",
      "Epoch 11/30\n",
      "312/312 [==============================] - 9s 29ms/step - loss: 0.7122 - acc: 0.7518\n",
      "Epoch 12/30\n",
      "312/312 [==============================] - 9s 30ms/step - loss: 0.6549 - acc: 0.7703\n",
      "Epoch 13/30\n",
      "312/312 [==============================] - 9s 30ms/step - loss: 0.6095 - acc: 0.7807\n",
      "Epoch 14/30\n",
      "312/312 [==============================] - 9s 29ms/step - loss: 0.5828 - acc: 0.7968\n",
      "Epoch 15/30\n",
      "312/312 [==============================] - 9s 29ms/step - loss: 0.5443 - acc: 0.8082\n",
      "Epoch 16/30\n",
      "312/312 [==============================] - 9s 29ms/step - loss: 0.5027 - acc: 0.8218\n",
      "Epoch 17/30\n",
      "312/312 [==============================] - 9s 29ms/step - loss: 0.4777 - acc: 0.8339\n",
      "Epoch 18/30\n",
      "312/312 [==============================] - 9s 29ms/step - loss: 0.4606 - acc: 0.8415\n",
      "Epoch 19/30\n",
      "312/312 [==============================] - 9s 29ms/step - loss: 0.4245 - acc: 0.8489\n",
      "Epoch 20/30\n",
      "312/312 [==============================] - 9s 29ms/step - loss: 0.3919 - acc: 0.8629\n",
      "Epoch 21/30\n",
      "312/312 [==============================] - 9s 29ms/step - loss: 0.3801 - acc: 0.8695\n",
      "Epoch 22/30\n",
      "312/312 [==============================] - 9s 29ms/step - loss: 0.3614 - acc: 0.8737\n",
      "Epoch 23/30\n",
      "312/312 [==============================] - 9s 29ms/step - loss: 0.3495 - acc: 0.8769\n",
      "Epoch 24/30\n",
      "312/312 [==============================] - 9s 29ms/step - loss: 0.3419 - acc: 0.8815\n",
      "Epoch 25/30\n",
      "312/312 [==============================] - 9s 29ms/step - loss: 0.3257 - acc: 0.8862\n",
      "Epoch 26/30\n",
      "312/312 [==============================] - 9s 29ms/step - loss: 0.3112 - acc: 0.8935\n",
      "Epoch 27/30\n",
      "312/312 [==============================] - 9s 30ms/step - loss: 0.3004 - acc: 0.8972\n",
      "Epoch 28/30\n",
      "312/312 [==============================] - 9s 30ms/step - loss: 0.2830 - acc: 0.9039\n",
      "Epoch 29/30\n",
      "312/312 [==============================] - 9s 29ms/step - loss: 0.2792 - acc: 0.9036\n",
      "Epoch 30/30\n",
      "312/312 [==============================] - 9s 29ms/step - loss: 0.2819 - acc: 0.9039\n",
      "Attacking the victim with 30 percent of training data: 15000 queries...\n",
      "Epoch 1/30\n",
      "468/468 [==============================] - 15s 32ms/step - loss: 1.8170 - acc: 0.3241\n",
      "Epoch 2/30\n",
      "468/468 [==============================] - 14s 29ms/step - loss: 1.4685 - acc: 0.4667\n",
      "Epoch 3/30\n",
      "468/468 [==============================] - 14s 29ms/step - loss: 1.2539 - acc: 0.5498\n",
      "Epoch 4/30\n",
      "468/468 [==============================] - 14s 29ms/step - loss: 1.1310 - acc: 0.5915\n",
      "Epoch 5/30\n",
      "468/468 [==============================] - 14s 29ms/step - loss: 1.0096 - acc: 0.6452\n",
      "Epoch 6/30\n",
      "468/468 [==============================] - 14s 29ms/step - loss: 0.9382 - acc: 0.6705\n",
      "Epoch 7/30\n",
      "468/468 [==============================] - 14s 29ms/step - loss: 0.8766 - acc: 0.6946\n",
      "Epoch 8/30\n",
      "468/468 [==============================] - 14s 29ms/step - loss: 0.7991 - acc: 0.7173\n",
      "Epoch 9/30\n",
      "468/468 [==============================] - 14s 29ms/step - loss: 0.7491 - acc: 0.7382\n",
      "Epoch 10/30\n",
      "468/468 [==============================] - 14s 29ms/step - loss: 0.7021 - acc: 0.7486\n",
      "Epoch 11/30\n",
      "468/468 [==============================] - 14s 29ms/step - loss: 0.6583 - acc: 0.7723\n",
      "Epoch 12/30\n",
      "468/468 [==============================] - 14s 29ms/step - loss: 0.6197 - acc: 0.7825\n",
      "Epoch 13/30\n",
      "468/468 [==============================] - 14s 29ms/step - loss: 0.5905 - acc: 0.7968\n",
      "Epoch 14/30\n",
      "468/468 [==============================] - 14s 29ms/step - loss: 0.5486 - acc: 0.8056\n",
      "Epoch 15/30\n",
      "468/468 [==============================] - 14s 29ms/step - loss: 0.5304 - acc: 0.8140\n",
      "Epoch 16/30\n",
      "468/468 [==============================] - 14s 29ms/step - loss: 0.5116 - acc: 0.8199\n",
      "Epoch 17/30\n",
      "468/468 [==============================] - 14s 29ms/step - loss: 0.4834 - acc: 0.8320\n",
      "Epoch 18/30\n",
      "468/468 [==============================] - 14s 29ms/step - loss: 0.4558 - acc: 0.8415\n",
      "Epoch 19/30\n",
      "468/468 [==============================] - 14s 30ms/step - loss: 0.4450 - acc: 0.8472\n",
      "Epoch 20/30\n",
      "468/468 [==============================] - 14s 29ms/step - loss: 0.4189 - acc: 0.8532\n",
      "Epoch 21/30\n",
      "468/468 [==============================] - 14s 29ms/step - loss: 0.4162 - acc: 0.8538\n",
      "Epoch 22/30\n",
      "468/468 [==============================] - 14s 29ms/step - loss: 0.3950 - acc: 0.8641\n",
      "Epoch 23/30\n",
      "468/468 [==============================] - 14s 29ms/step - loss: 0.3777 - acc: 0.8682\n",
      "Epoch 24/30\n",
      "468/468 [==============================] - 14s 29ms/step - loss: 0.3701 - acc: 0.8680\n",
      "Epoch 25/30\n",
      "468/468 [==============================] - 14s 29ms/step - loss: 0.3489 - acc: 0.8769\n",
      "Epoch 26/30\n",
      "468/468 [==============================] - 14s 29ms/step - loss: 0.3549 - acc: 0.8802\n",
      "Epoch 27/30\n",
      "468/468 [==============================] - 14s 29ms/step - loss: 0.3297 - acc: 0.8882\n",
      "Epoch 28/30\n",
      "468/468 [==============================] - 14s 29ms/step - loss: 0.3156 - acc: 0.8905\n",
      "Epoch 29/30\n",
      "468/468 [==============================] - 14s 29ms/step - loss: 0.3303 - acc: 0.8833\n",
      "Epoch 30/30\n",
      "468/468 [==============================] - 14s 29ms/step - loss: 0.3162 - acc: 0.8906\n",
      "Extract 100 Training samples from each class:\n",
      "(1000, 32, 32, 3) (1000, 10)\n",
      "Extract 100 Test samples from each class:\n",
      "(1000, 32, 32, 3) (1000, 10)\n",
      "INFO:tensorflow:Saver not created because there are no variables in the graph to restore\n"
     ]
    },
    {
     "name": "stderr",
     "output_type": "stream",
     "text": [
      "INFO:tensorflow:Saver not created because there are no variables in the graph to restore\n"
     ]
    },
    {
     "name": "stdout",
     "output_type": "stream",
     "text": [
      "Attacking the victim with 5 percent of training data: 2500 queries...\n",
      "Epoch 1/40\n",
      "78/78 [==============================] - 3s 41ms/step - loss: 2.2184 - acc: 0.1759\n",
      "Epoch 2/40\n",
      "78/78 [==============================] - 2s 29ms/step - loss: 2.0340 - acc: 0.2516\n",
      "Epoch 3/40\n",
      "78/78 [==============================] - 2s 29ms/step - loss: 1.8863 - acc: 0.3169\n",
      "Epoch 4/40\n",
      "78/78 [==============================] - 2s 29ms/step - loss: 1.7277 - acc: 0.3602\n",
      "Epoch 5/40\n",
      "78/78 [==============================] - 2s 29ms/step - loss: 1.5897 - acc: 0.4323\n",
      "Epoch 6/40\n",
      "78/78 [==============================] - 2s 29ms/step - loss: 1.4913 - acc: 0.4555\n",
      "Epoch 7/40\n",
      "78/78 [==============================] - 2s 29ms/step - loss: 1.3925 - acc: 0.4940\n",
      "Epoch 8/40\n",
      "78/78 [==============================] - 2s 29ms/step - loss: 1.3684 - acc: 0.5164\n",
      "Epoch 9/40\n",
      "78/78 [==============================] - 2s 29ms/step - loss: 1.2399 - acc: 0.5537\n",
      "Epoch 10/40\n",
      "78/78 [==============================] - 2s 29ms/step - loss: 1.1083 - acc: 0.6062\n",
      "Epoch 11/40\n",
      "78/78 [==============================] - 2s 29ms/step - loss: 1.0463 - acc: 0.6210\n",
      "Epoch 12/40\n",
      "78/78 [==============================] - 2s 29ms/step - loss: 0.9606 - acc: 0.6583\n",
      "Epoch 13/40\n",
      "78/78 [==============================] - 2s 29ms/step - loss: 0.8693 - acc: 0.6999\n",
      "Epoch 14/40\n",
      "78/78 [==============================] - 2s 29ms/step - loss: 0.7742 - acc: 0.7220\n",
      "Epoch 15/40\n",
      "78/78 [==============================] - 2s 29ms/step - loss: 0.7302 - acc: 0.7420\n",
      "Epoch 16/40\n",
      "78/78 [==============================] - 2s 29ms/step - loss: 0.6880 - acc: 0.7616\n",
      "Epoch 17/40\n",
      "78/78 [==============================] - 2s 29ms/step - loss: 0.6133 - acc: 0.7841\n",
      "Epoch 18/40\n",
      "78/78 [==============================] - 2s 29ms/step - loss: 0.5499 - acc: 0.8089\n",
      "Epoch 19/40\n",
      "78/78 [==============================] - 2s 29ms/step - loss: 0.4950 - acc: 0.8221\n",
      "Epoch 20/40\n",
      "78/78 [==============================] - 2s 29ms/step - loss: 0.4661 - acc: 0.8450\n",
      "Epoch 21/40\n",
      "78/78 [==============================] - 2s 29ms/step - loss: 0.4174 - acc: 0.8542\n",
      "Epoch 22/40\n",
      "78/78 [==============================] - 2s 29ms/step - loss: 0.3748 - acc: 0.8722\n",
      "Epoch 23/40\n",
      "78/78 [==============================] - 2s 29ms/step - loss: 0.3544 - acc: 0.8778\n",
      "Epoch 24/40\n",
      "78/78 [==============================] - 2s 29ms/step - loss: 0.2762 - acc: 0.9034\n",
      "Epoch 25/40\n",
      "78/78 [==============================] - 2s 29ms/step - loss: 0.2792 - acc: 0.9010\n",
      "Epoch 26/40\n",
      "78/78 [==============================] - 2s 29ms/step - loss: 0.2716 - acc: 0.9179\n",
      "Epoch 27/40\n",
      "78/78 [==============================] - 2s 29ms/step - loss: 0.2737 - acc: 0.9062\n",
      "Epoch 28/40\n",
      "78/78 [==============================] - 2s 29ms/step - loss: 0.2439 - acc: 0.9167\n",
      "Epoch 29/40\n",
      "78/78 [==============================] - 2s 29ms/step - loss: 0.2399 - acc: 0.9155\n",
      "Epoch 30/40\n",
      "78/78 [==============================] - 2s 29ms/step - loss: 0.2129 - acc: 0.9235\n",
      "Epoch 31/40\n",
      "78/78 [==============================] - 2s 29ms/step - loss: 0.1966 - acc: 0.9319\n",
      "Epoch 32/40\n",
      "78/78 [==============================] - 2s 29ms/step - loss: 0.1944 - acc: 0.9339\n",
      "Epoch 33/40\n",
      "78/78 [==============================] - 2s 29ms/step - loss: 0.1913 - acc: 0.9363\n",
      "Epoch 34/40\n",
      "78/78 [==============================] - 2s 29ms/step - loss: 0.1743 - acc: 0.9419\n",
      "Epoch 35/40\n",
      "78/78 [==============================] - 2s 29ms/step - loss: 0.1569 - acc: 0.9491\n",
      "Epoch 36/40\n",
      "78/78 [==============================] - 2s 29ms/step - loss: 0.1439 - acc: 0.9527\n",
      "Epoch 37/40\n",
      "78/78 [==============================] - 2s 29ms/step - loss: 0.1720 - acc: 0.9431\n",
      "Epoch 38/40\n",
      "78/78 [==============================] - 2s 29ms/step - loss: 0.1866 - acc: 0.9399\n",
      "Epoch 39/40\n",
      "78/78 [==============================] - 2s 29ms/step - loss: 0.1262 - acc: 0.9591\n",
      "Epoch 40/40\n",
      "78/78 [==============================] - 2s 29ms/step - loss: 0.1582 - acc: 0.9495\n",
      "Attacking the victim with 10 percent of training data: 5000 queries...\n",
      "Epoch 1/40\n",
      "156/156 [==============================] - 6s 36ms/step - loss: 2.0824 - acc: 0.2165\n",
      "Epoch 2/40\n",
      "156/156 [==============================] - 5s 29ms/step - loss: 1.7890 - acc: 0.3335\n",
      "Epoch 3/40\n",
      "156/156 [==============================] - 5s 29ms/step - loss: 1.5799 - acc: 0.4159\n",
      "Epoch 4/40\n",
      "156/156 [==============================] - 5s 29ms/step - loss: 1.4502 - acc: 0.4698\n",
      "Epoch 5/40\n",
      "156/156 [==============================] - 5s 29ms/step - loss: 1.3738 - acc: 0.5028\n",
      "Epoch 6/40\n",
      "156/156 [==============================] - 5s 29ms/step - loss: 1.2760 - acc: 0.5443\n",
      "Epoch 7/40\n",
      "156/156 [==============================] - 5s 29ms/step - loss: 1.1614 - acc: 0.5843\n",
      "Epoch 8/40\n",
      "156/156 [==============================] - 5s 29ms/step - loss: 1.0917 - acc: 0.6086\n",
      "Epoch 9/40\n",
      "156/156 [==============================] - 5s 30ms/step - loss: 0.9905 - acc: 0.6480\n",
      "Epoch 10/40\n",
      "156/156 [==============================] - 5s 30ms/step - loss: 0.9593 - acc: 0.6607\n",
      "Epoch 11/40\n",
      "156/156 [==============================] - 5s 29ms/step - loss: 0.8684 - acc: 0.6965\n",
      "Epoch 12/40\n",
      "156/156 [==============================] - 5s 29ms/step - loss: 0.7967 - acc: 0.7246\n",
      "Epoch 13/40\n",
      "156/156 [==============================] - 4s 29ms/step - loss: 0.7254 - acc: 0.7444\n",
      "Epoch 14/40\n",
      "156/156 [==============================] - 4s 29ms/step - loss: 0.7105 - acc: 0.7502\n",
      "Epoch 15/40\n",
      "156/156 [==============================] - 4s 29ms/step - loss: 0.6256 - acc: 0.7831\n",
      "Epoch 16/40\n",
      "156/156 [==============================] - 5s 29ms/step - loss: 0.5953 - acc: 0.7961\n",
      "Epoch 17/40\n",
      "156/156 [==============================] - 4s 29ms/step - loss: 0.5303 - acc: 0.8143\n",
      "Epoch 18/40\n",
      "156/156 [==============================] - 4s 29ms/step - loss: 0.5012 - acc: 0.8267\n",
      "Epoch 19/40\n",
      "156/156 [==============================] - 5s 29ms/step - loss: 0.4557 - acc: 0.8423\n",
      "Epoch 20/40\n",
      "156/156 [==============================] - 4s 29ms/step - loss: 0.4346 - acc: 0.8514\n",
      "Epoch 21/40\n",
      "156/156 [==============================] - 4s 29ms/step - loss: 0.3809 - acc: 0.8700\n",
      "Epoch 22/40\n",
      "156/156 [==============================] - 4s 29ms/step - loss: 0.3727 - acc: 0.8762\n",
      "Epoch 23/40\n",
      "156/156 [==============================] - 4s 29ms/step - loss: 0.3370 - acc: 0.8816\n",
      "Epoch 24/40\n",
      "156/156 [==============================] - 4s 29ms/step - loss: 0.3223 - acc: 0.8872\n",
      "Epoch 25/40\n",
      "156/156 [==============================] - 4s 29ms/step - loss: 0.3137 - acc: 0.8912\n",
      "Epoch 26/40\n",
      "156/156 [==============================] - 4s 29ms/step - loss: 0.3188 - acc: 0.8934\n",
      "Epoch 27/40\n",
      "156/156 [==============================] - 4s 29ms/step - loss: 0.2579 - acc: 0.9113\n",
      "Epoch 28/40\n",
      "156/156 [==============================] - 4s 29ms/step - loss: 0.2904 - acc: 0.9020\n",
      "Epoch 29/40\n",
      "156/156 [==============================] - 4s 29ms/step - loss: 0.2775 - acc: 0.9036\n",
      "Epoch 30/40\n",
      "156/156 [==============================] - 4s 29ms/step - loss: 0.2761 - acc: 0.9016\n",
      "Epoch 31/40\n",
      "156/156 [==============================] - 4s 29ms/step - loss: 0.2386 - acc: 0.9193\n",
      "Epoch 32/40\n",
      "156/156 [==============================] - 4s 29ms/step - loss: 0.2376 - acc: 0.9209\n",
      "Epoch 33/40\n",
      "156/156 [==============================] - 4s 29ms/step - loss: 0.2413 - acc: 0.9189\n",
      "Epoch 34/40\n",
      "156/156 [==============================] - 5s 29ms/step - loss: 0.2222 - acc: 0.9205\n",
      "Epoch 35/40\n",
      "156/156 [==============================] - 4s 29ms/step - loss: 0.2232 - acc: 0.9235\n",
      "Epoch 36/40\n",
      "156/156 [==============================] - 5s 29ms/step - loss: 0.2117 - acc: 0.9291\n",
      "Epoch 37/40\n",
      "156/156 [==============================] - 4s 29ms/step - loss: 0.2001 - acc: 0.9335\n",
      "Epoch 38/40\n",
      "156/156 [==============================] - 5s 29ms/step - loss: 0.2162 - acc: 0.9289\n",
      "Epoch 39/40\n",
      "156/156 [==============================] - 4s 29ms/step - loss: 0.1943 - acc: 0.9337\n",
      "Epoch 40/40\n",
      "156/156 [==============================] - 4s 29ms/step - loss: 0.1966 - acc: 0.9341\n",
      "Attacking the victim with 20 percent of training data: 10000 queries...\n",
      "Epoch 1/40\n",
      "312/312 [==============================] - 10s 33ms/step - loss: 1.8977 - acc: 0.2903\n",
      "Epoch 2/40\n",
      "312/312 [==============================] - 9s 29ms/step - loss: 1.4962 - acc: 0.4542\n",
      "Epoch 3/40\n",
      "312/312 [==============================] - 9s 29ms/step - loss: 1.3332 - acc: 0.5203\n",
      "Epoch 4/40\n",
      "312/312 [==============================] - 9s 29ms/step - loss: 1.1821 - acc: 0.5758\n",
      "Epoch 5/40\n",
      "312/312 [==============================] - 9s 29ms/step - loss: 1.1004 - acc: 0.6095\n",
      "Epoch 6/40\n",
      "312/312 [==============================] - 9s 29ms/step - loss: 0.9928 - acc: 0.6435\n",
      "Epoch 7/40\n",
      "312/312 [==============================] - 9s 29ms/step - loss: 0.9157 - acc: 0.6769\n",
      "Epoch 8/40\n",
      "312/312 [==============================] - 9s 29ms/step - loss: 0.8414 - acc: 0.7031\n",
      "Epoch 9/40\n",
      "312/312 [==============================] - 9s 29ms/step - loss: 0.7705 - acc: 0.7281\n",
      "Epoch 10/40\n",
      "312/312 [==============================] - 9s 29ms/step - loss: 0.6911 - acc: 0.7583\n",
      "Epoch 11/40\n",
      "312/312 [==============================] - 9s 29ms/step - loss: 0.6555 - acc: 0.7690\n",
      "Epoch 12/40\n",
      "312/312 [==============================] - 9s 29ms/step - loss: 0.6187 - acc: 0.7815\n",
      "Epoch 13/40\n",
      "312/312 [==============================] - 9s 29ms/step - loss: 0.5723 - acc: 0.8024\n",
      "Epoch 14/40\n",
      "312/312 [==============================] - 9s 29ms/step - loss: 0.5606 - acc: 0.8008\n",
      "Epoch 15/40\n",
      "312/312 [==============================] - 9s 29ms/step - loss: 0.4929 - acc: 0.8251\n",
      "Epoch 16/40\n",
      "312/312 [==============================] - 9s 29ms/step - loss: 0.4900 - acc: 0.8244\n",
      "Epoch 17/40\n",
      "312/312 [==============================] - 10s 30ms/step - loss: 0.4476 - acc: 0.8422\n",
      "Epoch 18/40\n",
      "312/312 [==============================] - 9s 29ms/step - loss: 0.4148 - acc: 0.8561\n",
      "Epoch 19/40\n",
      "312/312 [==============================] - 9s 29ms/step - loss: 0.4000 - acc: 0.8626\n",
      "Epoch 20/40\n",
      "312/312 [==============================] - 9s 29ms/step - loss: 0.3826 - acc: 0.8692\n",
      "Epoch 21/40\n",
      "312/312 [==============================] - 9s 29ms/step - loss: 0.3736 - acc: 0.8682\n",
      "Epoch 22/40\n",
      "312/312 [==============================] - 9s 29ms/step - loss: 0.3336 - acc: 0.8852\n",
      "Epoch 23/40\n",
      "312/312 [==============================] - 9s 29ms/step - loss: 0.3265 - acc: 0.8843\n",
      "Epoch 24/40\n",
      "312/312 [==============================] - 9s 29ms/step - loss: 0.3295 - acc: 0.8872\n",
      "Epoch 25/40\n",
      "312/312 [==============================] - 9s 29ms/step - loss: 0.3157 - acc: 0.8890\n",
      "Epoch 26/40\n",
      "312/312 [==============================] - 9s 29ms/step - loss: 0.2951 - acc: 0.8930\n",
      "Epoch 27/40\n",
      "312/312 [==============================] - 9s 29ms/step - loss: 0.2930 - acc: 0.8965\n",
      "Epoch 28/40\n",
      "312/312 [==============================] - 9s 29ms/step - loss: 0.2701 - acc: 0.9058\n",
      "Epoch 29/40\n",
      "312/312 [==============================] - 9s 29ms/step - loss: 0.2497 - acc: 0.9144\n",
      "Epoch 30/40\n",
      "312/312 [==============================] - 9s 29ms/step - loss: 0.2545 - acc: 0.9114\n",
      "Epoch 31/40\n",
      "312/312 [==============================] - 9s 29ms/step - loss: 0.2638 - acc: 0.9081\n",
      "Epoch 32/40\n",
      "312/312 [==============================] - 9s 29ms/step - loss: 0.2497 - acc: 0.9162\n",
      "Epoch 33/40\n",
      "312/312 [==============================] - 9s 30ms/step - loss: 0.2385 - acc: 0.9168\n",
      "Epoch 34/40\n",
      "312/312 [==============================] - 9s 30ms/step - loss: 0.2422 - acc: 0.9192\n",
      "Epoch 35/40\n",
      "312/312 [==============================] - 9s 29ms/step - loss: 0.2410 - acc: 0.9172\n",
      "Epoch 36/40\n",
      "312/312 [==============================] - 9s 29ms/step - loss: 0.2393 - acc: 0.9179\n",
      "Epoch 37/40\n",
      "312/312 [==============================] - 9s 29ms/step - loss: 0.2437 - acc: 0.9171\n",
      "Epoch 38/40\n",
      "312/312 [==============================] - 9s 29ms/step - loss: 0.2152 - acc: 0.9254\n",
      "Epoch 39/40\n",
      "312/312 [==============================] - 9s 29ms/step - loss: 0.2076 - acc: 0.9238\n",
      "Epoch 40/40\n",
      "312/312 [==============================] - 9s 29ms/step - loss: 0.2231 - acc: 0.9253\n",
      "Attacking the victim with 30 percent of training data: 15000 queries...\n",
      "Epoch 1/40\n",
      "468/468 [==============================] - 16s 34ms/step - loss: 1.8557 - acc: 0.3122\n",
      "Epoch 2/40\n",
      "468/468 [==============================] - 14s 29ms/step - loss: 1.4704 - acc: 0.4701\n",
      "Epoch 3/40\n",
      "468/468 [==============================] - 14s 29ms/step - loss: 1.2729 - acc: 0.5451\n",
      "Epoch 4/40\n",
      "468/468 [==============================] - 14s 29ms/step - loss: 1.1274 - acc: 0.6011\n",
      "Epoch 5/40\n",
      "468/468 [==============================] - 14s 30ms/step - loss: 1.0077 - acc: 0.6496\n",
      "Epoch 6/40\n",
      "468/468 [==============================] - 14s 30ms/step - loss: 0.8969 - acc: 0.6858\n",
      "Epoch 7/40\n",
      "468/468 [==============================] - 14s 29ms/step - loss: 0.8317 - acc: 0.7083\n",
      "Epoch 8/40\n",
      "468/468 [==============================] - 14s 29ms/step - loss: 0.7717 - acc: 0.7316\n",
      "Epoch 9/40\n",
      "468/468 [==============================] - 14s 29ms/step - loss: 0.7193 - acc: 0.7463\n",
      "Epoch 10/40\n",
      "468/468 [==============================] - 14s 29ms/step - loss: 0.6720 - acc: 0.7595\n",
      "Epoch 11/40\n",
      "468/468 [==============================] - 14s 29ms/step - loss: 0.6300 - acc: 0.7780\n",
      "Epoch 12/40\n",
      "468/468 [==============================] - 14s 29ms/step - loss: 0.5854 - acc: 0.7971\n",
      "Epoch 13/40\n",
      "468/468 [==============================] - 14s 29ms/step - loss: 0.5480 - acc: 0.8083\n",
      "Epoch 14/40\n",
      "468/468 [==============================] - 14s 29ms/step - loss: 0.5457 - acc: 0.8103\n",
      "Epoch 15/40\n",
      "468/468 [==============================] - 14s 29ms/step - loss: 0.5086 - acc: 0.8258\n",
      "Epoch 16/40\n",
      "468/468 [==============================] - 14s 30ms/step - loss: 0.4790 - acc: 0.8351\n",
      "Epoch 17/40\n",
      "468/468 [==============================] - 14s 29ms/step - loss: 0.4653 - acc: 0.8376\n",
      "Epoch 18/40\n",
      "468/468 [==============================] - 14s 29ms/step - loss: 0.4313 - acc: 0.8507\n",
      "Epoch 19/40\n",
      "468/468 [==============================] - 14s 29ms/step - loss: 0.4116 - acc: 0.8578\n",
      "Epoch 20/40\n",
      "468/468 [==============================] - 14s 29ms/step - loss: 0.4051 - acc: 0.8615\n",
      "Epoch 21/40\n",
      "468/468 [==============================] - 14s 29ms/step - loss: 0.4034 - acc: 0.8616\n",
      "Epoch 22/40\n",
      "468/468 [==============================] - 14s 29ms/step - loss: 0.3719 - acc: 0.8724\n",
      "Epoch 23/40\n",
      "468/468 [==============================] - 14s 29ms/step - loss: 0.3486 - acc: 0.8766\n",
      "Epoch 24/40\n",
      "468/468 [==============================] - 14s 29ms/step - loss: 0.3416 - acc: 0.8789\n",
      "Epoch 25/40\n",
      "468/468 [==============================] - 14s 29ms/step - loss: 0.3417 - acc: 0.8844\n",
      "Epoch 26/40\n",
      "468/468 [==============================] - 14s 29ms/step - loss: 0.3199 - acc: 0.8874\n",
      "Epoch 27/40\n",
      "468/468 [==============================] - 14s 29ms/step - loss: 0.3126 - acc: 0.8938\n",
      "Epoch 28/40\n",
      "468/468 [==============================] - 14s 30ms/step - loss: 0.3074 - acc: 0.8941\n",
      "Epoch 29/40\n",
      "468/468 [==============================] - 14s 29ms/step - loss: 0.3146 - acc: 0.8919\n",
      "Epoch 30/40\n",
      "468/468 [==============================] - 14s 29ms/step - loss: 0.2905 - acc: 0.8996\n",
      "Epoch 31/40\n",
      "468/468 [==============================] - 14s 29ms/step - loss: 0.3036 - acc: 0.8955\n",
      "Epoch 32/40\n",
      "468/468 [==============================] - 14s 29ms/step - loss: 0.2684 - acc: 0.9055\n",
      "Epoch 33/40\n",
      "468/468 [==============================] - 14s 29ms/step - loss: 0.2939 - acc: 0.8991\n",
      "Epoch 34/40\n",
      "468/468 [==============================] - 14s 29ms/step - loss: 0.2721 - acc: 0.9056\n",
      "Epoch 35/40\n",
      "468/468 [==============================] - 14s 29ms/step - loss: 0.2800 - acc: 0.9048\n",
      "Epoch 36/40\n",
      "468/468 [==============================] - 14s 29ms/step - loss: 0.2646 - acc: 0.9107\n",
      "Epoch 37/40\n",
      "468/468 [==============================] - 14s 29ms/step - loss: 0.2759 - acc: 0.9060\n",
      "Epoch 38/40\n",
      "468/468 [==============================] - 14s 30ms/step - loss: 0.2628 - acc: 0.9117\n",
      "Epoch 39/40\n",
      "468/468 [==============================] - 14s 29ms/step - loss: 0.2669 - acc: 0.9073\n",
      "Epoch 40/40\n",
      "468/468 [==============================] - 14s 29ms/step - loss: 0.2564 - acc: 0.9139\n"
     ]
    }
   ],
   "source": [
    "CCC_results_20e = extraction_attack(CopycatCNN, x_train, y_train, [5,10,20,30], epoch=20)\n",
    "CCC_results_30e = extraction_attack(CopycatCNN, x_train, y_train, [5,10,20,30], epoch=30)\n",
    "CCC_results_40e = extraction_attack(CopycatCNN, x_train, y_train, [5,10,20,30], epoch=40)"
   ]
  },
  {
   "cell_type": "code",
   "execution_count": 101,
   "metadata": {},
   "outputs": [
    {
     "data": {
      "text/html": [
       "<div>\n",
       "<style scoped>\n",
       "    .dataframe tbody tr th:only-of-type {\n",
       "        vertical-align: middle;\n",
       "    }\n",
       "\n",
       "    .dataframe tbody tr th {\n",
       "        vertical-align: top;\n",
       "    }\n",
       "\n",
       "    .dataframe thead th {\n",
       "        text-align: right;\n",
       "    }\n",
       "</style>\n",
       "<table border=\"1\" class=\"dataframe\">\n",
       "  <thead>\n",
       "    <tr style=\"text-align: right;\">\n",
       "      <th></th>\n",
       "      <th>Attack</th>\n",
       "      <th>Fraction of data</th>\n",
       "      <th>Max queries</th>\n",
       "      <th>Epochs trained</th>\n",
       "      <th>Victim clf on Train data</th>\n",
       "      <th>Victim clf on Test data</th>\n",
       "      <th>Stolen clf on Train data</th>\n",
       "      <th>Stolen clf on Test data</th>\n",
       "    </tr>\n",
       "  </thead>\n",
       "  <tbody>\n",
       "    <tr>\n",
       "      <th>0</th>\n",
       "      <td>CopycatCNN</td>\n",
       "      <td>5</td>\n",
       "      <td>2500</td>\n",
       "      <td>20</td>\n",
       "      <td>(0.0017, 1.0)</td>\n",
       "      <td>(0.2134, 0.944)</td>\n",
       "      <td>(1.566, 0.539)</td>\n",
       "      <td>(1.6998, 0.532)</td>\n",
       "    </tr>\n",
       "    <tr>\n",
       "      <th>1</th>\n",
       "      <td>CopycatCNN</td>\n",
       "      <td>10</td>\n",
       "      <td>5000</td>\n",
       "      <td>20</td>\n",
       "      <td>(0.0017, 1.0)</td>\n",
       "      <td>(0.2134, 0.944)</td>\n",
       "      <td>(1.5256, 0.623)</td>\n",
       "      <td>(1.698, 0.584)</td>\n",
       "    </tr>\n",
       "    <tr>\n",
       "      <th>2</th>\n",
       "      <td>CopycatCNN</td>\n",
       "      <td>20</td>\n",
       "      <td>10000</td>\n",
       "      <td>20</td>\n",
       "      <td>(0.0017, 1.0)</td>\n",
       "      <td>(0.2134, 0.944)</td>\n",
       "      <td>(1.0333, 0.726)</td>\n",
       "      <td>(1.1957, 0.665)</td>\n",
       "    </tr>\n",
       "    <tr>\n",
       "      <th>3</th>\n",
       "      <td>CopycatCNN</td>\n",
       "      <td>30</td>\n",
       "      <td>15000</td>\n",
       "      <td>20</td>\n",
       "      <td>(0.0017, 1.0)</td>\n",
       "      <td>(0.2134, 0.944)</td>\n",
       "      <td>(0.7759, 0.766)</td>\n",
       "      <td>(0.9894, 0.69)</td>\n",
       "    </tr>\n",
       "  </tbody>\n",
       "</table>\n",
       "</div>"
      ],
      "text/plain": [
       "       Attack  Fraction of data  Max queries  Epochs trained  \\\n",
       "0  CopycatCNN                 5         2500              20   \n",
       "1  CopycatCNN                10         5000              20   \n",
       "2  CopycatCNN                20        10000              20   \n",
       "3  CopycatCNN                30        15000              20   \n",
       "\n",
       "  Victim clf on Train data Victim clf on Test data Stolen clf on Train data  \\\n",
       "0            (0.0017, 1.0)         (0.2134, 0.944)           (1.566, 0.539)   \n",
       "1            (0.0017, 1.0)         (0.2134, 0.944)          (1.5256, 0.623)   \n",
       "2            (0.0017, 1.0)         (0.2134, 0.944)          (1.0333, 0.726)   \n",
       "3            (0.0017, 1.0)         (0.2134, 0.944)          (0.7759, 0.766)   \n",
       "\n",
       "  Stolen clf on Test data  \n",
       "0         (1.6998, 0.532)  \n",
       "1          (1.698, 0.584)  \n",
       "2         (1.1957, 0.665)  \n",
       "3          (0.9894, 0.69)  "
      ]
     },
     "execution_count": 101,
     "metadata": {},
     "output_type": "execute_result"
    }
   ],
   "source": [
    "CCC_results_20e.head()"
   ]
  },
  {
   "cell_type": "code",
   "execution_count": 102,
   "metadata": {},
   "outputs": [
    {
     "data": {
      "text/html": [
       "<div>\n",
       "<style scoped>\n",
       "    .dataframe tbody tr th:only-of-type {\n",
       "        vertical-align: middle;\n",
       "    }\n",
       "\n",
       "    .dataframe tbody tr th {\n",
       "        vertical-align: top;\n",
       "    }\n",
       "\n",
       "    .dataframe thead th {\n",
       "        text-align: right;\n",
       "    }\n",
       "</style>\n",
       "<table border=\"1\" class=\"dataframe\">\n",
       "  <thead>\n",
       "    <tr style=\"text-align: right;\">\n",
       "      <th></th>\n",
       "      <th>Attack</th>\n",
       "      <th>Fraction of data</th>\n",
       "      <th>Max queries</th>\n",
       "      <th>Epochs trained</th>\n",
       "      <th>Victim clf on Train data</th>\n",
       "      <th>Victim clf on Test data</th>\n",
       "      <th>Stolen clf on Train data</th>\n",
       "      <th>Stolen clf on Test data</th>\n",
       "    </tr>\n",
       "  </thead>\n",
       "  <tbody>\n",
       "    <tr>\n",
       "      <th>0</th>\n",
       "      <td>CopycatCNN</td>\n",
       "      <td>5</td>\n",
       "      <td>2500</td>\n",
       "      <td>30</td>\n",
       "      <td>(0.0017, 1.0)</td>\n",
       "      <td>(0.2134, 0.944)</td>\n",
       "      <td>(2.0025, 0.535)</td>\n",
       "      <td>(1.9658, 0.524)</td>\n",
       "    </tr>\n",
       "    <tr>\n",
       "      <th>1</th>\n",
       "      <td>CopycatCNN</td>\n",
       "      <td>10</td>\n",
       "      <td>5000</td>\n",
       "      <td>30</td>\n",
       "      <td>(0.0017, 1.0)</td>\n",
       "      <td>(0.2134, 0.944)</td>\n",
       "      <td>(1.4955, 0.646)</td>\n",
       "      <td>(1.7299, 0.595)</td>\n",
       "    </tr>\n",
       "    <tr>\n",
       "      <th>2</th>\n",
       "      <td>CopycatCNN</td>\n",
       "      <td>20</td>\n",
       "      <td>10000</td>\n",
       "      <td>30</td>\n",
       "      <td>(0.0017, 1.0)</td>\n",
       "      <td>(0.2134, 0.944)</td>\n",
       "      <td>(1.048, 0.723)</td>\n",
       "      <td>(1.2566, 0.675)</td>\n",
       "    </tr>\n",
       "    <tr>\n",
       "      <th>3</th>\n",
       "      <td>CopycatCNN</td>\n",
       "      <td>30</td>\n",
       "      <td>15000</td>\n",
       "      <td>30</td>\n",
       "      <td>(0.0017, 1.0)</td>\n",
       "      <td>(0.2134, 0.944)</td>\n",
       "      <td>(0.6689, 0.806)</td>\n",
       "      <td>(1.0855, 0.694)</td>\n",
       "    </tr>\n",
       "  </tbody>\n",
       "</table>\n",
       "</div>"
      ],
      "text/plain": [
       "       Attack  Fraction of data  Max queries  Epochs trained  \\\n",
       "0  CopycatCNN                 5         2500              30   \n",
       "1  CopycatCNN                10         5000              30   \n",
       "2  CopycatCNN                20        10000              30   \n",
       "3  CopycatCNN                30        15000              30   \n",
       "\n",
       "  Victim clf on Train data Victim clf on Test data Stolen clf on Train data  \\\n",
       "0            (0.0017, 1.0)         (0.2134, 0.944)          (2.0025, 0.535)   \n",
       "1            (0.0017, 1.0)         (0.2134, 0.944)          (1.4955, 0.646)   \n",
       "2            (0.0017, 1.0)         (0.2134, 0.944)           (1.048, 0.723)   \n",
       "3            (0.0017, 1.0)         (0.2134, 0.944)          (0.6689, 0.806)   \n",
       "\n",
       "  Stolen clf on Test data  \n",
       "0         (1.9658, 0.524)  \n",
       "1         (1.7299, 0.595)  \n",
       "2         (1.2566, 0.675)  \n",
       "3         (1.0855, 0.694)  "
      ]
     },
     "execution_count": 102,
     "metadata": {},
     "output_type": "execute_result"
    }
   ],
   "source": [
    "CCC_results_30e.head()"
   ]
  },
  {
   "cell_type": "code",
   "execution_count": 103,
   "metadata": {},
   "outputs": [
    {
     "data": {
      "text/html": [
       "<div>\n",
       "<style scoped>\n",
       "    .dataframe tbody tr th:only-of-type {\n",
       "        vertical-align: middle;\n",
       "    }\n",
       "\n",
       "    .dataframe tbody tr th {\n",
       "        vertical-align: top;\n",
       "    }\n",
       "\n",
       "    .dataframe thead th {\n",
       "        text-align: right;\n",
       "    }\n",
       "</style>\n",
       "<table border=\"1\" class=\"dataframe\">\n",
       "  <thead>\n",
       "    <tr style=\"text-align: right;\">\n",
       "      <th></th>\n",
       "      <th>Attack</th>\n",
       "      <th>Fraction of data</th>\n",
       "      <th>Max queries</th>\n",
       "      <th>Epochs trained</th>\n",
       "      <th>Victim clf on Train data</th>\n",
       "      <th>Victim clf on Test data</th>\n",
       "      <th>Stolen clf on Train data</th>\n",
       "      <th>Stolen clf on Test data</th>\n",
       "    </tr>\n",
       "  </thead>\n",
       "  <tbody>\n",
       "    <tr>\n",
       "      <th>0</th>\n",
       "      <td>CopycatCNN</td>\n",
       "      <td>5</td>\n",
       "      <td>2500</td>\n",
       "      <td>40</td>\n",
       "      <td>(0.0017, 1.0)</td>\n",
       "      <td>(0.2134, 0.944)</td>\n",
       "      <td>(2.3161, 0.557)</td>\n",
       "      <td>(2.2642, 0.522)</td>\n",
       "    </tr>\n",
       "    <tr>\n",
       "      <th>1</th>\n",
       "      <td>CopycatCNN</td>\n",
       "      <td>10</td>\n",
       "      <td>5000</td>\n",
       "      <td>40</td>\n",
       "      <td>(0.0017, 1.0)</td>\n",
       "      <td>(0.2134, 0.944)</td>\n",
       "      <td>(1.7464, 0.639)</td>\n",
       "      <td>(2.0327, 0.55)</td>\n",
       "    </tr>\n",
       "    <tr>\n",
       "      <th>2</th>\n",
       "      <td>CopycatCNN</td>\n",
       "      <td>20</td>\n",
       "      <td>10000</td>\n",
       "      <td>40</td>\n",
       "      <td>(0.0017, 1.0)</td>\n",
       "      <td>(0.2134, 0.944)</td>\n",
       "      <td>(1.2221, 0.721)</td>\n",
       "      <td>(1.4793, 0.668)</td>\n",
       "    </tr>\n",
       "    <tr>\n",
       "      <th>3</th>\n",
       "      <td>CopycatCNN</td>\n",
       "      <td>30</td>\n",
       "      <td>15000</td>\n",
       "      <td>40</td>\n",
       "      <td>(0.0017, 1.0)</td>\n",
       "      <td>(0.2134, 0.944)</td>\n",
       "      <td>(0.7929, 0.788)</td>\n",
       "      <td>(0.9659, 0.725)</td>\n",
       "    </tr>\n",
       "  </tbody>\n",
       "</table>\n",
       "</div>"
      ],
      "text/plain": [
       "       Attack  Fraction of data  Max queries  Epochs trained  \\\n",
       "0  CopycatCNN                 5         2500              40   \n",
       "1  CopycatCNN                10         5000              40   \n",
       "2  CopycatCNN                20        10000              40   \n",
       "3  CopycatCNN                30        15000              40   \n",
       "\n",
       "  Victim clf on Train data Victim clf on Test data Stolen clf on Train data  \\\n",
       "0            (0.0017, 1.0)         (0.2134, 0.944)          (2.3161, 0.557)   \n",
       "1            (0.0017, 1.0)         (0.2134, 0.944)          (1.7464, 0.639)   \n",
       "2            (0.0017, 1.0)         (0.2134, 0.944)          (1.2221, 0.721)   \n",
       "3            (0.0017, 1.0)         (0.2134, 0.944)          (0.7929, 0.788)   \n",
       "\n",
       "  Stolen clf on Test data  \n",
       "0         (2.2642, 0.522)  \n",
       "1          (2.0327, 0.55)  \n",
       "2         (1.4793, 0.668)  \n",
       "3         (0.9659, 0.725)  "
      ]
     },
     "execution_count": 103,
     "metadata": {},
     "output_type": "execute_result"
    }
   ],
   "source": [
    "CCC_results_40e.head()"
   ]
  },
  {
   "cell_type": "code",
   "execution_count": 106,
   "metadata": {},
   "outputs": [
    {
     "data": {
      "text/html": [
       "<div>\n",
       "<style scoped>\n",
       "    .dataframe tbody tr th:only-of-type {\n",
       "        vertical-align: middle;\n",
       "    }\n",
       "\n",
       "    .dataframe tbody tr th {\n",
       "        vertical-align: top;\n",
       "    }\n",
       "\n",
       "    .dataframe thead th {\n",
       "        text-align: right;\n",
       "    }\n",
       "</style>\n",
       "<table border=\"1\" class=\"dataframe\">\n",
       "  <thead>\n",
       "    <tr style=\"text-align: right;\">\n",
       "      <th></th>\n",
       "      <th>Attack</th>\n",
       "      <th>Fraction of data</th>\n",
       "      <th>Max queries</th>\n",
       "      <th>Epochs trained</th>\n",
       "      <th>Victim clf on Train data</th>\n",
       "      <th>Victim clf on Test data</th>\n",
       "      <th>Stolen clf on Train data</th>\n",
       "      <th>Stolen clf on Test data</th>\n",
       "    </tr>\n",
       "  </thead>\n",
       "  <tbody>\n",
       "    <tr>\n",
       "      <th>0</th>\n",
       "      <td>KnockoffNets</td>\n",
       "      <td>5</td>\n",
       "      <td>2500</td>\n",
       "      <td>20</td>\n",
       "      <td>(0.0017, 1.0)</td>\n",
       "      <td>(0.2134, 0.944)</td>\n",
       "      <td>(1.8743, 0.52)</td>\n",
       "      <td>(1.8492, 0.515)</td>\n",
       "    </tr>\n",
       "    <tr>\n",
       "      <th>1</th>\n",
       "      <td>KnockoffNets</td>\n",
       "      <td>10</td>\n",
       "      <td>5000</td>\n",
       "      <td>20</td>\n",
       "      <td>(0.0017, 1.0)</td>\n",
       "      <td>(0.2134, 0.944)</td>\n",
       "      <td>(1.3711, 0.619)</td>\n",
       "      <td>(1.5513, 0.583)</td>\n",
       "    </tr>\n",
       "    <tr>\n",
       "      <th>2</th>\n",
       "      <td>KnockoffNets</td>\n",
       "      <td>20</td>\n",
       "      <td>10000</td>\n",
       "      <td>20</td>\n",
       "      <td>(0.0017, 1.0)</td>\n",
       "      <td>(0.2134, 0.944)</td>\n",
       "      <td>(1.0375, 0.723)</td>\n",
       "      <td>(1.2095, 0.653)</td>\n",
       "    </tr>\n",
       "    <tr>\n",
       "      <th>3</th>\n",
       "      <td>KnockoffNets</td>\n",
       "      <td>30</td>\n",
       "      <td>15000</td>\n",
       "      <td>20</td>\n",
       "      <td>(0.0017, 1.0)</td>\n",
       "      <td>(0.2134, 0.944)</td>\n",
       "      <td>(0.7953, 0.75)</td>\n",
       "      <td>(1.0285, 0.697)</td>\n",
       "    </tr>\n",
       "    <tr>\n",
       "      <th>0</th>\n",
       "      <td>KnockoffNets</td>\n",
       "      <td>5</td>\n",
       "      <td>2500</td>\n",
       "      <td>30</td>\n",
       "      <td>(0.0017, 1.0)</td>\n",
       "      <td>(0.2134, 0.944)</td>\n",
       "      <td>(2.1656, 0.545)</td>\n",
       "      <td>(2.3571, 0.525)</td>\n",
       "    </tr>\n",
       "    <tr>\n",
       "      <th>1</th>\n",
       "      <td>KnockoffNets</td>\n",
       "      <td>10</td>\n",
       "      <td>5000</td>\n",
       "      <td>30</td>\n",
       "      <td>(0.0017, 1.0)</td>\n",
       "      <td>(0.2134, 0.944)</td>\n",
       "      <td>(1.378, 0.636)</td>\n",
       "      <td>(1.5988, 0.593)</td>\n",
       "    </tr>\n",
       "    <tr>\n",
       "      <th>2</th>\n",
       "      <td>KnockoffNets</td>\n",
       "      <td>20</td>\n",
       "      <td>10000</td>\n",
       "      <td>30</td>\n",
       "      <td>(0.0017, 1.0)</td>\n",
       "      <td>(0.2134, 0.944)</td>\n",
       "      <td>(1.091, 0.726)</td>\n",
       "      <td>(1.4035, 0.66)</td>\n",
       "    </tr>\n",
       "    <tr>\n",
       "      <th>3</th>\n",
       "      <td>KnockoffNets</td>\n",
       "      <td>30</td>\n",
       "      <td>15000</td>\n",
       "      <td>30</td>\n",
       "      <td>(0.0017, 1.0)</td>\n",
       "      <td>(0.2134, 0.944)</td>\n",
       "      <td>(0.7677, 0.791)</td>\n",
       "      <td>(0.9552, 0.708)</td>\n",
       "    </tr>\n",
       "    <tr>\n",
       "      <th>0</th>\n",
       "      <td>KnockoffNets</td>\n",
       "      <td>5</td>\n",
       "      <td>2500</td>\n",
       "      <td>40</td>\n",
       "      <td>(0.0017, 1.0)</td>\n",
       "      <td>(0.2134, 0.944)</td>\n",
       "      <td>(2.6595, 0.506)</td>\n",
       "      <td>(2.5057, 0.52)</td>\n",
       "    </tr>\n",
       "    <tr>\n",
       "      <th>1</th>\n",
       "      <td>KnockoffNets</td>\n",
       "      <td>10</td>\n",
       "      <td>5000</td>\n",
       "      <td>40</td>\n",
       "      <td>(0.0017, 1.0)</td>\n",
       "      <td>(0.2134, 0.944)</td>\n",
       "      <td>(1.5156, 0.65)</td>\n",
       "      <td>(1.7004, 0.603)</td>\n",
       "    </tr>\n",
       "    <tr>\n",
       "      <th>2</th>\n",
       "      <td>KnockoffNets</td>\n",
       "      <td>20</td>\n",
       "      <td>10000</td>\n",
       "      <td>40</td>\n",
       "      <td>(0.0017, 1.0)</td>\n",
       "      <td>(0.2134, 0.944)</td>\n",
       "      <td>(1.2484, 0.714)</td>\n",
       "      <td>(1.5209, 0.642)</td>\n",
       "    </tr>\n",
       "    <tr>\n",
       "      <th>3</th>\n",
       "      <td>KnockoffNets</td>\n",
       "      <td>30</td>\n",
       "      <td>15000</td>\n",
       "      <td>40</td>\n",
       "      <td>(0.0017, 1.0)</td>\n",
       "      <td>(0.2134, 0.944)</td>\n",
       "      <td>(0.8399, 0.772)</td>\n",
       "      <td>(1.0338, 0.71)</td>\n",
       "    </tr>\n",
       "    <tr>\n",
       "      <th>0</th>\n",
       "      <td>CopycatCNN</td>\n",
       "      <td>5</td>\n",
       "      <td>2500</td>\n",
       "      <td>20</td>\n",
       "      <td>(0.0017, 1.0)</td>\n",
       "      <td>(0.2134, 0.944)</td>\n",
       "      <td>(1.566, 0.539)</td>\n",
       "      <td>(1.6998, 0.532)</td>\n",
       "    </tr>\n",
       "    <tr>\n",
       "      <th>1</th>\n",
       "      <td>CopycatCNN</td>\n",
       "      <td>10</td>\n",
       "      <td>5000</td>\n",
       "      <td>20</td>\n",
       "      <td>(0.0017, 1.0)</td>\n",
       "      <td>(0.2134, 0.944)</td>\n",
       "      <td>(1.5256, 0.623)</td>\n",
       "      <td>(1.698, 0.584)</td>\n",
       "    </tr>\n",
       "    <tr>\n",
       "      <th>2</th>\n",
       "      <td>CopycatCNN</td>\n",
       "      <td>20</td>\n",
       "      <td>10000</td>\n",
       "      <td>20</td>\n",
       "      <td>(0.0017, 1.0)</td>\n",
       "      <td>(0.2134, 0.944)</td>\n",
       "      <td>(1.0333, 0.726)</td>\n",
       "      <td>(1.1957, 0.665)</td>\n",
       "    </tr>\n",
       "    <tr>\n",
       "      <th>3</th>\n",
       "      <td>CopycatCNN</td>\n",
       "      <td>30</td>\n",
       "      <td>15000</td>\n",
       "      <td>20</td>\n",
       "      <td>(0.0017, 1.0)</td>\n",
       "      <td>(0.2134, 0.944)</td>\n",
       "      <td>(0.7759, 0.766)</td>\n",
       "      <td>(0.9894, 0.69)</td>\n",
       "    </tr>\n",
       "    <tr>\n",
       "      <th>0</th>\n",
       "      <td>CopycatCNN</td>\n",
       "      <td>5</td>\n",
       "      <td>2500</td>\n",
       "      <td>30</td>\n",
       "      <td>(0.0017, 1.0)</td>\n",
       "      <td>(0.2134, 0.944)</td>\n",
       "      <td>(2.0025, 0.535)</td>\n",
       "      <td>(1.9658, 0.524)</td>\n",
       "    </tr>\n",
       "    <tr>\n",
       "      <th>1</th>\n",
       "      <td>CopycatCNN</td>\n",
       "      <td>10</td>\n",
       "      <td>5000</td>\n",
       "      <td>30</td>\n",
       "      <td>(0.0017, 1.0)</td>\n",
       "      <td>(0.2134, 0.944)</td>\n",
       "      <td>(1.4955, 0.646)</td>\n",
       "      <td>(1.7299, 0.595)</td>\n",
       "    </tr>\n",
       "    <tr>\n",
       "      <th>2</th>\n",
       "      <td>CopycatCNN</td>\n",
       "      <td>20</td>\n",
       "      <td>10000</td>\n",
       "      <td>30</td>\n",
       "      <td>(0.0017, 1.0)</td>\n",
       "      <td>(0.2134, 0.944)</td>\n",
       "      <td>(1.048, 0.723)</td>\n",
       "      <td>(1.2566, 0.675)</td>\n",
       "    </tr>\n",
       "    <tr>\n",
       "      <th>3</th>\n",
       "      <td>CopycatCNN</td>\n",
       "      <td>30</td>\n",
       "      <td>15000</td>\n",
       "      <td>30</td>\n",
       "      <td>(0.0017, 1.0)</td>\n",
       "      <td>(0.2134, 0.944)</td>\n",
       "      <td>(0.6689, 0.806)</td>\n",
       "      <td>(1.0855, 0.694)</td>\n",
       "    </tr>\n",
       "    <tr>\n",
       "      <th>0</th>\n",
       "      <td>CopycatCNN</td>\n",
       "      <td>5</td>\n",
       "      <td>2500</td>\n",
       "      <td>40</td>\n",
       "      <td>(0.0017, 1.0)</td>\n",
       "      <td>(0.2134, 0.944)</td>\n",
       "      <td>(2.3161, 0.557)</td>\n",
       "      <td>(2.2642, 0.522)</td>\n",
       "    </tr>\n",
       "    <tr>\n",
       "      <th>1</th>\n",
       "      <td>CopycatCNN</td>\n",
       "      <td>10</td>\n",
       "      <td>5000</td>\n",
       "      <td>40</td>\n",
       "      <td>(0.0017, 1.0)</td>\n",
       "      <td>(0.2134, 0.944)</td>\n",
       "      <td>(1.7464, 0.639)</td>\n",
       "      <td>(2.0327, 0.55)</td>\n",
       "    </tr>\n",
       "    <tr>\n",
       "      <th>2</th>\n",
       "      <td>CopycatCNN</td>\n",
       "      <td>20</td>\n",
       "      <td>10000</td>\n",
       "      <td>40</td>\n",
       "      <td>(0.0017, 1.0)</td>\n",
       "      <td>(0.2134, 0.944)</td>\n",
       "      <td>(1.2221, 0.721)</td>\n",
       "      <td>(1.4793, 0.668)</td>\n",
       "    </tr>\n",
       "    <tr>\n",
       "      <th>3</th>\n",
       "      <td>CopycatCNN</td>\n",
       "      <td>30</td>\n",
       "      <td>15000</td>\n",
       "      <td>40</td>\n",
       "      <td>(0.0017, 1.0)</td>\n",
       "      <td>(0.2134, 0.944)</td>\n",
       "      <td>(0.7929, 0.788)</td>\n",
       "      <td>(0.9659, 0.725)</td>\n",
       "    </tr>\n",
       "  </tbody>\n",
       "</table>\n",
       "</div>"
      ],
      "text/plain": [
       "         Attack  Fraction of data  Max queries  Epochs trained  \\\n",
       "0  KnockoffNets                 5         2500              20   \n",
       "1  KnockoffNets                10         5000              20   \n",
       "2  KnockoffNets                20        10000              20   \n",
       "3  KnockoffNets                30        15000              20   \n",
       "0  KnockoffNets                 5         2500              30   \n",
       "1  KnockoffNets                10         5000              30   \n",
       "2  KnockoffNets                20        10000              30   \n",
       "3  KnockoffNets                30        15000              30   \n",
       "0  KnockoffNets                 5         2500              40   \n",
       "1  KnockoffNets                10         5000              40   \n",
       "2  KnockoffNets                20        10000              40   \n",
       "3  KnockoffNets                30        15000              40   \n",
       "0    CopycatCNN                 5         2500              20   \n",
       "1    CopycatCNN                10         5000              20   \n",
       "2    CopycatCNN                20        10000              20   \n",
       "3    CopycatCNN                30        15000              20   \n",
       "0    CopycatCNN                 5         2500              30   \n",
       "1    CopycatCNN                10         5000              30   \n",
       "2    CopycatCNN                20        10000              30   \n",
       "3    CopycatCNN                30        15000              30   \n",
       "0    CopycatCNN                 5         2500              40   \n",
       "1    CopycatCNN                10         5000              40   \n",
       "2    CopycatCNN                20        10000              40   \n",
       "3    CopycatCNN                30        15000              40   \n",
       "\n",
       "  Victim clf on Train data Victim clf on Test data Stolen clf on Train data  \\\n",
       "0            (0.0017, 1.0)         (0.2134, 0.944)           (1.8743, 0.52)   \n",
       "1            (0.0017, 1.0)         (0.2134, 0.944)          (1.3711, 0.619)   \n",
       "2            (0.0017, 1.0)         (0.2134, 0.944)          (1.0375, 0.723)   \n",
       "3            (0.0017, 1.0)         (0.2134, 0.944)           (0.7953, 0.75)   \n",
       "0            (0.0017, 1.0)         (0.2134, 0.944)          (2.1656, 0.545)   \n",
       "1            (0.0017, 1.0)         (0.2134, 0.944)           (1.378, 0.636)   \n",
       "2            (0.0017, 1.0)         (0.2134, 0.944)           (1.091, 0.726)   \n",
       "3            (0.0017, 1.0)         (0.2134, 0.944)          (0.7677, 0.791)   \n",
       "0            (0.0017, 1.0)         (0.2134, 0.944)          (2.6595, 0.506)   \n",
       "1            (0.0017, 1.0)         (0.2134, 0.944)           (1.5156, 0.65)   \n",
       "2            (0.0017, 1.0)         (0.2134, 0.944)          (1.2484, 0.714)   \n",
       "3            (0.0017, 1.0)         (0.2134, 0.944)          (0.8399, 0.772)   \n",
       "0            (0.0017, 1.0)         (0.2134, 0.944)           (1.566, 0.539)   \n",
       "1            (0.0017, 1.0)         (0.2134, 0.944)          (1.5256, 0.623)   \n",
       "2            (0.0017, 1.0)         (0.2134, 0.944)          (1.0333, 0.726)   \n",
       "3            (0.0017, 1.0)         (0.2134, 0.944)          (0.7759, 0.766)   \n",
       "0            (0.0017, 1.0)         (0.2134, 0.944)          (2.0025, 0.535)   \n",
       "1            (0.0017, 1.0)         (0.2134, 0.944)          (1.4955, 0.646)   \n",
       "2            (0.0017, 1.0)         (0.2134, 0.944)           (1.048, 0.723)   \n",
       "3            (0.0017, 1.0)         (0.2134, 0.944)          (0.6689, 0.806)   \n",
       "0            (0.0017, 1.0)         (0.2134, 0.944)          (2.3161, 0.557)   \n",
       "1            (0.0017, 1.0)         (0.2134, 0.944)          (1.7464, 0.639)   \n",
       "2            (0.0017, 1.0)         (0.2134, 0.944)          (1.2221, 0.721)   \n",
       "3            (0.0017, 1.0)         (0.2134, 0.944)          (0.7929, 0.788)   \n",
       "\n",
       "  Stolen clf on Test data  \n",
       "0         (1.8492, 0.515)  \n",
       "1         (1.5513, 0.583)  \n",
       "2         (1.2095, 0.653)  \n",
       "3         (1.0285, 0.697)  \n",
       "0         (2.3571, 0.525)  \n",
       "1         (1.5988, 0.593)  \n",
       "2          (1.4035, 0.66)  \n",
       "3         (0.9552, 0.708)  \n",
       "0          (2.5057, 0.52)  \n",
       "1         (1.7004, 0.603)  \n",
       "2         (1.5209, 0.642)  \n",
       "3          (1.0338, 0.71)  \n",
       "0         (1.6998, 0.532)  \n",
       "1          (1.698, 0.584)  \n",
       "2         (1.1957, 0.665)  \n",
       "3          (0.9894, 0.69)  \n",
       "0         (1.9658, 0.524)  \n",
       "1         (1.7299, 0.595)  \n",
       "2         (1.2566, 0.675)  \n",
       "3         (1.0855, 0.694)  \n",
       "0         (2.2642, 0.522)  \n",
       "1          (2.0327, 0.55)  \n",
       "2         (1.4793, 0.668)  \n",
       "3         (0.9659, 0.725)  "
      ]
     },
     "execution_count": 106,
     "metadata": {},
     "output_type": "execute_result"
    }
   ],
   "source": [
    "EA_results = pd.concat([KON_results_20e,KON_results_30e,KON_results_40e,CCC_results_20e,CCC_results_30e,CCC_results_40e])\n",
    "EA_results.head(24)"
   ]
  },
  {
   "cell_type": "code",
   "execution_count": 105,
   "metadata": {},
   "outputs": [],
   "source": [
    "EA_results.to_csv(\"Extraction attacks results.csv\")"
   ]
  },
  {
   "cell_type": "code",
   "execution_count": 42,
   "metadata": {},
   "outputs": [
    {
     "name": "stdout",
     "output_type": "stream",
     "text": [
      "(15000, 32, 32, 3) (15000, 10)\n"
     ]
    }
   ],
   "source": [
    "partial_x_train, partial_y_train = subset_data(x_train, y_train, fraction=30)"
   ]
  },
  {
   "cell_type": "code",
   "execution_count": 43,
   "metadata": {},
   "outputs": [
    {
     "name": "stdout",
     "output_type": "stream",
     "text": [
      "INFO:tensorflow:Saver not created because there are no variables in the graph to restore\n"
     ]
    },
    {
     "name": "stderr",
     "output_type": "stream",
     "text": [
      "INFO:tensorflow:Saver not created because there are no variables in the graph to restore\n"
     ]
    }
   ],
   "source": [
    "ge_cifar_clf = build_ganeval_model()\n",
    "sub_clf1 = build_substitute_model()\n",
    "sub_clf2 = build_substitute_model()\n",
    "# sub_clf1.summary()\n",
    "# sub_clf2.summary()"
   ]
  },
  {
   "cell_type": "code",
   "execution_count": 44,
   "metadata": {
    "pycharm": {
     "name": "#%%\n"
    }
   },
   "outputs": [],
   "source": [
    "cloud_art_clf = KerasClassifier(model=ge_cifar_clf, clip_values=(0, 1), use_logits=True)\n",
    "stolen_clf1 = KerasClassifier(model=sub_clf1, clip_values=(0, 1), use_logits=True)\n",
    "stolen_clf2 = KerasClassifier(model=sub_clf2, clip_values=(0, 1), use_logits=True)"
   ]
  },
  {
   "cell_type": "code",
   "execution_count": 37,
   "metadata": {
    "pycharm": {
     "name": "#%%\n"
    }
   },
   "outputs": [],
   "source": [
    "CCC_results = []"
   ]
  },
  {
   "cell_type": "code",
   "execution_count": 28,
   "metadata": {
    "pycharm": {
     "name": "#%%\n"
    }
   },
   "outputs": [],
   "source": [
    "attack_CCC = CopycatCNN(classifier=cloud_art_clf, \n",
    "                        batch_size_fit=32, \n",
    "                        batch_size_query=32,\n",
    "                        nb_epochs=2,\n",
    "                        nb_stolen=10000)"
   ]
  },
  {
   "cell_type": "code",
   "execution_count": 29,
   "metadata": {
    "pycharm": {
     "name": "#%%\n"
    }
   },
   "outputs": [
    {
     "name": "stderr",
     "output_type": "stream",
     "text": [
      "WARNING:art.attacks.extraction.copycat_cnn:The size of the source input is smaller than the expected number of queries submitted to the victim classifier.\n"
     ]
    },
    {
     "name": "stdout",
     "output_type": "stream",
     "text": [
      "WARNING:tensorflow:OMP_NUM_THREADS is no longer used by the default Keras config. To configure the number of threads, use tf.config.threading APIs.\n"
     ]
    },
    {
     "name": "stderr",
     "output_type": "stream",
     "text": [
      "WARNING:tensorflow:OMP_NUM_THREADS is no longer used by the default Keras config. To configure the number of threads, use tf.config.threading APIs.\n"
     ]
    },
    {
     "name": "stdout",
     "output_type": "stream",
     "text": [
      "Epoch 1/2\n",
      "15/15 [==============================] - 1s 85ms/step - loss: 2.3205 - acc: 0.0812\n",
      "Epoch 2/2\n",
      "15/15 [==============================] - 0s 28ms/step - loss: 2.2955 - acc: 0.1104\n"
     ]
    }
   ],
   "source": [
    "stolen_clf1 = attack_CCC.extract(partial_x_train, thieved_classifier=stolen_clf1)"
   ]
  },
  {
   "cell_type": "code",
   "execution_count": null,
   "metadata": {},
   "outputs": [],
   "source": [
    "%%time\n",
    "attack_KN = KnockoffNets(classifier=cloud_art_clf, \n",
    "                        batch_size_fit=32, \n",
    "                        batch_size_query=32,\n",
    "                        nb_epochs=20,\n",
    "                        nb_stolen=7000,\n",
    "                        sampling_strategy='adaptive')\n",
    "stolen_clf2 = attack_KN.extract(partial_x_train, partial_y_train, thieved_classifier=stolen_clf2)"
   ]
  },
  {
   "cell_type": "code",
   "execution_count": 14,
   "metadata": {},
   "outputs": [
    {
     "name": "stdout",
     "output_type": "stream",
     "text": [
      "INFO:tensorflow:Saver not created because there are no variables in the graph to restore\n"
     ]
    },
    {
     "name": "stderr",
     "output_type": "stream",
     "text": [
      "INFO:tensorflow:Saver not created because there are no variables in the graph to restore\n"
     ]
    },
    {
     "name": "stdout",
     "output_type": "stream",
     "text": [
      "Model: \"sequential\"\n",
      "_________________________________________________________________\n",
      "Layer (type)                 Output Shape              Param #   \n",
      "=================================================================\n",
      "reshape (Reshape)            (None, 32, 32, 1)         0         \n",
      "_________________________________________________________________\n",
      "conv2d (Conv2D)              (None, 32, 32, 3)         30        \n",
      "_________________________________________________________________\n",
      "keras_layer (KerasLayer)     (None, 10)                7796426   \n",
      "_________________________________________________________________\n",
      "activation (Activation)      (None, 10)                0         \n",
      "=================================================================\n",
      "Total params: 7,796,456\n",
      "Trainable params: 30\n",
      "Non-trainable params: 7,796,426\n",
      "_________________________________________________________________\n"
     ]
    }
   ],
   "source": [
    "ge_flat_clf = build_ganeval_model_flat()\n",
    "ge_flat_clf.summary()"
   ]
  },
  {
   "cell_type": "code",
   "execution_count": 15,
   "metadata": {},
   "outputs": [
    {
     "name": "stdout",
     "output_type": "stream",
     "text": [
      "(100, 32, 32, 3) (100, 10)\n"
     ]
    }
   ],
   "source": [
    "partial_x_train, partial_y_train = subset_data(x_train, y_train, fraction=0.2)"
   ]
  },
  {
   "cell_type": "code",
   "execution_count": 16,
   "metadata": {},
   "outputs": [],
   "source": [
    "partial_x_train = partial_x_train[:,:,:,0]"
   ]
  },
  {
   "cell_type": "code",
   "execution_count": 17,
   "metadata": {},
   "outputs": [
    {
     "data": {
      "text/plain": [
       "(100, 1024)"
      ]
     },
     "execution_count": 17,
     "metadata": {},
     "output_type": "execute_result"
    }
   ],
   "source": [
    "x_mean = partial_x_train.mean()\n",
    "x_std = partial_x_train.std()\n",
    "\n",
    "partial_x_train = (partial_x_train.reshape(-1,32*32*1) - x_mean)/x_std\n",
    "partial_x_train.shape"
   ]
  },
  {
   "cell_type": "code",
   "execution_count": 18,
   "metadata": {},
   "outputs": [
    {
     "data": {
      "text/plain": [
       "2.559064071760986e-16"
      ]
     },
     "execution_count": 18,
     "metadata": {},
     "output_type": "execute_result"
    }
   ],
   "source": [
    "partial_x_train.mean()"
   ]
  },
  {
   "cell_type": "code",
   "execution_count": 19,
   "metadata": {},
   "outputs": [
    {
     "name": "stdout",
     "output_type": "stream",
     "text": [
      "WARNING:tensorflow:OMP_NUM_THREADS is no longer used by the default Keras config. To configure the number of threads, use tf.config.threading APIs.\n"
     ]
    },
    {
     "name": "stderr",
     "output_type": "stream",
     "text": [
      "WARNING:tensorflow:OMP_NUM_THREADS is no longer used by the default Keras config. To configure the number of threads, use tf.config.threading APIs.\n"
     ]
    },
    {
     "name": "stdout",
     "output_type": "stream",
     "text": [
      "100/100 [==============================] - 0s 3ms/sample - loss: 6.8181 - acc: 0.1200\n"
     ]
    },
    {
     "data": {
      "text/plain": [
       "[6.818088340759277, 0.12]"
      ]
     },
     "execution_count": 19,
     "metadata": {},
     "output_type": "execute_result"
    }
   ],
   "source": [
    "ge_flat_clf.evaluate(partial_x_train, partial_y_train)"
   ]
  },
  {
   "cell_type": "code",
   "execution_count": 20,
   "metadata": {
    "collapsed": true,
    "jupyter": {
     "outputs_hidden": true
    }
   },
   "outputs": [
    {
     "name": "stderr",
     "output_type": "stream",
     "text": [
      "/home/jupyter/adver_tf1_gcp/lib/python3.5/site-packages/art/attacks/extraction/functionally_equivalent_extraction.py:232: RuntimeWarning: divide by zero encountered in true_divide\n",
      "  t_hat = t_1 + np.divide(y_2 - y_1 - (t_2 - t_1) * m_2, m_1 - m_2)\n",
      "/home/jupyter/adver_tf1_gcp/lib/python3.5/site-packages/art/attacks/extraction/functionally_equivalent_extraction.py:233: RuntimeWarning: divide by zero encountered in true_divide\n",
      "  y_hat = y_1 + m_1 * np.divide(y_2 - y_1 - (t_2 - t_1) * m_2, m_1 - m_2)\n",
      "/home/jupyter/adver_tf1_gcp/lib/python3.5/site-packages/art/attacks/extraction/functionally_equivalent_extraction.py:247: RuntimeWarning: invalid value encountered in less\n",
      "  np.sum(np.abs((y_hat - y) / y) < rel_diff_value) > fraction_true * self.num_classes\n",
      "/home/jupyter/adver_tf1_gcp/lib/python3.5/site-packages/art/attacks/extraction/functionally_equivalent_extraction.py:228: RuntimeWarning: divide by zero encountered in true_divide\n",
      "  if np.sum(np.abs((m_1 - m_2) / m_1) < rel_diff_slope) > fraction_true * self.num_classes:\n",
      "/home/jupyter/adver_tf1_gcp/lib/python3.5/site-packages/art/attacks/extraction/functionally_equivalent_extraction.py:228: RuntimeWarning: invalid value encountered in true_divide\n",
      "  if np.sum(np.abs((m_1 - m_2) / m_1) < rel_diff_slope) > fraction_true * self.num_classes:\n",
      "/home/jupyter/adver_tf1_gcp/lib/python3.5/site-packages/art/attacks/extraction/functionally_equivalent_extraction.py:228: RuntimeWarning: invalid value encountered in less\n",
      "  if np.sum(np.abs((m_1 - m_2) / m_1) < rel_diff_slope) > fraction_true * self.num_classes:\n",
      "/home/jupyter/adver_tf1_gcp/lib/python3.5/site-packages/art/attacks/extraction/functionally_equivalent_extraction.py:233: RuntimeWarning: invalid value encountered in multiply\n",
      "  y_hat = y_1 + m_1 * np.divide(y_2 - y_1 - (t_2 - t_1) * m_2, m_1 - m_2)\n",
      "/home/jupyter/adver_tf1_gcp/lib/python3.5/site-packages/art/attacks/extraction/functionally_equivalent_extraction.py:232: RuntimeWarning: invalid value encountered in true_divide\n",
      "  t_hat = t_1 + np.divide(y_2 - y_1 - (t_2 - t_1) * m_2, m_1 - m_2)\n",
      "/home/jupyter/adver_tf1_gcp/lib/python3.5/site-packages/art/attacks/extraction/functionally_equivalent_extraction.py:233: RuntimeWarning: invalid value encountered in true_divide\n",
      "  y_hat = y_1 + m_1 * np.divide(y_2 - y_1 - (t_2 - t_1) * m_2, m_1 - m_2)\n",
      "/home/jupyter/adver_tf1_gcp/lib/python3.5/site-packages/art/attacks/extraction/functionally_equivalent_extraction.py:222: RuntimeWarning: invalid value encountered in true_divide\n",
      "  m_1 = (self._o_l(x_1_p) - self._o_l(x_1)) / epsilon\n",
      "/home/jupyter/adver_tf1_gcp/lib/python3.5/site-packages/art/attacks/extraction/functionally_equivalent_extraction.py:223: RuntimeWarning: invalid value encountered in true_divide\n",
      "  m_2 = (self._o_l(x_2) - self._o_l(x_2_m)) / epsilon\n"
     ]
    },
    {
     "ename": "KeyboardInterrupt",
     "evalue": "",
     "output_type": "error",
     "traceback": [
      "\u001b[0;31m---------------------------------------------------------------------------\u001b[0m",
      "\u001b[0;31mKeyboardInterrupt\u001b[0m                         Traceback (most recent call last)",
      "\u001b[0;32m<ipython-input-20-8fcca8db74ce>\u001b[0m in \u001b[0;36m<module>\u001b[0;34m\u001b[0m\n\u001b[1;32m      2\u001b[0m \u001b[0;34m\u001b[0m\u001b[0m\n\u001b[1;32m      3\u001b[0m \u001b[0mattack_FEN\u001b[0m \u001b[0;34m=\u001b[0m \u001b[0mFunctionallyEquivalentExtraction\u001b[0m\u001b[0;34m(\u001b[0m\u001b[0mclassifier\u001b[0m\u001b[0;34m=\u001b[0m\u001b[0mflat_art_clf\u001b[0m\u001b[0;34m,\u001b[0m \u001b[0mnum_neurons\u001b[0m\u001b[0;34m=\u001b[0m\u001b[0;36m10\u001b[0m\u001b[0;34m)\u001b[0m\u001b[0;34m\u001b[0m\u001b[0m\n\u001b[0;32m----> 4\u001b[0;31m \u001b[0mstolen_clf_FEN\u001b[0m \u001b[0;34m=\u001b[0m \u001b[0mattack_FEN\u001b[0m\u001b[0;34m.\u001b[0m\u001b[0mextract\u001b[0m\u001b[0;34m(\u001b[0m\u001b[0mpartial_x_train\u001b[0m\u001b[0;34m)\u001b[0m\u001b[0;34m\u001b[0m\u001b[0m\n\u001b[0m",
      "\u001b[0;32m~/adver_tf1_gcp/lib/python3.5/site-packages/art/attacks/attack.py\u001b[0m in \u001b[0;36mreplacement_function\u001b[0;34m(self, *args, **kwargs)\u001b[0m\n\u001b[1;32m     68\u001b[0m                 \u001b[0;32mif\u001b[0m \u001b[0mlen\u001b[0m\u001b[0;34m(\u001b[0m\u001b[0margs\u001b[0m\u001b[0;34m)\u001b[0m \u001b[0;34m>\u001b[0m \u001b[0;36m0\u001b[0m\u001b[0;34m:\u001b[0m\u001b[0;34m\u001b[0m\u001b[0m\n\u001b[1;32m     69\u001b[0m                     \u001b[0margs\u001b[0m \u001b[0;34m=\u001b[0m \u001b[0mtuple\u001b[0m\u001b[0;34m(\u001b[0m\u001b[0mlst\u001b[0m\u001b[0;34m)\u001b[0m\u001b[0;34m\u001b[0m\u001b[0m\n\u001b[0;32m---> 70\u001b[0;31m                 \u001b[0;32mreturn\u001b[0m \u001b[0mfdict\u001b[0m\u001b[0;34m[\u001b[0m\u001b[0mfunc_name\u001b[0m\u001b[0;34m]\u001b[0m\u001b[0;34m(\u001b[0m\u001b[0mself\u001b[0m\u001b[0;34m,\u001b[0m \u001b[0;34m*\u001b[0m\u001b[0margs\u001b[0m\u001b[0;34m,\u001b[0m \u001b[0;34m**\u001b[0m\u001b[0mkwargs\u001b[0m\u001b[0;34m)\u001b[0m\u001b[0;34m\u001b[0m\u001b[0m\n\u001b[0m\u001b[1;32m     71\u001b[0m \u001b[0;34m\u001b[0m\u001b[0m\n\u001b[1;32m     72\u001b[0m             \u001b[0mreplacement_function\u001b[0m\u001b[0;34m.\u001b[0m\u001b[0m__doc__\u001b[0m \u001b[0;34m=\u001b[0m \u001b[0mfdict\u001b[0m\u001b[0;34m[\u001b[0m\u001b[0mfunc_name\u001b[0m\u001b[0;34m]\u001b[0m\u001b[0;34m.\u001b[0m\u001b[0m__doc__\u001b[0m\u001b[0;34m\u001b[0m\u001b[0m\n",
      "\u001b[0;32m~/adver_tf1_gcp/lib/python3.5/site-packages/art/attacks/extraction/functionally_equivalent_extraction.py\u001b[0m in \u001b[0;36mextract\u001b[0;34m(self, x, y, delta_0, fraction_true, rel_diff_slope, rel_diff_value, delta_init_value, delta_value_max, d2_min, d_step, delta_sign, unit_vector_scale, **kwargs)\u001b[0m\n\u001b[1;32m    123\u001b[0m         \"\"\"\n\u001b[1;32m    124\u001b[0m         self._critical_point_search(\n\u001b[0;32m--> 125\u001b[0;31m             \u001b[0mdelta_0\u001b[0m\u001b[0;34m=\u001b[0m\u001b[0mdelta_0\u001b[0m\u001b[0;34m,\u001b[0m \u001b[0mfraction_true\u001b[0m\u001b[0;34m=\u001b[0m\u001b[0mfraction_true\u001b[0m\u001b[0;34m,\u001b[0m \u001b[0mrel_diff_slope\u001b[0m\u001b[0;34m=\u001b[0m\u001b[0mrel_diff_slope\u001b[0m\u001b[0;34m,\u001b[0m \u001b[0mrel_diff_value\u001b[0m\u001b[0;34m=\u001b[0m\u001b[0mrel_diff_value\u001b[0m\u001b[0;34m\u001b[0m\u001b[0m\n\u001b[0m\u001b[1;32m    126\u001b[0m         )\n\u001b[1;32m    127\u001b[0m         self._weight_recovery(\n",
      "\u001b[0;32m~/adver_tf1_gcp/lib/python3.5/site-packages/art/attacks/extraction/functionally_equivalent_extraction.py\u001b[0m in \u001b[0;36m_critical_point_search\u001b[0;34m(self, delta_0, fraction_true, rel_diff_slope, rel_diff_value)\u001b[0m\n\u001b[1;32m    242\u001b[0m \u001b[0;34m\u001b[0m\u001b[0m\n\u001b[1;32m    243\u001b[0m                 \u001b[0mm_x_1\u001b[0m \u001b[0;34m=\u001b[0m \u001b[0;34m(\u001b[0m\u001b[0mself\u001b[0m\u001b[0;34m.\u001b[0m\u001b[0m_o_l\u001b[0m\u001b[0;34m(\u001b[0m\u001b[0mx_mean_p\u001b[0m\u001b[0;34m)\u001b[0m \u001b[0;34m-\u001b[0m \u001b[0mself\u001b[0m\u001b[0;34m.\u001b[0m\u001b[0m_o_l\u001b[0m\u001b[0;34m(\u001b[0m\u001b[0mx_mean\u001b[0m\u001b[0;34m)\u001b[0m\u001b[0;34m)\u001b[0m \u001b[0;34m/\u001b[0m \u001b[0mepsilon\u001b[0m\u001b[0;34m\u001b[0m\u001b[0m\n\u001b[0;32m--> 244\u001b[0;31m                 \u001b[0mm_x_2\u001b[0m \u001b[0;34m=\u001b[0m \u001b[0;34m(\u001b[0m\u001b[0mself\u001b[0m\u001b[0;34m.\u001b[0m\u001b[0m_o_l\u001b[0m\u001b[0;34m(\u001b[0m\u001b[0mx_mean\u001b[0m\u001b[0;34m)\u001b[0m \u001b[0;34m-\u001b[0m \u001b[0mself\u001b[0m\u001b[0;34m.\u001b[0m\u001b[0m_o_l\u001b[0m\u001b[0;34m(\u001b[0m\u001b[0mx_mean_m\u001b[0m\u001b[0;34m)\u001b[0m\u001b[0;34m)\u001b[0m \u001b[0;34m/\u001b[0m \u001b[0mepsilon\u001b[0m\u001b[0;34m\u001b[0m\u001b[0m\n\u001b[0m\u001b[1;32m    245\u001b[0m \u001b[0;34m\u001b[0m\u001b[0m\n\u001b[1;32m    246\u001b[0m                 if (\n",
      "\u001b[0;32m~/adver_tf1_gcp/lib/python3.5/site-packages/art/attacks/extraction/functionally_equivalent_extraction.py\u001b[0m in \u001b[0;36m_o_l\u001b[0;34m(self, x, e_j)\u001b[0m\n\u001b[1;32m    173\u001b[0m         \u001b[0;32mif\u001b[0m \u001b[0me_j\u001b[0m \u001b[0;32mis\u001b[0m \u001b[0;32mnot\u001b[0m \u001b[0;32mNone\u001b[0m\u001b[0;34m:\u001b[0m\u001b[0;34m\u001b[0m\u001b[0m\n\u001b[1;32m    174\u001b[0m             \u001b[0mx\u001b[0m \u001b[0;34m=\u001b[0m \u001b[0mx\u001b[0m \u001b[0;34m+\u001b[0m \u001b[0me_j\u001b[0m\u001b[0;34m\u001b[0m\u001b[0m\n\u001b[0;32m--> 175\u001b[0;31m         \u001b[0;32mreturn\u001b[0m \u001b[0mself\u001b[0m\u001b[0;34m.\u001b[0m\u001b[0mclassifier\u001b[0m\u001b[0;34m.\u001b[0m\u001b[0mpredict\u001b[0m\u001b[0;34m(\u001b[0m\u001b[0mx\u001b[0m\u001b[0;34m)\u001b[0m\u001b[0;34m.\u001b[0m\u001b[0mastype\u001b[0m\u001b[0;34m(\u001b[0m\u001b[0mNUMPY_DTYPE\u001b[0m\u001b[0;34m)\u001b[0m\u001b[0;34m\u001b[0m\u001b[0m\n\u001b[0m\u001b[1;32m    176\u001b[0m \u001b[0;34m\u001b[0m\u001b[0m\n\u001b[1;32m    177\u001b[0m     \u001b[0;32mdef\u001b[0m \u001b[0m_get_x\u001b[0m\u001b[0;34m(\u001b[0m\u001b[0mself\u001b[0m\u001b[0;34m,\u001b[0m \u001b[0mvar_t\u001b[0m\u001b[0;34m)\u001b[0m\u001b[0;34m:\u001b[0m\u001b[0;34m\u001b[0m\u001b[0m\n",
      "\u001b[0;32m~/adver_tf1_gcp/lib/python3.5/site-packages/art/classifiers/classifier.py\u001b[0m in \u001b[0;36mreplacement_function\u001b[0;34m(self, *args, **kwargs)\u001b[0m\n\u001b[1;32m     65\u001b[0m                 \u001b[0;32mif\u001b[0m \u001b[0mlen\u001b[0m\u001b[0;34m(\u001b[0m\u001b[0margs\u001b[0m\u001b[0;34m)\u001b[0m \u001b[0;34m>\u001b[0m \u001b[0;36m0\u001b[0m\u001b[0;34m:\u001b[0m\u001b[0;34m\u001b[0m\u001b[0m\n\u001b[1;32m     66\u001b[0m                     \u001b[0margs\u001b[0m \u001b[0;34m=\u001b[0m \u001b[0mtuple\u001b[0m\u001b[0;34m(\u001b[0m\u001b[0mlst\u001b[0m\u001b[0;34m)\u001b[0m\u001b[0;34m\u001b[0m\u001b[0m\n\u001b[0;32m---> 67\u001b[0;31m                 \u001b[0;32mreturn\u001b[0m \u001b[0mfdict\u001b[0m\u001b[0;34m[\u001b[0m\u001b[0mfunc_name\u001b[0m\u001b[0;34m]\u001b[0m\u001b[0;34m(\u001b[0m\u001b[0mself\u001b[0m\u001b[0;34m,\u001b[0m \u001b[0;34m*\u001b[0m\u001b[0margs\u001b[0m\u001b[0;34m,\u001b[0m \u001b[0;34m**\u001b[0m\u001b[0mkwargs\u001b[0m\u001b[0;34m)\u001b[0m\u001b[0;34m\u001b[0m\u001b[0m\n\u001b[0m\u001b[1;32m     68\u001b[0m \u001b[0;34m\u001b[0m\u001b[0m\n\u001b[1;32m     69\u001b[0m             \u001b[0mreplacement_function\u001b[0m\u001b[0;34m.\u001b[0m\u001b[0m__doc__\u001b[0m \u001b[0;34m=\u001b[0m \u001b[0mfdict\u001b[0m\u001b[0;34m[\u001b[0m\u001b[0mfunc_name\u001b[0m\u001b[0;34m]\u001b[0m\u001b[0;34m.\u001b[0m\u001b[0m__doc__\u001b[0m\u001b[0;34m\u001b[0m\u001b[0m\n",
      "\u001b[0;32m~/adver_tf1_gcp/lib/python3.5/site-packages/art/classifiers/keras.py\u001b[0m in \u001b[0;36mpredict\u001b[0;34m(self, x, batch_size, **kwargs)\u001b[0m\n\u001b[1;32m    374\u001b[0m         \u001b[0;32mfor\u001b[0m \u001b[0mbatch_index\u001b[0m \u001b[0;32min\u001b[0m \u001b[0mrange\u001b[0m\u001b[0;34m(\u001b[0m\u001b[0mint\u001b[0m\u001b[0;34m(\u001b[0m\u001b[0mnp\u001b[0m\u001b[0;34m.\u001b[0m\u001b[0mceil\u001b[0m\u001b[0;34m(\u001b[0m\u001b[0mx_preprocessed\u001b[0m\u001b[0;34m.\u001b[0m\u001b[0mshape\u001b[0m\u001b[0;34m[\u001b[0m\u001b[0;36m0\u001b[0m\u001b[0;34m]\u001b[0m \u001b[0;34m/\u001b[0m \u001b[0mfloat\u001b[0m\u001b[0;34m(\u001b[0m\u001b[0mbatch_size\u001b[0m\u001b[0;34m)\u001b[0m\u001b[0;34m)\u001b[0m\u001b[0;34m)\u001b[0m\u001b[0;34m)\u001b[0m\u001b[0;34m:\u001b[0m\u001b[0;34m\u001b[0m\u001b[0m\n\u001b[1;32m    375\u001b[0m             \u001b[0mbegin\u001b[0m\u001b[0;34m,\u001b[0m \u001b[0mend\u001b[0m \u001b[0;34m=\u001b[0m \u001b[0mbatch_index\u001b[0m \u001b[0;34m*\u001b[0m \u001b[0mbatch_size\u001b[0m\u001b[0;34m,\u001b[0m \u001b[0mmin\u001b[0m\u001b[0;34m(\u001b[0m\u001b[0;34m(\u001b[0m\u001b[0mbatch_index\u001b[0m \u001b[0;34m+\u001b[0m \u001b[0;36m1\u001b[0m\u001b[0;34m)\u001b[0m \u001b[0;34m*\u001b[0m \u001b[0mbatch_size\u001b[0m\u001b[0;34m,\u001b[0m \u001b[0mx_preprocessed\u001b[0m\u001b[0;34m.\u001b[0m\u001b[0mshape\u001b[0m\u001b[0;34m[\u001b[0m\u001b[0;36m0\u001b[0m\u001b[0;34m]\u001b[0m\u001b[0;34m)\u001b[0m\u001b[0;34m\u001b[0m\u001b[0m\n\u001b[0;32m--> 376\u001b[0;31m             \u001b[0mpredictions\u001b[0m\u001b[0;34m[\u001b[0m\u001b[0mbegin\u001b[0m\u001b[0;34m:\u001b[0m\u001b[0mend\u001b[0m\u001b[0;34m]\u001b[0m \u001b[0;34m=\u001b[0m \u001b[0mself\u001b[0m\u001b[0;34m.\u001b[0m\u001b[0m_model\u001b[0m\u001b[0;34m.\u001b[0m\u001b[0mpredict\u001b[0m\u001b[0;34m(\u001b[0m\u001b[0;34m[\u001b[0m\u001b[0mx_preprocessed\u001b[0m\u001b[0;34m[\u001b[0m\u001b[0mbegin\u001b[0m\u001b[0;34m:\u001b[0m\u001b[0mend\u001b[0m\u001b[0;34m]\u001b[0m\u001b[0;34m]\u001b[0m\u001b[0;34m)\u001b[0m\u001b[0;34m\u001b[0m\u001b[0m\n\u001b[0m\u001b[1;32m    377\u001b[0m \u001b[0;34m\u001b[0m\u001b[0m\n\u001b[1;32m    378\u001b[0m         \u001b[0;31m# Apply postprocessing\u001b[0m\u001b[0;34m\u001b[0m\u001b[0;34m\u001b[0m\u001b[0m\n",
      "\u001b[0;32m~/adver_tf1_gcp/lib/python3.5/site-packages/tensorflow_core/python/keras/engine/training.py\u001b[0m in \u001b[0;36mpredict\u001b[0;34m(self, x, batch_size, verbose, steps, callbacks, max_queue_size, workers, use_multiprocessing)\u001b[0m\n\u001b[1;32m    906\u001b[0m         \u001b[0mmax_queue_size\u001b[0m\u001b[0;34m=\u001b[0m\u001b[0mmax_queue_size\u001b[0m\u001b[0;34m,\u001b[0m\u001b[0;34m\u001b[0m\u001b[0m\n\u001b[1;32m    907\u001b[0m         \u001b[0mworkers\u001b[0m\u001b[0;34m=\u001b[0m\u001b[0mworkers\u001b[0m\u001b[0;34m,\u001b[0m\u001b[0;34m\u001b[0m\u001b[0m\n\u001b[0;32m--> 908\u001b[0;31m         use_multiprocessing=use_multiprocessing)\n\u001b[0m\u001b[1;32m    909\u001b[0m \u001b[0;34m\u001b[0m\u001b[0m\n\u001b[1;32m    910\u001b[0m   \u001b[0;32mdef\u001b[0m \u001b[0mreset_metrics\u001b[0m\u001b[0;34m(\u001b[0m\u001b[0mself\u001b[0m\u001b[0;34m)\u001b[0m\u001b[0;34m:\u001b[0m\u001b[0;34m\u001b[0m\u001b[0m\n",
      "\u001b[0;32m~/adver_tf1_gcp/lib/python3.5/site-packages/tensorflow_core/python/keras/engine/training_arrays.py\u001b[0m in \u001b[0;36mpredict\u001b[0;34m(self, model, x, batch_size, verbose, steps, callbacks, **kwargs)\u001b[0m\n\u001b[1;32m    721\u001b[0m         \u001b[0mverbose\u001b[0m\u001b[0;34m=\u001b[0m\u001b[0mverbose\u001b[0m\u001b[0;34m,\u001b[0m\u001b[0;34m\u001b[0m\u001b[0m\n\u001b[1;32m    722\u001b[0m         \u001b[0msteps\u001b[0m\u001b[0;34m=\u001b[0m\u001b[0msteps\u001b[0m\u001b[0;34m,\u001b[0m\u001b[0;34m\u001b[0m\u001b[0m\n\u001b[0;32m--> 723\u001b[0;31m         callbacks=callbacks)\n\u001b[0m",
      "\u001b[0;32m~/adver_tf1_gcp/lib/python3.5/site-packages/tensorflow_core/python/keras/engine/training_arrays.py\u001b[0m in \u001b[0;36mmodel_iteration\u001b[0;34m(model, inputs, targets, sample_weights, batch_size, epochs, verbose, callbacks, val_inputs, val_targets, val_sample_weights, shuffle, initial_epoch, steps_per_epoch, validation_steps, validation_freq, mode, validation_in_fit, prepared_feed_values_from_dataset, steps_name, **kwargs)\u001b[0m\n\u001b[1;32m    392\u001b[0m \u001b[0;34m\u001b[0m\u001b[0m\n\u001b[1;32m    393\u001b[0m         \u001b[0;31m# Get outputs.\u001b[0m\u001b[0;34m\u001b[0m\u001b[0;34m\u001b[0m\u001b[0m\n\u001b[0;32m--> 394\u001b[0;31m         \u001b[0mbatch_outs\u001b[0m \u001b[0;34m=\u001b[0m \u001b[0mf\u001b[0m\u001b[0;34m(\u001b[0m\u001b[0mins_batch\u001b[0m\u001b[0;34m)\u001b[0m\u001b[0;34m\u001b[0m\u001b[0m\n\u001b[0m\u001b[1;32m    395\u001b[0m         \u001b[0;32mif\u001b[0m \u001b[0;32mnot\u001b[0m \u001b[0misinstance\u001b[0m\u001b[0;34m(\u001b[0m\u001b[0mbatch_outs\u001b[0m\u001b[0;34m,\u001b[0m \u001b[0mlist\u001b[0m\u001b[0;34m)\u001b[0m\u001b[0;34m:\u001b[0m\u001b[0;34m\u001b[0m\u001b[0m\n\u001b[1;32m    396\u001b[0m           \u001b[0mbatch_outs\u001b[0m \u001b[0;34m=\u001b[0m \u001b[0;34m[\u001b[0m\u001b[0mbatch_outs\u001b[0m\u001b[0;34m]\u001b[0m\u001b[0;34m\u001b[0m\u001b[0m\n",
      "\u001b[0;32m~/adver_tf1_gcp/lib/python3.5/site-packages/tensorflow_core/python/keras/backend.py\u001b[0m in \u001b[0;36m__call__\u001b[0;34m(self, inputs)\u001b[0m\n\u001b[1;32m   3474\u001b[0m \u001b[0;34m\u001b[0m\u001b[0m\n\u001b[1;32m   3475\u001b[0m     fetched = self._callable_fn(*array_vals,\n\u001b[0;32m-> 3476\u001b[0;31m                                 run_metadata=self.run_metadata)\n\u001b[0m\u001b[1;32m   3477\u001b[0m     \u001b[0mself\u001b[0m\u001b[0;34m.\u001b[0m\u001b[0m_call_fetch_callbacks\u001b[0m\u001b[0;34m(\u001b[0m\u001b[0mfetched\u001b[0m\u001b[0;34m[\u001b[0m\u001b[0;34m-\u001b[0m\u001b[0mlen\u001b[0m\u001b[0;34m(\u001b[0m\u001b[0mself\u001b[0m\u001b[0;34m.\u001b[0m\u001b[0m_fetches\u001b[0m\u001b[0;34m)\u001b[0m\u001b[0;34m:\u001b[0m\u001b[0;34m]\u001b[0m\u001b[0;34m)\u001b[0m\u001b[0;34m\u001b[0m\u001b[0m\n\u001b[1;32m   3478\u001b[0m     output_structure = nest.pack_sequence_as(\n",
      "\u001b[0;32m~/adver_tf1_gcp/lib/python3.5/site-packages/tensorflow_core/python/client/session.py\u001b[0m in \u001b[0;36m__call__\u001b[0;34m(self, *args, **kwargs)\u001b[0m\n\u001b[1;32m   1470\u001b[0m         ret = tf_session.TF_SessionRunCallable(self._session._session,\n\u001b[1;32m   1471\u001b[0m                                                \u001b[0mself\u001b[0m\u001b[0;34m.\u001b[0m\u001b[0m_handle\u001b[0m\u001b[0;34m,\u001b[0m \u001b[0margs\u001b[0m\u001b[0;34m,\u001b[0m\u001b[0;34m\u001b[0m\u001b[0m\n\u001b[0;32m-> 1472\u001b[0;31m                                                run_metadata_ptr)\n\u001b[0m\u001b[1;32m   1473\u001b[0m         \u001b[0;32mif\u001b[0m \u001b[0mrun_metadata\u001b[0m\u001b[0;34m:\u001b[0m\u001b[0;34m\u001b[0m\u001b[0m\n\u001b[1;32m   1474\u001b[0m           \u001b[0mproto_data\u001b[0m \u001b[0;34m=\u001b[0m \u001b[0mtf_session\u001b[0m\u001b[0;34m.\u001b[0m\u001b[0mTF_GetBuffer\u001b[0m\u001b[0;34m(\u001b[0m\u001b[0mrun_metadata_ptr\u001b[0m\u001b[0;34m)\u001b[0m\u001b[0;34m\u001b[0m\u001b[0m\n",
      "\u001b[0;31mKeyboardInterrupt\u001b[0m: "
     ]
    }
   ],
   "source": [
    "flat_art_clf = KerasClassifier(model=ge_flat_clf, clip_values=(0, 1), use_logits=True)\n",
    "\n",
    "attack_FEN = FunctionallyEquivalentExtraction(classifier=flat_art_clf, num_neurons=10)\n",
    "stolen_clf_FEN = attack_FEN.extract(partial_x_train)"
   ]
  },
  {
   "cell_type": "code",
   "execution_count": 40,
   "metadata": {},
   "outputs": [
    {
     "name": "stdout",
     "output_type": "stream",
     "text": [
      "5000/5000 [==============================] - 1s 230us/sample - loss: 1.9642 - acc: 0.2714\n"
     ]
    },
    {
     "data": {
      "text/plain": [
       "[1.9641792720794677, 0.2714]"
      ]
     },
     "execution_count": 40,
     "metadata": {},
     "output_type": "execute_result"
    }
   ],
   "source": [
    "### Sanity check\n",
    "# stolen_clf1._model.evaluate(partial_x_train, partial_y_train)\n",
    "\n",
    "stolen_clf2._model.evaluate(partial_x_train, partial_y_train)\n",
    "\n",
    "# stolen_clf_FEN._model.evaluate(partial_x_train, partial_y_train)"
   ]
  },
  {
   "cell_type": "code",
   "execution_count": 41,
   "metadata": {
    "pycharm": {
     "name": "#%%\n"
    }
   },
   "outputs": [
    {
     "name": "stdout",
     "output_type": "stream",
     "text": [
      "1000/1000 [==============================] - 2s 2ms/sample - loss: 0.0017 - acc: 1.0000\n",
      "1000/1000 [==============================] - 0s 313us/sample - loss: 2.3028 - acc: 0.1110\n",
      "1000/1000 [==============================] - 0s 220us/sample - loss: 1.9562 - acc: 0.2750\n"
     ]
    },
    {
     "data": {
      "text/plain": [
       "[1.9562057876586914, 0.275]"
      ]
     },
     "execution_count": 41,
     "metadata": {},
     "output_type": "execute_result"
    }
   ],
   "source": [
    "cloud_art_clf._model.evaluate(x_train_adv, y_train_adv)\n",
    "stolen_clf1._model.evaluate(x_train_adv, y_train_adv)\n",
    "stolen_clf2._model.evaluate(x_train_adv, y_train_adv)\n",
    "# stolen_clf_FEN._model.evaluate(x_train_adv, y_train_adv)"
   ]
  },
  {
   "cell_type": "code",
   "execution_count": 33,
   "metadata": {},
   "outputs": [
    {
     "name": "stdout",
     "output_type": "stream",
     "text": [
      "1000/1000 [==============================] - 2s 2ms/sample - loss: 0.2134 - acc: 0.9440\n",
      "1000/1000 [==============================] - 0s 214us/sample - loss: 2.2959 - acc: 0.1360\n",
      "1000/1000 [==============================] - 0s 215us/sample - loss: 7.9670 - acc: 0.2700\n"
     ]
    },
    {
     "data": {
      "text/plain": [
       "[7.966978118896485, 0.27]"
      ]
     },
     "execution_count": 33,
     "metadata": {},
     "output_type": "execute_result"
    }
   ],
   "source": [
    "cloud_art_clf._model.evaluate(x_test_adv, y_test_adv)\n",
    "stolen_clf1._model.evaluate(x_test_adv, y_test_adv)\n",
    "stolen_clf2._model.evaluate(x_test_adv, y_test_adv)\n",
    "# stolen_clf_FEN._model.evaluate(x_test_adv, y_test_adv)"
   ]
  },
  {
   "cell_type": "code",
   "execution_count": null,
   "metadata": {},
   "outputs": [],
   "source": []
  }
 ],
 "metadata": {
  "colab": {
   "name": "Adversarial CIFAR.ipynb",
   "provenance": []
  },
  "kernelspec": {
   "display_name": "adver_tf1_gcp",
   "language": "python",
   "name": "adver_tf1_gcp"
  },
  "language_info": {
   "codemirror_mode": {
    "name": "ipython",
    "version": 3
   },
   "file_extension": ".py",
   "mimetype": "text/x-python",
   "name": "python",
   "nbconvert_exporter": "python",
   "pygments_lexer": "ipython3",
   "version": "3.5.3"
  }
 },
 "nbformat": 4,
 "nbformat_minor": 4
}
