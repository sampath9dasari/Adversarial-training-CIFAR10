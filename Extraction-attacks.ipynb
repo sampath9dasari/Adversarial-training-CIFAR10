{
 "nbformat": 4,
 "nbformat_minor": 0,
 "metadata": {
  "colab": {
   "name": "Adversarial CIFAR.ipynb",
   "provenance": []
  },
  "kernelspec": {
   "name": "python3",
   "language": "python",
   "display_name": "Python 3"
  }
 },
 "cells": [
  {
   "cell_type": "code",
   "metadata": {
    "id": "vtGWRtigJF2z",
    "colab_type": "code",
    "colab": {}
   },
   "source": [
    "import tensorflow as tf\n",
    "import warnings\n",
    "warnings.filterwarnings('ignore')\n",
    "\n",
    "import numpy as np\n",
    "import os\n",
    "import matplotlib.pyplot as plt\n",
    "import matplotlib.image as img\n",
    "%matplotlib inline\n",
    "\n",
    "import tensorflow_hub as thub\n",
    "\n",
    "from art.classifiers import KerasClassifier\n",
    "from art.attacks import FastGradientMethod\n",
    "\n",
    "from lib.data_utils import *"
   ],
   "execution_count": 8,
   "outputs": []
  },
  {
   "cell_type": "code",
   "metadata": {
    "id": "i66r2k7oJA27",
    "colab_type": "code",
    "colab": {
     "base_uri": "https://localhost:8080/",
     "height": 88
    },
    "outputId": "3caa5019-c9ca-43fc-aef7-75e2ea4f0e67"
   },
   "source": [
    "# most of our imports\n",
    "import warnings\n",
    "import numpy as np\n",
    "import os\n",
    "with warnings.catch_warnings():\n",
    "    import keras # keras is still using some deprectade code\n",
    "from keras.layers import Conv2D, MaxPooling2D, Dropout, Flatten, Dense\n",
    "from cleverhans.utils_keras import KerasModelWrapper\n",
    "from cleverhans.attacks import BasicIterativeMethod, FastGradientMethod, CarliniWagnerL2\n",
    "%matplotlib inline \n",
    "import matplotlib.pyplot as plt\n",
    "import tensorflow as tf\n",
    "from art.classifiers import KerasClassifier\n"
   ],
   "execution_count": 3,
   "outputs": [
    {
     "output_type": "stream",
     "text": [
      "WARNING:tensorflow:From /usr/local/lib/python3.6/dist-packages/cleverhans/utils_tf.py:345: The name tf.GraphKeys is deprecated. Please use tf.compat.v1.GraphKeys instead.\n",
      "\n"
     ],
     "name": "stdout"
    },
    {
     "output_type": "stream",
     "text": [
      "Using TensorFlow backend.\n"
     ],
     "name": "stderr"
    }
   ]
  },
  {
   "cell_type": "code",
   "metadata": {
    "id": "UmD6m3HRJMXc",
    "colab_type": "code",
    "colab": {}
   },
   "source": [
    "def convert_to_keras_image_format( x_train, x_test ):\n",
    "    if keras.backend.image_data_format( ) == 'channels_first':\n",
    "        x_train = x_train.reshape( x_train.shape[ 0 ], 1, x_train.shape[ 1 ], x_train.shape[ 2 ] )\n",
    "        x_test = x_test.reshape( x_test.shape[ 0 ], 1, x_train.shape[ 1 ], x_train.shape[ 2 ] )\n",
    "    else:\n",
    "        x_train = x_train.reshape( x_train.shape[ 0 ], x_train.shape[ 1 ], x_train.shape[ 2 ], 1 )\n",
    "        x_test = x_test.reshape( x_test.shape[ 0 ], x_train.shape[ 1 ], x_train.shape[ 2 ], 1 )\n",
    "\n",
    "    return x_train, x_test"
   ],
   "execution_count": 0,
   "outputs": []
  },
  {
   "cell_type": "code",
   "metadata": {
    "id": "hpom9Hy7JPVV",
    "colab_type": "code",
    "colab": {}
   },
   "source": [
    "# # most of our imports\n",
    "# import warnings\n",
    "import numpy as np\n",
    "import os\n",
    "import matplotlib.pyplot as plt\n",
    "import matplotlib.image as img\n",
    "%matplotlib inline\n",
    "\n",
    "import tensorflow as tf\n",
    "import tensorflow_hub as thub\n",
    "from tensorflow.keras.models import Model\n",
    "from tensorflow.keras.layers import Input\n",
    "from tensorflow.keras import Sequential\n",
    "from tensorflow.keras.optimizers import SGD\n",
    "from tensorflow.keras.losses import CategoricalCrossentropy\n",
    "from tensorflow.keras.utils import to_categorical\n",
    "\n",
    "# from keras.models import Model\n",
    "# from keras.layers import Input\n",
    "# from keras import Sequential\n",
    "# from keras.optimizers import SGD\n",
    "# from keras.losses import CategoricalCrossentropy\n",
    "# from keras.utils import to_categorical\n",
    "# from keras.layers import Conv2D, MaxPooling2D, Dropout, Flatten, Dense\n",
    "\n",
    "# from art.classifiers import KerasClassifier\n",
    "\n",
    "# from lib.data_utils import *"
   ],
   "execution_count": 0,
   "outputs": []
  },
  {
   "cell_type": "code",
   "metadata": {
    "id": "cJ9lwH3jbohO",
    "colab_type": "code",
    "colab": {}
   },
   "source": [
    "# Load the raw CIFAR-10 data\n",
    "cifar10_dir = 'lib/datasets/cifar-10-batches-py'\n",
    "x_train, y_train, x_test, y_test = load_cifar10(cifar10_dir)\n",
    "\n",
    "print('x_train shape:', x_train.shape)\n",
    "print(x_train.shape[0], 'train samples')\n",
    "print(x_test.shape[0], 'test samples')\n",
    "\n",
    "# Convert class vectors to binary class matrices.\n",
    "y_train = tf.keras.utils.to_categorical(y_train, 10)\n",
    "y_test = tf.keras.utils.to_categorical(y_test, 10)"
   ],
   "execution_count": 5,
   "outputs": [
    {
     "name": "stdout",
     "output_type": "stream",
     "text": [
      "x_train shape: (50000, 32, 32, 3)\n",
      "50000 train samples\n",
      "10000 test samples\n"
     ]
    }
   ]
  },
  {
   "cell_type": "code",
   "metadata": {
    "id": "HkN3V0v_cZBj",
    "colab_type": "code",
    "colab": {}
   },
   "source": [
    "testd = x_train[0:1000]/255\n",
    "testl = y_train[0:1000]"
   ],
   "execution_count": 6,
   "outputs": []
  },
  {
   "cell_type": "code",
   "metadata": {
    "id": "d1FoCMs5JiD7",
    "colab_type": "code",
    "colab": {}
   },
   "source": [
    "model_url = \"https://tfhub.dev/deepmind/ganeval-cifar10-convnet/1\"\n",
    "\n",
    "gan_eval_layer = thub.KerasLayer(model_url)"
   ],
   "execution_count": 9,
   "outputs": [
    {
     "ename": "OSError",
     "evalue": "SavedModel file does not exist at: /var/folders/fj/_ghtrmrs4sq75w4yjfz9ncv00000gn/T/tfhub_modules/979b58b4aef29e685778ce8c50561ec3862fa997/{saved_model.pbtxt|saved_model.pb}",
     "output_type": "error",
     "traceback": [
      "\u001B[0;31m---------------------------------------------------------------------------\u001B[0m",
      "\u001B[0;31mOSError\u001B[0m                                   Traceback (most recent call last)",
      "\u001B[0;32m<ipython-input-9-a63b820a898c>\u001B[0m in \u001B[0;36m<module>\u001B[0;34m\u001B[0m\n\u001B[1;32m      1\u001B[0m \u001B[0mmodel_url\u001B[0m \u001B[0;34m=\u001B[0m \u001B[0;34m\"https://tfhub.dev/deepmind/ganeval-cifar10-convnet/1\"\u001B[0m\u001B[0;34m\u001B[0m\u001B[0;34m\u001B[0m\u001B[0m\n\u001B[1;32m      2\u001B[0m \u001B[0;34m\u001B[0m\u001B[0m\n\u001B[0;32m----> 3\u001B[0;31m \u001B[0mgan_eval_layer\u001B[0m \u001B[0;34m=\u001B[0m \u001B[0mthub\u001B[0m\u001B[0;34m.\u001B[0m\u001B[0mKerasLayer\u001B[0m\u001B[0;34m(\u001B[0m\u001B[0mmodel_url\u001B[0m\u001B[0;34m)\u001B[0m\u001B[0;34m\u001B[0m\u001B[0;34m\u001B[0m\u001B[0m\n\u001B[0m\u001B[1;32m      4\u001B[0m \u001B[0;34m\u001B[0m\u001B[0m\n",
      "\u001B[0;32m/usr/local/anaconda3/envs/adverml/lib/python3.7/site-packages/tensorflow_hub/keras_layer.py\u001B[0m in \u001B[0;36m__init__\u001B[0;34m(self, handle, trainable, arguments, _sentinel, tags, signature, signature_outputs_as_dict, output_key, output_shape, **kwargs)\u001B[0m\n\u001B[1;32m    144\u001B[0m           _convert_nest_to_shapes(output_shape))\n\u001B[1;32m    145\u001B[0m \u001B[0;34m\u001B[0m\u001B[0m\n\u001B[0;32m--> 146\u001B[0;31m     \u001B[0mself\u001B[0m\u001B[0;34m.\u001B[0m\u001B[0m_func\u001B[0m \u001B[0;34m=\u001B[0m \u001B[0mload_module\u001B[0m\u001B[0;34m(\u001B[0m\u001B[0mhandle\u001B[0m\u001B[0;34m,\u001B[0m \u001B[0mtags\u001B[0m\u001B[0;34m)\u001B[0m\u001B[0;34m\u001B[0m\u001B[0;34m\u001B[0m\u001B[0m\n\u001B[0m\u001B[1;32m    147\u001B[0m     \u001B[0mself\u001B[0m\u001B[0;34m.\u001B[0m\u001B[0m_has_training_argument\u001B[0m \u001B[0;34m=\u001B[0m \u001B[0mfunc_has_training_argument\u001B[0m\u001B[0;34m(\u001B[0m\u001B[0mself\u001B[0m\u001B[0;34m.\u001B[0m\u001B[0m_func\u001B[0m\u001B[0;34m)\u001B[0m\u001B[0;34m\u001B[0m\u001B[0;34m\u001B[0m\u001B[0m\n\u001B[1;32m    148\u001B[0m     \u001B[0mself\u001B[0m\u001B[0;34m.\u001B[0m\u001B[0m_is_hub_module_v1\u001B[0m \u001B[0;34m=\u001B[0m \u001B[0mgetattr\u001B[0m\u001B[0;34m(\u001B[0m\u001B[0mself\u001B[0m\u001B[0;34m.\u001B[0m\u001B[0m_func\u001B[0m\u001B[0;34m,\u001B[0m \u001B[0;34m\"_is_hub_module_v1\"\u001B[0m\u001B[0;34m,\u001B[0m \u001B[0;32mFalse\u001B[0m\u001B[0;34m)\u001B[0m\u001B[0;34m\u001B[0m\u001B[0;34m\u001B[0m\u001B[0m\n",
      "\u001B[0;32m/usr/local/anaconda3/envs/adverml/lib/python3.7/site-packages/tensorflow_hub/keras_layer.py\u001B[0m in \u001B[0;36mload_module\u001B[0;34m(handle, tags)\u001B[0m\n\u001B[1;32m    396\u001B[0m     \u001B[0;32mreturn\u001B[0m \u001B[0mhandle\u001B[0m\u001B[0;34m\u001B[0m\u001B[0;34m\u001B[0m\u001B[0m\n\u001B[1;32m    397\u001B[0m   \u001B[0;32melse\u001B[0m\u001B[0;34m:\u001B[0m\u001B[0;34m\u001B[0m\u001B[0;34m\u001B[0m\u001B[0m\n\u001B[0;32m--> 398\u001B[0;31m     \u001B[0;32mreturn\u001B[0m \u001B[0mmodule_v2\u001B[0m\u001B[0;34m.\u001B[0m\u001B[0mload\u001B[0m\u001B[0;34m(\u001B[0m\u001B[0mhandle\u001B[0m\u001B[0;34m,\u001B[0m \u001B[0mtags\u001B[0m\u001B[0;34m=\u001B[0m\u001B[0mtags\u001B[0m\u001B[0;34m)\u001B[0m\u001B[0;34m\u001B[0m\u001B[0;34m\u001B[0m\u001B[0m\n\u001B[0m\u001B[1;32m    399\u001B[0m \u001B[0;34m\u001B[0m\u001B[0m\n\u001B[1;32m    400\u001B[0m \u001B[0;34m\u001B[0m\u001B[0m\n",
      "\u001B[0;32m/usr/local/anaconda3/envs/adverml/lib/python3.7/site-packages/tensorflow_hub/module_v2.py\u001B[0m in \u001B[0;36mload\u001B[0;34m(handle, tags)\u001B[0m\n\u001B[1;32m    100\u001B[0m   \u001B[0;32mif\u001B[0m \u001B[0mtags\u001B[0m \u001B[0;32mis\u001B[0m \u001B[0;32mNone\u001B[0m \u001B[0;32mand\u001B[0m \u001B[0mis_hub_module_v1\u001B[0m\u001B[0;34m:\u001B[0m\u001B[0;34m\u001B[0m\u001B[0;34m\u001B[0m\u001B[0m\n\u001B[1;32m    101\u001B[0m       \u001B[0mtags\u001B[0m \u001B[0;34m=\u001B[0m \u001B[0;34m[\u001B[0m\u001B[0;34m]\u001B[0m\u001B[0;34m\u001B[0m\u001B[0;34m\u001B[0m\u001B[0m\n\u001B[0;32m--> 102\u001B[0;31m   \u001B[0mobj\u001B[0m \u001B[0;34m=\u001B[0m \u001B[0mtf_v1\u001B[0m\u001B[0;34m.\u001B[0m\u001B[0msaved_model\u001B[0m\u001B[0;34m.\u001B[0m\u001B[0mload_v2\u001B[0m\u001B[0;34m(\u001B[0m\u001B[0mmodule_path\u001B[0m\u001B[0;34m,\u001B[0m \u001B[0mtags\u001B[0m\u001B[0;34m=\u001B[0m\u001B[0mtags\u001B[0m\u001B[0;34m)\u001B[0m\u001B[0;34m\u001B[0m\u001B[0;34m\u001B[0m\u001B[0m\n\u001B[0m\u001B[1;32m    103\u001B[0m   \u001B[0mobj\u001B[0m\u001B[0;34m.\u001B[0m\u001B[0m_is_hub_module_v1\u001B[0m \u001B[0;34m=\u001B[0m \u001B[0mis_hub_module_v1\u001B[0m  \u001B[0;31m# pylint: disable=protected-access\u001B[0m\u001B[0;34m\u001B[0m\u001B[0;34m\u001B[0m\u001B[0m\n\u001B[1;32m    104\u001B[0m   \u001B[0;32mreturn\u001B[0m \u001B[0mobj\u001B[0m\u001B[0;34m\u001B[0m\u001B[0;34m\u001B[0m\u001B[0m\n",
      "\u001B[0;32m/usr/local/anaconda3/envs/adverml/lib/python3.7/site-packages/tensorflow_core/python/saved_model/load.py\u001B[0m in \u001B[0;36mload\u001B[0;34m(export_dir, tags)\u001B[0m\n\u001B[1;32m    526\u001B[0m     \u001B[0mValueError\u001B[0m\u001B[0;34m:\u001B[0m \u001B[0mIf\u001B[0m\u001B[0;31m \u001B[0m\u001B[0;31m`\u001B[0m\u001B[0mtags\u001B[0m\u001B[0;31m`\u001B[0m \u001B[0mdon\u001B[0m\u001B[0;31m'\u001B[0m\u001B[0mt\u001B[0m \u001B[0mmatch\u001B[0m \u001B[0ma\u001B[0m \u001B[0mMetaGraph\u001B[0m \u001B[0;32min\u001B[0m \u001B[0mthe\u001B[0m \u001B[0mSavedModel\u001B[0m\u001B[0;34m.\u001B[0m\u001B[0;34m\u001B[0m\u001B[0;34m\u001B[0m\u001B[0m\n\u001B[1;32m    527\u001B[0m   \"\"\"\n\u001B[0;32m--> 528\u001B[0;31m   \u001B[0;32mreturn\u001B[0m \u001B[0mload_internal\u001B[0m\u001B[0;34m(\u001B[0m\u001B[0mexport_dir\u001B[0m\u001B[0;34m,\u001B[0m \u001B[0mtags\u001B[0m\u001B[0;34m)\u001B[0m\u001B[0;34m\u001B[0m\u001B[0;34m\u001B[0m\u001B[0m\n\u001B[0m\u001B[1;32m    529\u001B[0m \u001B[0;34m\u001B[0m\u001B[0m\n\u001B[1;32m    530\u001B[0m \u001B[0;34m\u001B[0m\u001B[0m\n",
      "\u001B[0;32m/usr/local/anaconda3/envs/adverml/lib/python3.7/site-packages/tensorflow_core/python/saved_model/load.py\u001B[0m in \u001B[0;36mload_internal\u001B[0;34m(export_dir, tags, loader_cls)\u001B[0m\n\u001B[1;32m    535\u001B[0m     \u001B[0;31m# sequences for nest.flatten, so we put those through as-is.\u001B[0m\u001B[0;34m\u001B[0m\u001B[0;34m\u001B[0m\u001B[0;34m\u001B[0m\u001B[0m\n\u001B[1;32m    536\u001B[0m     \u001B[0mtags\u001B[0m \u001B[0;34m=\u001B[0m \u001B[0mnest\u001B[0m\u001B[0;34m.\u001B[0m\u001B[0mflatten\u001B[0m\u001B[0;34m(\u001B[0m\u001B[0mtags\u001B[0m\u001B[0;34m)\u001B[0m\u001B[0;34m\u001B[0m\u001B[0;34m\u001B[0m\u001B[0m\n\u001B[0;32m--> 537\u001B[0;31m   \u001B[0msaved_model_proto\u001B[0m \u001B[0;34m=\u001B[0m \u001B[0mloader_impl\u001B[0m\u001B[0;34m.\u001B[0m\u001B[0mparse_saved_model\u001B[0m\u001B[0;34m(\u001B[0m\u001B[0mexport_dir\u001B[0m\u001B[0;34m)\u001B[0m\u001B[0;34m\u001B[0m\u001B[0;34m\u001B[0m\u001B[0m\n\u001B[0m\u001B[1;32m    538\u001B[0m   if (len(saved_model_proto.meta_graphs) == 1\n\u001B[1;32m    539\u001B[0m       and saved_model_proto.meta_graphs[0].HasField(\"object_graph_def\")):\n",
      "\u001B[0;32m/usr/local/anaconda3/envs/adverml/lib/python3.7/site-packages/tensorflow_core/python/saved_model/loader_impl.py\u001B[0m in \u001B[0;36mparse_saved_model\u001B[0;34m(export_dir)\u001B[0m\n\u001B[1;32m     81\u001B[0m                   (export_dir,\n\u001B[1;32m     82\u001B[0m                    \u001B[0mconstants\u001B[0m\u001B[0;34m.\u001B[0m\u001B[0mSAVED_MODEL_FILENAME_PBTXT\u001B[0m\u001B[0;34m,\u001B[0m\u001B[0;34m\u001B[0m\u001B[0;34m\u001B[0m\u001B[0m\n\u001B[0;32m---> 83\u001B[0;31m                    constants.SAVED_MODEL_FILENAME_PB))\n\u001B[0m\u001B[1;32m     84\u001B[0m \u001B[0;34m\u001B[0m\u001B[0m\n\u001B[1;32m     85\u001B[0m \u001B[0;34m\u001B[0m\u001B[0m\n",
      "\u001B[0;31mOSError\u001B[0m: SavedModel file does not exist at: /var/folders/fj/_ghtrmrs4sq75w4yjfz9ncv00000gn/T/tfhub_modules/979b58b4aef29e685778ce8c50561ec3862fa997/{saved_model.pbtxt|saved_model.pb}"
     ]
    }
   ]
  },
  {
   "cell_type": "code",
   "metadata": {
    "id": "qYJea4swJpps",
    "colab_type": "code",
    "colab": {
     "base_uri": "https://localhost:8080/",
     "height": 88
    },
    "outputId": "5d245fcc-9bd2-409f-806e-d6ac06bc6d92"
   },
   "source": [
    "gan_eval_model = tf.keras.Sequential([tf.keras.layers.InputLayer(input_shape=(32,32,3)),gan_eval_layer,tf.keras.Activation()])\n",
    "# gan_eval_model = Sequential([gan_eval_layer])\n",
    "# gan_eval_model.build(input_shape=(None,32,32,3))"
   ],
   "execution_count": null,
   "outputs": []
  },
  {
   "cell_type": "code",
   "metadata": {
    "id": "S3S0tS3eJuxN",
    "colab_type": "code",
    "colab": {
     "base_uri": "https://localhost:8080/",
     "height": 187
    },
    "outputId": "944b2321-5736-4ff2-8a85-fcac468322ff"
   },
   "source": [
    "gan_eval_model.compile(\n",
    "  optimizer=SGD(lr=0.1, momentum=0.9, decay=1e-4),\n",
    "  loss=CategoricalCrossentropy(),\n",
    "  metrics=['accuracy'])\n",
    "gan_eval_model.summary()"
   ],
   "execution_count": 19,
   "outputs": [
    {
     "output_type": "stream",
     "text": [
      "Model: \"sequential_1\"\n",
      "_________________________________________________________________\n",
      "Layer (type)                 Output Shape              Param #   \n",
      "=================================================================\n",
      "keras_layer_1 (KerasLayer)   (None, 10)                7796426   \n",
      "=================================================================\n",
      "Total params: 7,796,426\n",
      "Trainable params: 0\n",
      "Non-trainable params: 7,796,426\n",
      "_________________________________________________________________\n"
     ],
     "name": "stdout"
    }
   ]
  },
  {
   "cell_type": "code",
   "metadata": {
    "id": "FNmpFslsKbfD",
    "colab_type": "code",
    "colab": {}
   },
   "source": [
    "classifier = KerasClassifier(model=gan_eval_model, clip_values=(0, 1), use_logits=True)\n",
    "attack_fgsm = FastGradientMethod(classifier=classifier, eps=0.3)"
   ],
   "execution_count": 0,
   "outputs": []
  },
  {
   "cell_type": "code",
   "metadata": {
    "id": "t1nIaChockte",
    "colab_type": "code",
    "colab": {}
   },
   "source": [
    "x_test_adv = attack_fgsm.generate(testd)"
   ],
   "execution_count": 0,
   "outputs": []
  },
  {
   "cell_type": "code",
   "metadata": {
    "id": "dH4KvoVocrqf",
    "colab_type": "code",
    "colab": {
     "base_uri": "https://localhost:8080/",
     "height": 51
    },
    "outputId": "dd3f1325-b761-428f-ad6b-f55b1b265e6d"
   },
   "source": [
    "gan_eval_model.evaluate(x_test_adv, testl)"
   ],
   "execution_count": 39,
   "outputs": [
    {
     "output_type": "stream",
     "text": [
      "1000/1000 [==============================] - 11s 11ms/sample - loss: 1.1921e-07 - acc: 1.0000\n"
     ],
     "name": "stdout"
    },
    {
     "output_type": "execute_result",
     "data": {
      "text/plain": [
       "[1.1920928955078125e-07, 1.0]"
      ]
     },
     "metadata": {
      "tags": []
     },
     "execution_count": 39
    }
   ]
  },
  {
   "cell_type": "code",
   "metadata": {
    "id": "TzxZxVJveSkX",
    "colab_type": "code",
    "colab": {
     "base_uri": "https://localhost:8080/",
     "height": 136
    },
    "outputId": "89fae5c8-6229-4691-e8c0-752013cd3e45"
   },
   "source": [
    "testl"
   ],
   "execution_count": 33,
   "outputs": [
    {
     "output_type": "execute_result",
     "data": {
      "text/plain": [
       "array([[0., 0., 0., ..., 0., 0., 0.],\n",
       "       [0., 0., 0., ..., 0., 0., 1.],\n",
       "       [0., 0., 0., ..., 0., 0., 1.],\n",
       "       ...,\n",
       "       [0., 1., 0., ..., 0., 0., 0.],\n",
       "       [0., 0., 0., ..., 0., 0., 0.],\n",
       "       [0., 0., 0., ..., 0., 0., 0.]], dtype=float32)"
      ]
     },
     "metadata": {
      "tags": []
     },
     "execution_count": 33
    }
   ]
  },
  {
   "cell_type": "code",
   "metadata": {
    "id": "bPyhJIb9eXo4",
    "colab_type": "code",
    "colab": {}
   },
   "source": [
    "lt = gan_eval_model.predict(x_test_adv)"
   ],
   "execution_count": 0,
   "outputs": []
  },
  {
   "cell_type": "code",
   "metadata": {
    "id": "TemgsgNjeazq",
    "colab_type": "code",
    "colab": {
     "base_uri": "https://localhost:8080/",
     "height": 238
    },
    "outputId": "678c9694-29ce-46e0-eb91-890732a4f8aa"
   },
   "source": [
    "lt"
   ],
   "execution_count": 41,
   "outputs": [
    {
     "output_type": "execute_result",
     "data": {
      "text/plain": [
       "array([[-2.4097886 , -3.1525166 , -1.6822641 , ...,  1.4174325 ,\n",
       "        -5.4198    , -2.9038186 ],\n",
       "       [-1.9242427 ,  0.77200556, -2.3829396 , ..., -2.9516826 ,\n",
       "         1.2336738 , 12.365367  ],\n",
       "       [ 0.6440714 , -1.5064375 ,  2.2270122 , ..., -0.9539639 ,\n",
       "         0.7637255 , 11.43376   ],\n",
       "       ...,\n",
       "       [-1.6161097 , 13.830811  , -1.5407586 , ..., -3.7686806 ,\n",
       "         2.415141  ,  1.8893585 ],\n",
       "       [ 2.3144345 , -1.8472934 ,  0.5314843 , ..., -1.0430295 ,\n",
       "        -1.3715537 , -3.2575228 ],\n",
       "       [-4.9218826 , -0.9399113 ,  0.02922496, ..., -1.741168  ,\n",
       "        -2.3313975 , -1.965477  ]], dtype=float32)"
      ]
     },
     "metadata": {
      "tags": []
     },
     "execution_count": 41
    }
   ]
  },
  {
   "cell_type": "code",
   "metadata": {
    "id": "__PsncRXfmmz",
    "colab_type": "code",
    "colab": {}
   },
   "source": [
    ""
   ],
   "execution_count": 0,
   "outputs": []
  }
 ]
}